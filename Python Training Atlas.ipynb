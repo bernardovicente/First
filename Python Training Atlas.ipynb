{
 "cells": [
  {
   "cell_type": "markdown",
   "id": "37dfaac8",
   "metadata": {},
   "source": [
    "# Python Training"
   ]
  },
  {
   "cell_type": "markdown",
   "id": "30956f7b",
   "metadata": {},
   "source": [
    "## 1. Variables and other basic functions"
   ]
  },
  {
   "cell_type": "markdown",
   "id": "dc98ff27",
   "metadata": {},
   "source": [
    "### a. Definiton and Types of Variables"
   ]
  },
  {
   "cell_type": "markdown",
   "id": "6efa58af",
   "metadata": {},
   "source": [
    "A variable is a fundamental concept in any programming language. It is a reserved memory location that stores and manipulates data.\n",
    "\n",
    "Python has no command for declaring a variable. A variable is created the moment you first assign a value to it.\n",
    "\n",
    "Example:"
   ]
  },
  {
   "cell_type": "code",
   "execution_count": 1,
   "id": "94f684ed",
   "metadata": {},
   "outputs": [],
   "source": [
    "x = \"Hello I'm a Variable\"\n",
    "\n",
    "y = 45\n",
    "\n",
    "z = 20\n",
    "\n",
    "y = z + y\n",
    "\n",
    "n = 6.5\n",
    "\n",
    "x = None\n",
    "\n"
   ]
  },
  {
   "cell_type": "markdown",
   "id": "cb3ceb89",
   "metadata": {},
   "source": [
    "##### Common Types of Variables:\n",
    "\n",
    "__Integer or int__ - Whole Numbers (1,2,6,87)\n",
    "\n",
    "__Float__ - Decimal Numbers \n",
    "\n",
    "__String or str__ - Text/Strings (\"Portugal\")\n",
    "\n",
    "__Boolean__ - Yes or No (True or False)\n",
    "\n",
    "__None Type or null__ - None\n",
    "\n",
    "__Lists__ - Collection of items in a certain order [\"Element of the List1\",\"Element of the List2\",\"Element of the List3\"]          (will be explained in more detail later)"
   ]
  },
  {
   "cell_type": "markdown",
   "id": "6fc55d73",
   "metadata": {},
   "source": [
    "You can get the data type of a variable with the type(x) function."
   ]
  },
  {
   "cell_type": "code",
   "execution_count": 72,
   "id": "42d5162e",
   "metadata": {},
   "outputs": [
    {
     "data": {
      "text/plain": [
       "int"
      ]
     },
     "execution_count": 72,
     "metadata": {},
     "output_type": "execute_result"
    }
   ],
   "source": [
    "type(y)\n"
   ]
  },
  {
   "cell_type": "markdown",
   "id": "5c52b72c",
   "metadata": {},
   "source": [
    "Variables do not need to be declared with any particular type, and can even change type after they have been set."
   ]
  },
  {
   "cell_type": "code",
   "execution_count": 73,
   "id": "beb7a25e",
   "metadata": {},
   "outputs": [
    {
     "name": "stdout",
     "output_type": "stream",
     "text": [
      "Now y is <class 'str'>\n",
      "And now it is <class 'int'>\n"
     ]
    }
   ],
   "source": [
    "y = \"I'm also a variable\"\n",
    "print(\"Now y is\",type(y))\n",
    "\n",
    "y = 2\n",
    "\n",
    "print(\"And now it is\",type(y))\n"
   ]
  },
  {
   "cell_type": "markdown",
   "id": "88f137d4",
   "metadata": {},
   "source": [
    "String variables can be declared either by using single or double quotes “ ” or ‘ ’. "
   ]
  },
  {
   "cell_type": "code",
   "execution_count": 13,
   "id": "0fbb8aac",
   "metadata": {},
   "outputs": [],
   "source": [
    "string1 = \"This is a string variable\"\n",
    "\n",
    "string2 = 'This is another string variable'\n"
   ]
  },
  {
   "cell_type": "markdown",
   "id": "6883392a",
   "metadata": {},
   "source": [
    "### b. Convert Variables"
   ]
  },
  {
   "cell_type": "markdown",
   "id": "6ec4732c",
   "metadata": {},
   "source": [
    "The process of converting the value of one data type (integer, string, float, etc.) to another data type is called type conversion.\n",
    "\n",
    "We can predefined functions like int(), float(), str(), etc to perform explicit type conversion."
   ]
  },
  {
   "cell_type": "code",
   "execution_count": 77,
   "id": "f837341b",
   "metadata": {},
   "outputs": [
    {
     "name": "stdout",
     "output_type": "stream",
     "text": [
      "x is <class 'str'>\n",
      "And now it is <class 'int'>\n"
     ]
    }
   ],
   "source": [
    "x = \"56\"\n",
    "print(\"x is\",type(x))\n",
    "\n",
    "\n",
    "\n",
    "y = int(x)\n",
    "\n",
    "\n",
    "\n",
    "print(\"And now it is\",type(y))"
   ]
  },
  {
   "cell_type": "code",
   "execution_count": 81,
   "id": "6c81f5cc",
   "metadata": {},
   "outputs": [
    {
     "name": "stdout",
     "output_type": "stream",
     "text": [
      "20\n",
      "20.0\n"
     ]
    }
   ],
   "source": [
    "z = 20\n",
    "print(z)\n",
    "\n",
    "z = float(z)\n",
    "\n",
    "print(z)"
   ]
  },
  {
   "cell_type": "markdown",
   "id": "dbd7c350",
   "metadata": {},
   "source": [
    "### c. Print Function"
   ]
  },
  {
   "cell_type": "markdown",
   "id": "ce986ecd",
   "metadata": {},
   "source": [
    "The print() function prints the specified message to the screen, or other standard output device. The message can be a string, or any other object, the object will be converted into a string before written to the screen."
   ]
  },
  {
   "cell_type": "code",
   "execution_count": 21,
   "id": "ab4fea85",
   "metadata": {},
   "outputs": [
    {
     "name": "stdout",
     "output_type": "stream",
     "text": [
      "Hello World This is Python\n"
     ]
    }
   ],
   "source": [
    "print(\"Hello\",\"World\",\"This\",\"is\",\"Python\")"
   ]
  },
  {
   "cell_type": "markdown",
   "id": "d5290d69",
   "metadata": {},
   "source": [
    "_print(object(s), sep=separator Default ‘ ’, end=end Default ‘/n’)_"
   ]
  },
  {
   "cell_type": "code",
   "execution_count": 26,
   "id": "bf9d01af",
   "metadata": {},
   "outputs": [
    {
     "name": "stdout",
     "output_type": "stream",
     "text": [
      "Hello World, this is Python."
     ]
    }
   ],
   "source": [
    "print(\"Hello World\",\"this is Python\",sep=\", \",end=\".\")"
   ]
  },
  {
   "cell_type": "markdown",
   "id": "b8ca874a",
   "metadata": {},
   "source": [
    "You can also use %s, %d, %f commands in print().\n",
    "\n",
    "%s - String\n",
    "%d - Integer\n",
    "%f - float\n",
    "\n",
    "They can be used in the following way:"
   ]
  },
  {
   "cell_type": "code",
   "execution_count": 29,
   "id": "e9520ecb",
   "metadata": {},
   "outputs": [
    {
     "name": "stdout",
     "output_type": "stream",
     "text": [
      "The Data Team has to go to the office 2 per week but they would prefer to go 0 times.\n"
     ]
    }
   ],
   "source": [
    "print(\"The %s Team has to go to the office %d per week but they would prefer to go %d times.\" % (\"Data\",2,0))"
   ]
  },
  {
   "cell_type": "markdown",
   "id": "cd19cece",
   "metadata": {},
   "source": [
    "Other examples of things that can be done with print:"
   ]
  },
  {
   "cell_type": "code",
   "execution_count": 2,
   "id": "11a48314",
   "metadata": {},
   "outputs": [
    {
     "name": "stdout",
     "output_type": "stream",
     "text": [
      "Two times two is 4\n",
      "4 is less than or equal to 5 is True\n",
      "This is Python training\n",
      "This is Python training in GEFCO\n"
     ]
    }
   ],
   "source": [
    "print(\"Two times two is\", 2 * 2)\n",
    "print(\"4 is less than or equal to 5 is\", 4<=5)\n",
    "\n",
    "subject = \"Python training\"\n",
    "print(\"This is\", subject)\n",
    "\n",
    "print(\"This is \" + subject + \" in GEFCO\")"
   ]
  },
  {
   "cell_type": "markdown",
   "id": "7f43f34b",
   "metadata": {},
   "source": [
    "### d. Input Function"
   ]
  },
  {
   "cell_type": "markdown",
   "id": "3c4e2a7b",
   "metadata": {},
   "source": [
    "The input() function allows user input."
   ]
  },
  {
   "cell_type": "code",
   "execution_count": null,
   "id": "ea117caa",
   "metadata": {},
   "outputs": [],
   "source": [
    "x = input('Enter text:')\n",
    "\n",
    "\n",
    "print('Hello, ' + x)\n"
   ]
  },
  {
   "cell_type": "markdown",
   "id": "1acad2c1",
   "metadata": {},
   "source": [
    "Everything written in the input will be considered a String."
   ]
  },
  {
   "cell_type": "markdown",
   "id": "193f51f2",
   "metadata": {},
   "source": [
    "### e. Help Function"
   ]
  },
  {
   "cell_type": "markdown",
   "id": "f9b8ad30",
   "metadata": {},
   "source": [
    "The help() method calls the built-in Python help system.\n",
    "If no argument is passed, Python's help utility starts, and then we can enter the name of the topic we want to get help with."
   ]
  },
  {
   "cell_type": "code",
   "execution_count": 4,
   "id": "49490d54",
   "metadata": {},
   "outputs": [
    {
     "name": "stdout",
     "output_type": "stream",
     "text": [
      "\n",
      "Welcome to Python 3.9's help utility!\n",
      "\n",
      "If this is your first time using Python, you should definitely check out\n",
      "the tutorial on the Internet at https://docs.python.org/3.9/tutorial/.\n",
      "\n",
      "Enter the name of any module, keyword, or topic to get help on writing\n",
      "Python programs and using Python modules.  To quit this help utility and\n",
      "return to the interpreter, just type \"quit\".\n",
      "\n",
      "To get a list of available modules, keywords, symbols, or topics, type\n",
      "\"modules\", \"keywords\", \"symbols\", or \"topics\".  Each module also comes\n",
      "with a one-line summary of what it does; to list the modules whose name\n",
      "or summary contain a given string such as \"spam\", type \"modules spam\".\n",
      "\n",
      "help> quit\n",
      "\n",
      "You are now leaving help and returning to the Python interpreter.\n",
      "If you want to ask for help on a particular object directly from the\n",
      "interpreter, you can type \"help(object)\".  Executing \"help('string')\"\n",
      "has the same effect as typing a particular string at the help> prompt.\n"
     ]
    }
   ],
   "source": [
    "help()"
   ]
  },
  {
   "cell_type": "markdown",
   "id": "4bdbcd8b",
   "metadata": {},
   "source": [
    "We can search for help about type of variables, data structures and other python subjects."
   ]
  },
  {
   "cell_type": "code",
   "execution_count": 5,
   "id": "2e452e8c",
   "metadata": {},
   "outputs": [
    {
     "name": "stdout",
     "output_type": "stream",
     "text": [
      "Help on class list in module builtins:\n",
      "\n",
      "class list(object)\n",
      " |  list(iterable=(), /)\n",
      " |  \n",
      " |  Built-in mutable sequence.\n",
      " |  \n",
      " |  If no argument is given, the constructor creates a new empty list.\n",
      " |  The argument must be an iterable if specified.\n",
      " |  \n",
      " |  Methods defined here:\n",
      " |  \n",
      " |  __add__(self, value, /)\n",
      " |      Return self+value.\n",
      " |  \n",
      " |  __contains__(self, key, /)\n",
      " |      Return key in self.\n",
      " |  \n",
      " |  __delitem__(self, key, /)\n",
      " |      Delete self[key].\n",
      " |  \n",
      " |  __eq__(self, value, /)\n",
      " |      Return self==value.\n",
      " |  \n",
      " |  __ge__(self, value, /)\n",
      " |      Return self>=value.\n",
      " |  \n",
      " |  __getattribute__(self, name, /)\n",
      " |      Return getattr(self, name).\n",
      " |  \n",
      " |  __getitem__(...)\n",
      " |      x.__getitem__(y) <==> x[y]\n",
      " |  \n",
      " |  __gt__(self, value, /)\n",
      " |      Return self>value.\n",
      " |  \n",
      " |  __iadd__(self, value, /)\n",
      " |      Implement self+=value.\n",
      " |  \n",
      " |  __imul__(self, value, /)\n",
      " |      Implement self*=value.\n",
      " |  \n",
      " |  __init__(self, /, *args, **kwargs)\n",
      " |      Initialize self.  See help(type(self)) for accurate signature.\n",
      " |  \n",
      " |  __iter__(self, /)\n",
      " |      Implement iter(self).\n",
      " |  \n",
      " |  __le__(self, value, /)\n",
      " |      Return self<=value.\n",
      " |  \n",
      " |  __len__(self, /)\n",
      " |      Return len(self).\n",
      " |  \n",
      " |  __lt__(self, value, /)\n",
      " |      Return self<value.\n",
      " |  \n",
      " |  __mul__(self, value, /)\n",
      " |      Return self*value.\n",
      " |  \n",
      " |  __ne__(self, value, /)\n",
      " |      Return self!=value.\n",
      " |  \n",
      " |  __repr__(self, /)\n",
      " |      Return repr(self).\n",
      " |  \n",
      " |  __reversed__(self, /)\n",
      " |      Return a reverse iterator over the list.\n",
      " |  \n",
      " |  __rmul__(self, value, /)\n",
      " |      Return value*self.\n",
      " |  \n",
      " |  __setitem__(self, key, value, /)\n",
      " |      Set self[key] to value.\n",
      " |  \n",
      " |  __sizeof__(self, /)\n",
      " |      Return the size of the list in memory, in bytes.\n",
      " |  \n",
      " |  append(self, object, /)\n",
      " |      Append object to the end of the list.\n",
      " |  \n",
      " |  clear(self, /)\n",
      " |      Remove all items from list.\n",
      " |  \n",
      " |  copy(self, /)\n",
      " |      Return a shallow copy of the list.\n",
      " |  \n",
      " |  count(self, value, /)\n",
      " |      Return number of occurrences of value.\n",
      " |  \n",
      " |  extend(self, iterable, /)\n",
      " |      Extend list by appending elements from the iterable.\n",
      " |  \n",
      " |  index(self, value, start=0, stop=9223372036854775807, /)\n",
      " |      Return first index of value.\n",
      " |      \n",
      " |      Raises ValueError if the value is not present.\n",
      " |  \n",
      " |  insert(self, index, object, /)\n",
      " |      Insert object before index.\n",
      " |  \n",
      " |  pop(self, index=-1, /)\n",
      " |      Remove and return item at index (default last).\n",
      " |      \n",
      " |      Raises IndexError if list is empty or index is out of range.\n",
      " |  \n",
      " |  remove(self, value, /)\n",
      " |      Remove first occurrence of value.\n",
      " |      \n",
      " |      Raises ValueError if the value is not present.\n",
      " |  \n",
      " |  reverse(self, /)\n",
      " |      Reverse *IN PLACE*.\n",
      " |  \n",
      " |  sort(self, /, *, key=None, reverse=False)\n",
      " |      Sort the list in ascending order and return None.\n",
      " |      \n",
      " |      The sort is in-place (i.e. the list itself is modified) and stable (i.e. the\n",
      " |      order of two equal elements is maintained).\n",
      " |      \n",
      " |      If a key function is given, apply it once to each list item and sort them,\n",
      " |      ascending or descending, according to their function values.\n",
      " |      \n",
      " |      The reverse flag can be set to sort in descending order.\n",
      " |  \n",
      " |  ----------------------------------------------------------------------\n",
      " |  Class methods defined here:\n",
      " |  \n",
      " |  __class_getitem__(...) from builtins.type\n",
      " |      See PEP 585\n",
      " |  \n",
      " |  ----------------------------------------------------------------------\n",
      " |  Static methods defined here:\n",
      " |  \n",
      " |  __new__(*args, **kwargs) from builtins.type\n",
      " |      Create and return a new object.  See help(type) for accurate signature.\n",
      " |  \n",
      " |  ----------------------------------------------------------------------\n",
      " |  Data and other attributes defined here:\n",
      " |  \n",
      " |  __hash__ = None\n",
      "\n"
     ]
    }
   ],
   "source": [
    "# For example when using list has parameter it brings information on this data structure and presents all methodfs and function that can be done with lists\n",
    "\n",
    "help(list)"
   ]
  },
  {
   "cell_type": "markdown",
   "id": "94bfc20e",
   "metadata": {},
   "source": [
    "### f. Comments on Python"
   ]
  },
  {
   "cell_type": "code",
   "execution_count": null,
   "id": "caea9faf",
   "metadata": {},
   "outputs": [],
   "source": [
    "# This is a single line comment"
   ]
  },
  {
   "cell_type": "code",
   "execution_count": null,
   "id": "97c5855e",
   "metadata": {},
   "outputs": [],
   "source": [
    "# What about multiline comments? There isn't a specific symbol for multiline comments.\n",
    "\"\"\"\n",
    "And this is a multine comment.\n",
    "It can take more than one line.\n",
    "Like this.\n",
    "\"\"\""
   ]
  },
  {
   "cell_type": "markdown",
   "id": "6b995386",
   "metadata": {},
   "source": [
    "__Please, do Exercise 1 now.__"
   ]
  },
  {
   "cell_type": "markdown",
   "id": "96547fdc",
   "metadata": {},
   "source": [
    "## 2. Conditionals and Decisions"
   ]
  },
  {
   "cell_type": "markdown",
   "id": "1458c232",
   "metadata": {},
   "source": [
    "### a. If, else and elif"
   ]
  },
  {
   "cell_type": "markdown",
   "id": "7204e110",
   "metadata": {},
   "source": [
    "Conditional Statement in Python perform different computations or actions depending on whether a specific Boolean constraint evaluates to true or false. Conditional statements are handled by IF statements in Python.\n",
    "\n",
    "__if__ test expression:\n",
    "    \n",
    "    Statement\n",
    "    \n",
    "__else__:\n",
    "    \n",
    "    Statement"
   ]
  },
  {
   "cell_type": "code",
   "execution_count": 35,
   "id": "a959607f",
   "metadata": {},
   "outputs": [
    {
     "name": "stdout",
     "output_type": "stream",
     "text": [
      "Welcome, what's your name?\n"
     ]
    }
   ],
   "source": [
    "person = 'George'\n",
    "\n",
    "if person == 'Sammy':\n",
    "    print('Welcome Sammy!')\n",
    "else:\n",
    "    print(\"Welcome, what's your name?\")"
   ]
  },
  {
   "cell_type": "markdown",
   "id": "b9253086",
   "metadata": {},
   "source": [
    "Or you can even add additional conditions with __elif__:\n",
    "    \n",
    "__if__ test expression:\n",
    "\n",
    "    Statement\n",
    "    \n",
    "__elif__ test expression:\n",
    "    \n",
    "    Statement\n",
    "    \n",
    "__else__:\n",
    "\n",
    "    Statement"
   ]
  },
  {
   "cell_type": "code",
   "execution_count": 7,
   "id": "bb08ce89",
   "metadata": {},
   "outputs": [
    {
     "ename": "SyntaxError",
     "evalue": "invalid syntax (Temp/ipykernel_15244/829058571.py, line 3)",
     "output_type": "error",
     "traceback": [
      "\u001b[1;36m  File \u001b[1;32m\"C:\\Users\\F029639\\AppData\\Local\\Temp/ipykernel_15244/829058571.py\"\u001b[1;36m, line \u001b[1;32m3\u001b[0m\n\u001b[1;33m    if person not =='Sammy':\u001b[0m\n\u001b[1;37m                  ^\u001b[0m\n\u001b[1;31mSyntaxError\u001b[0m\u001b[1;31m:\u001b[0m invalid syntax\n"
     ]
    }
   ],
   "source": [
    "person = 'George'\n",
    "\n",
    "if person not =='Sammy':\n",
    "    print('Welcome Sammy!')\n",
    "elif person =='Robert':\n",
    "    print('Welcome George!')\n",
    "elif person =='George':\n",
    "    print('Welcome George!')\n",
    "else:\n",
    "    print(\"Welcome, what's your name?\")"
   ]
  },
  {
   "cell_type": "markdown",
   "id": "ab0ba910",
   "metadata": {},
   "source": [
    "### b. Operators used in Python - Aritmethic"
   ]
  },
  {
   "cell_type": "markdown",
   "id": "7ac54336",
   "metadata": {},
   "source": [
    "| Operator | Name | Example |\n",
    "| --- | --- | --- |\n",
    "| + | Addition | x + y |\n",
    "| - | Subtraction | x - y |\n",
    "| * | Multiplication | x * y |\n",
    "| / | Division | x / y |\n",
    "| % | Modulos | x % y |\n",
    "| ** | Exponentiation | x ** y |\n",
    "| // | Floor Division | x // y |\n",
    "\n"
   ]
  },
  {
   "cell_type": "markdown",
   "id": "27a9115a",
   "metadata": {},
   "source": [
    "### c. Comparisons in Pythons"
   ]
  },
  {
   "cell_type": "markdown",
   "id": "4a3a0ea0",
   "metadata": {},
   "source": [
    "| Operator | Description | Syntax |\n",
    "| --- | --- | --- |\n",
    "| > | Greater than: True if the left operand is greater than the right | x > y |\n",
    "| < | Less than: True if the left operand is less than the right | x < y |\n",
    "| == | Equal to: True if both operands are equal | x == y |\n",
    "| != | ot equal to – True if operands are not equal | x != y |\n",
    "| >= | Greater than or equal to: True if left operand is greater than or equal to the right | x >= y |\n",
    "| <= | Less than or equal to: True if left operand is less than or equal to the right | x <= y |\n"
   ]
  },
  {
   "cell_type": "markdown",
   "id": "020761e6",
   "metadata": {},
   "source": [
    "### d. Logic - not | and | or"
   ]
  },
  {
   "cell_type": "markdown",
   "id": "f48a4107",
   "metadata": {},
   "source": [
    "| Operator | Description | Syntax |\n",
    "| --- | --- | --- |\n",
    "| and | Logical AND: True if both the operands are true | x and y |\n",
    "| or | Logical OR: True if either of the operands is true | x or y |\n",
    "| not | Logical NOT: True if operand is false | not x, not in x |"
   ]
  },
  {
   "cell_type": "markdown",
   "id": "ddf9ff54",
   "metadata": {},
   "source": [
    "### e. Priorities in Python"
   ]
  },
  {
   "cell_type": "markdown",
   "id": "d4775e7f",
   "metadata": {},
   "source": [
    "As you could see there are a lot of different operators that can be used in python. When evaluating complex expressions like __5+2*4%6-1 and 13 or 3__ one might easily get confused about in which order the operations will be performed."
   ]
  },
  {
   "cell_type": "markdown",
   "id": "a115e1a7",
   "metadata": {},
   "source": [
    "The order in which the different operations are evaluated is the following:\n",
    "1. Parenthesis\n",
    "2. Arithmetic\n",
    "3. Comparison\n",
    "4. Logic"
   ]
  },
  {
   "cell_type": "markdown",
   "id": "9d6b2a5f",
   "metadata": {},
   "source": [
    "__Please, do Exercise 2 now.__"
   ]
  },
  {
   "cell_type": "markdown",
   "id": "96503ada",
   "metadata": {},
   "source": [
    "## 3. Loops"
   ]
  },
  {
   "cell_type": "markdown",
   "id": "362548cb",
   "metadata": {},
   "source": [
    "In computer programming, a loop is a sequence of instructions that is repeated until a certain condition is reached. An operation is done, such as getting an item of data and changing it, and then some condition is checked such as whether a counter has reached a prescribed number."
   ]
  },
  {
   "cell_type": "markdown",
   "id": "41f3b3dc",
   "metadata": {},
   "source": [
    "### a. While Loop"
   ]
  },
  {
   "cell_type": "markdown",
   "id": "b21b37cd",
   "metadata": {},
   "source": [
    "With the while loop we can execute a set of statements as long as a condition is true."
   ]
  },
  {
   "cell_type": "code",
   "execution_count": 80,
   "id": "90b17312",
   "metadata": {},
   "outputs": [
    {
     "name": "stdout",
     "output_type": "stream",
     "text": [
      "1\n",
      "2\n",
      "3\n",
      "4\n",
      "5\n",
      "The End\n"
     ]
    }
   ],
   "source": [
    "i = 1\n",
    "while i < 6:\n",
    "  print(i)\n",
    "  i += 1  #this adds an additional value to i\n",
    "else:\n",
    "  print(\"The End\")\n"
   ]
  },
  {
   "cell_type": "markdown",
   "id": "938ae24e",
   "metadata": {},
   "source": [
    " You can create an infinite loop by using __True__ on the condition of a while Loop"
   ]
  },
  {
   "cell_type": "code",
   "execution_count": 37,
   "id": "64e5d126",
   "metadata": {},
   "outputs": [
    {
     "name": "stdout",
     "output_type": "stream",
     "text": [
      "This is an infinite Loop.This is an infinite Loop.This is an infinite Loop.This is an infinite Loop.This is an infinite Loop.This is an infinite Loop.This is an infinite Loop.This is an infinite Loop.This is an infinite Loop.This is an infinite Loop.This is an infinite Loop.This is an infinite Loop.This is an infinite Loop.This is an infinite Loop.This is an infinite Loop.This is an infinite Loop.This is an infinite Loop.This is an infinite Loop.This is an infinite Loop.This is an infinite Loop.This is an infinite Loop.This is an infinite Loop.This is an infinite Loop.This is an infinite Loop.This is an infinite Loop.This is an infinite Loop.This is an infinite Loop.This is an infinite Loop.This is an infinite Loop.This is an infinite Loop.This is an infinite Loop.This is an infinite Loop.This is an infinite Loop.This is an infinite Loop.This is an infinite Loop.This is an infinite Loop.This is an infinite Loop.This is an infinite Loop.This is an infinite Loop.This is an infinite Loop.This is an infinite Loop.This is an infinite Loop.This is an infinite Loop.This is an infinite Loop.This is an infinite Loop.This is an infinite Loop.This is an infinite Loop.This is an infinite Loop.This is an infinite Loop.This is an infinite Loop.This is an infinite Loop.This is an infinite Loop.This is an infinite Loop.This is an infinite Loop.This is an infinite Loop.This is an infinite Loop.This is an infinite Loop.This is an infinite Loop.This is an infinite Loop.This is an infinite Loop.This is an infinite Loop.This is an infinite Loop.This is an infinite Loop.This is an infinite Loop.This is an infinite Loop.This is an infinite Loop.This is an infinite Loop.This is an infinite Loop.This is an infinite Loop.This is an infinite Loop.This is an infinite Loop.This is an infinite Loop.This is an infinite Loop.This is an infinite Loop.This is an infinite Loop.This is an infinite Loop.This is an infinite Loop.This is an infinite Loop.This is an infinite Loop.This is an infinite Loop.This is an infinite Loop.This is an infinite Loop.This is an infinite Loop.This is an infinite Loop.This is an infinite Loop.This is an infinite Loop.This is an infinite Loop.This is an infinite Loop.This is an infinite Loop.This is an infinite Loop.This is an infinite Loop.This is an infinite Loop.This is an infinite Loop.This is an infinite Loop.This is an infinite Loop.This is an infinite Loop.This is an infinite Loop.This is an infinite Loop.This is an infinite Loop.This is an infinite Loop.This is an infinite Loop.This is an infinite Loop.This is an infinite Loop.This is an infinite Loop.This is an infinite Loop.This is an infinite Loop.This is an infinite Loop.This is an infinite Loop.This is an infinite Loop.This is an infinite Loop.This is an infinite Loop.This is an infinite Loop.This is an infinite Loop.This is an infinite Loop.This is an infinite Loop.This is an infinite Loop.This is an infinite Loop.This is an infinite Loop.This is an infinite Loop.This is an infinite Loop.This is an infinite Loop.This is an infinite Loop.This is an infinite Loop.This is an infinite Loop.This is an infinite Loop.This is an infinite Loop.This is an infinite Loop.This is an infinite Loop.This is an infinite Loop.This is an infinite Loop.This is an infinite Loop.This is an infinite Loop.This is an infinite Loop.This is an infinite Loop.This is an infinite Loop.This is an infinite Loop.This is an infinite Loop.This is an infinite Loop.This is an infinite Loop.This is an infinite Loop.This is an infinite Loop.This is an infinite Loop.This is an infinite Loop.This is an infinite Loop.This is an infinite Loop.This is an infinite Loop.This is an infinite Loop.This is an infinite Loop.This is an infinite Loop.This is an infinite Loop.This is an infinite Loop.This is an infinite Loop.This is an infinite Loop.This is an infinite Loop.This is an infinite Loop.This is an infinite Loop.This is an infinite Loop.This is an infinite Loop.This is an infinite Loop.This is an infinite Loop.This is an infinite Loop.This is an infinite Loop.This is an infinite Loop.This is an infinite Loop.This is an infinite Loop.This is an infinite Loop.This is an infinite Loop.This is an infinite Loop.This is an infinite Loop.This is an infinite Loop.This is an infinite Loop.This is an infinite Loop.This is an infinite Loop.This is an infinite Loop.This is an infinite Loop.This is an infinite Loop.This is an infinite Loop.This is an infinite Loop.This is an infinite Loop.This is an infinite Loop.This is an infinite Loop.This is an infinite Loop.This is an infinite Loop.This is an infinite Loop.This is an infinite Loop.This is an infinite Loop.This is an infinite Loop.This is an infinite Loop.This is an infinite Loop.This is an infinite Loop.This is an infinite Loop.This is an infinite Loop.This is an infinite Loop.This is an infinite Loop.This is an infinite Loop.This is an infinite Loop.This is an infinite Loop.This is an infinite Loop.This is an infinite Loop.This is an infinite Loop.This is an infinite Loop.This is an infinite Loop.This is an infinite Loop.This is an infinite Loop.This is an infinite Loop.This is an infinite Loop.This is an infinite Loop.This is an infinite Loop.This is an infinite Loop.This is an infinite Loop.This is an infinite Loop.This is an infinite Loop.This is an infinite Loop.This is an infinite Loop.This is an infinite Loop.This is an infinite Loop.This is an infinite Loop.This is an infinite Loop.This is an infinite Loop.This is an infinite Loop.This is an infinite Loop.This is an infinite Loop.This is an infinite Loop.This is an infinite Loop.This is an infinite Loop.This is an infinite Loop.This is an infinite Loop.This is an infinite Loop.This is an infinite Loop.This is an infinite Loop.This is an infinite Loop.This is an infinite Loop.This is an infinite Loop.This is an infinite Loop.This is an infinite Loop.This is an infinite Loop.This is an infinite Loop.This is an infinite Loop.This is an infinite Loop.This is an infinite Loop.This is an infinite Loop.This is an infinite Loop.This is an infinite Loop.This is an infinite Loop.This is an infinite Loop.This is an infinite Loop.This is an infinite Loop.This is an infinite Loop.This is an infinite Loop.This is an infinite Loop.This is an infinite Loop.This is an infinite Loop.This is an infinite Loop.This is an infinite Loop.This is an infinite Loop.This is an infinite Loop.This is an infinite Loop.This is an infinite Loop.This is an infinite Loop.This is an infinite Loop.This is an infinite Loop.This is an infinite Loop.This is an infinite Loop.This is an infinite Loop.This is an infinite Loop.This is an infinite Loop.This is an infinite Loop.This is an infinite Loop.This is an infinite Loop.This is an infinite Loop.This is an infinite Loop.This is an infinite Loop.This is an infinite Loop.This is an infinite Loop.This is an infinite Loop.This is an infinite Loop.This is an infinite Loop.This is an infinite Loop.This is an infinite Loop.This is an infinite Loop.This is an infinite Loop.This is an infinite Loop.This is an infinite Loop.This is an infinite Loop.This is an infinite Loop.This is an infinite Loop.This is an infinite Loop.This is an infinite Loop.This is an infinite Loop.This is an infinite Loop.This is an infinite Loop.This is an infinite Loop.This is an infinite Loop.This is an infinite Loop.This is an infinite Loop.This is an infinite Loop.This is an infinite Loop.This is an infinite Loop.This is an infinite Loop.This is an infinite Loop.This is an infinite Loop.This is an infinite Loop.This is an infinite Loop.This is an infinite Loop.This is an infinite Loop.This is an infinite Loop.This is an infinite Loop.This is an infinite Loop.This is an infinite Loop.This is an infinite Loop.This is an infinite Loop.This is an infinite Loop.This is an infinite Loop.This is an infinite Loop.This is an infinite Loop.This is an infinite Loop.This is an infinite Loop.This is an infinite Loop.This is an infinite Loop.This is an infinite Loop.This is an infinite Loop.This is an infinite Loop.This is an infinite Loop.This is an infinite Loop.This is an infinite Loop.This is an infinite Loop.This is an infinite Loop.This is an infinite Loop.This is an infinite Loop.This is an infinite Loop.This is an infinite Loop.This is an infinite Loop.This is an infinite Loop.This is an infinite Loop.This is an infinite Loop.This is an infinite Loop.This is an infinite Loop.This is an infinite Loop.This is an infinite Loop.This is an infinite Loop.This is an infinite Loop.This is an infinite Loop.This is an infinite Loop.This is an infinite Loop.This is an infinite Loop.This is an infinite Loop.This is an infinite Loop.This is an infinite Loop.This is an infinite Loop.This is an infinite Loop.This is an infinite Loop.This is an infinite Loop.This is an infinite Loop.This is an infinite Loop.This is an infinite Loop.This is an infinite Loop.This is an infinite Loop.This is an infinite Loop.This is an infinite Loop.This is an infinite Loop.This is an infinite Loop.This is an infinite Loop.This is an infinite Loop.This is an infinite Loop.This is an infinite Loop.This is an infinite Loop.This is an infinite Loop.This is an infinite Loop.This is an infinite Loop.This is an infinite Loop.This is an infinite Loop.This is an infinite Loop.This is an infinite Loop.This is an infinite Loop.This is an infinite Loop.This is an infinite Loop.This is an infinite Loop.This is an infinite Loop.This is an infinite Loop.This is an infinite Loop.This is an infinite Loop.This is an infinite Loop.This is an infinite Loop.This is an infinite Loop.This is an infinite Loop.This is an infinite Loop.This is an infinite Loop.This is an infinite Loop.This is an infinite Loop.This is an infinite Loop.This is an infinite Loop.This is an infinite Loop.This is an infinite Loop.This is an infinite Loop.This is an infinite Loop.This is an infinite Loop.This is an infinite Loop.This is an infinite Loop.This is an infinite Loop.This is an infinite Loop.This is an infinite Loop.This is an infinite Loop.This is an infinite Loop.This is an infinite Loop.This is an infinite Loop.This is an infinite Loop.This is an infinite Loop.This is an infinite Loop.This is an infinite Loop.This is an infinite Loop.This is an infinite Loop.This is an infinite Loop.This is an infinite Loop.This is an infinite Loop.This is an infinite Loop.This is an infinite Loop.This is an infinite Loop.This is an infinite Loop.This is an infinite Loop.This is an infinite Loop.This is an infinite Loop.This is an infinite Loop.This is an infinite Loop.This is an infinite Loop.This is an infinite Loop.This is an infinite Loop.This is an infinite Loop.This is an infinite Loop.This is an infinite Loop.This is an infinite Loop.This is an infinite Loop.This is an infinite Loop.This is an infinite Loop.This is an infinite Loop.This is an infinite Loop.This is an infinite Loop.This is an infinite Loop.This is an infinite Loop.This is an infinite Loop.This is an infinite Loop.This is an infinite Loop.This is an infinite Loop.This is an infinite Loop.This is an infinite Loop.This is an infinite Loop.This is an infinite Loop.This is an infinite Loop.This is an infinite Loop.This is an infinite Loop.This is an infinite Loop.This is an infinite Loop.This is an infinite Loop.This is an infinite Loop.This is an infinite Loop.This is an infinite Loop.This is an infinite Loop.This is an infinite Loop.This is an infinite Loop.This is an infinite Loop.This is an infinite Loop.This is an infinite Loop.This is an infinite Loop.This is an infinite Loop.This is an infinite Loop.This is an infinite Loop.This is an infinite Loop.This is an infinite Loop.This is an infinite Loop.This is an infinite Loop.This is an infinite Loop.This is an infinite Loop.This is an infinite Loop.This is an infinite Loop.This is an infinite Loop.This is an infinite Loop.This is an infinite Loop.This is an infinite Loop.This is an infinite Loop.This is an infinite Loop.This is an infinite Loop.This is an infinite Loop.This is an infinite Loop.This is an infinite Loop.This is an infinite Loop.This is an infinite Loop.This is an infinite Loop.This is an infinite Loop.This is an infinite Loop.This is an infinite Loop.This is an infinite Loop.This is an infinite Loop.This is an infinite Loop.This is an infinite Loop.This is an infinite Loop.This is an infinite Loop.This is an infinite Loop.This is an infinite Loop.This is an infinite Loop.This is an infinite Loop.This is an infinite Loop.This is an infinite Loop.This is an infinite Loop.This is an infinite Loop.This is an infinite Loop.This is an infinite Loop.This is an infinite Loop.This is an infinite Loop.This is an infinite Loop.This is an infinite Loop.This is an infinite Loop.This is an infinite Loop.This is an infinite Loop.This is an infinite Loop.This is an infinite Loop.This is an infinite Loop.This is an infinite Loop.This is an infinite Loop.This is an infinite Loop.This is an infinite Loop.This is an infinite Loop.This is an infinite Loop.This is an infinite Loop.This is an infinite Loop.This is an infinite Loop.This is an infinite Loop.This is an infinite Loop.This is an infinite Loop.This is an infinite Loop.This is an infinite Loop.This is an infinite Loop.This is an infinite Loop.This is an infinite Loop.This is an infinite Loop.This is an infinite Loop.This is an infinite Loop.This is an infinite Loop.This is an infinite Loop.This is an infinite Loop.This is an infinite Loop.This is an infinite Loop.This is an infinite Loop.This is an infinite Loop.This is an infinite Loop.This is an infinite Loop.This is an infinite Loop.This is an infinite Loop.This is an infinite Loop.This is an infinite Loop.This is an infinite Loop.This is an infinite Loop.This is an infinite Loop.This is an infinite Loop.This is an infinite Loop.This is an infinite Loop.This is an infinite Loop.This is an infinite Loop.This is an infinite Loop.This is an infinite Loop.This is an infinite Loop.This is an infinite Loop.This is an infinite Loop.This is an infinite Loop.This is an infinite Loop.This is an infinite Loop.This is an infinite Loop.This is an infinite Loop.This is an infinite Loop.This is an infinite Loop.This is an infinite Loop.This is an infinite Loop.This is an infinite Loop.This is an infinite Loop.This is an infinite Loop.This is an infinite Loop.This is an infinite Loop.This is an infinite Loop.This is an infinite Loop.This is an infinite Loop.This is an infinite Loop.This is an infinite Loop.This is an infinite Loop.This is an infinite Loop.This is an infinite Loop.This is an infinite Loop.This is an infinite Loop.This is an infinite Loop.This is an infinite Loop.This is an infinite Loop.This is an infinite Loop.This is an infinite Loop.This is an infinite Loop.This is an infinite Loop.This is an infinite Loop.This is an infinite Loop.This is an infinite Loop.This is an infinite Loop.This is an infinite Loop.This is an infinite Loop.This is an infinite Loop.This is an infinite Loop.This is an infinite Loop.This is an infinite Loop.This is an infinite Loop.This is an infinite Loop.This is an infinite Loop.This is an infinite Loop.This is an infinite Loop.This is an infinite Loop.This is an infinite Loop.This is an infinite Loop.This is an infinite Loop.This is an infinite Loop.This is an infinite Loop.This is an infinite Loop.This is an infinite Loop.This is an infinite Loop.This is an infinite Loop.This is an infinite Loop.This is an infinite Loop.This is an infinite Loop.This is an infinite Loop.This is an infinite Loop.This is an infinite Loop.This is an infinite Loop.This is an infinite Loop.This is an infinite Loop.This is an infinite Loop.This is an infinite Loop.This is an infinite Loop.This is an infinite Loop.This is an infinite Loop.This is an infinite Loop.This is an infinite Loop.This is an infinite Loop.This is an infinite Loop.This is an infinite Loop.This is an infinite Loop.This is an infinite Loop.This is an infinite Loop.This is an infinite Loop.This is an infinite Loop.This is an infinite Loop.This is an infinite Loop.This is an infinite Loop.This is an infinite Loop.This is an infinite Loop.This is an infinite Loop.This is an infinite Loop.This is an infinite Loop.This is an infinite Loop.This is an infinite Loop.This is an infinite Loop.This is an infinite Loop.This is an infinite Loop.This is an infinite Loop.This is an infinite Loop.This is an infinite Loop.This is an infinite Loop.This is an infinite Loop.This is an infinite Loop.This is an infinite Loop.This is an infinite Loop.This is an infinite Loop.This is an infinite Loop.This is an infinite Loop.This is an infinite Loop.This is an infinite Loop.This is an infinite Loop.This is an infinite Loop.This is an infinite Loop.This is an infinite Loop.This is an infinite Loop.This is an infinite Loop.This is an infinite Loop.This is an infinite Loop.This is an infinite Loop.This is an infinite Loop.This is an infinite Loop.This is an infinite Loop.This is an infinite Loop.This is an infinite Loop.This is an infinite Loop.This is an infinite Loop.This is an infinite Loop.This is an infinite Loop.This is an infinite Loop.This is an infinite Loop.This is an infinite Loop.This is an infinite Loop.This is an infinite Loop.This is an infinite Loop.This is an infinite Loop.This is an infinite Loop.This is an infinite Loop.This is an infinite Loop.This is an infinite Loop.This is an infinite Loop.This is an infinite Loop.This is an infinite Loop.This is an infinite Loop.This is an infinite Loop.This is an infinite Loop.This is an infinite Loop.This is an infinite Loop.This is an infinite Loop.This is an infinite Loop.This is an infinite Loop.This is an infinite Loop.This is an infinite Loop.This is an infinite Loop.This is an infinite Loop.This is an infinite Loop.This is an infinite Loop.This is an infinite Loop.This is an infinite Loop.This is an infinite Loop.This is an infinite Loop.This is an infinite Loop.This is an infinite Loop.This is an infinite Loop.This is an infinite Loop.This is an infinite Loop.This is an infinite Loop.This is an infinite Loop.This is an infinite Loop.This is an infinite Loop.This is an infinite Loop.This is an infinite Loop.This is an infinite Loop.This is an infinite Loop.This is an infinite Loop.This is an infinite Loop.This is an infinite Loop.This is an infinite Loop.This is an infinite Loop.This is an infinite Loop.This is an infinite Loop.This is an infinite Loop.This is an infinite Loop.This is an infinite Loop.This is an infinite Loop.This is an infinite Loop.This is an infinite Loop.This is an infinite Loop.This is an infinite Loop.This is an infinite Loop.This is an infinite Loop.This is an infinite Loop.This is an infinite Loop.This is an infinite Loop.This is an infinite Loop.This is an infinite Loop.This is an infinite Loop.This is an infinite Loop.This is an infinite Loop.This is an infinite Loop.This is an infinite Loop.This is an infinite Loop.This is an infinite Loop.This is an infinite Loop.This is an infinite Loop.This is an infinite Loop.This is an infinite Loop.This is an infinite Loop.This is an infinite Loop.This is an infinite Loop.This is an infinite Loop.This is an infinite Loop.This is an infinite Loop.This is an infinite Loop.This is an infinite Loop.This is an infinite Loop.This is an infinite Loop.This is an infinite Loop.This is an infinite Loop.This is an infinite Loop.This is an infinite Loop.This is an infinite Loop.This is an infinite Loop.This is an infinite Loop.This is an infinite Loop.This is an infinite Loop.This is an infinite Loop.This is an infinite Loop.This is an infinite Loop.This is an infinite Loop.This is an infinite Loop.This is an infinite Loop.This is an infinite Loop.This is an infinite Loop.This is an infinite Loop.This is an infinite Loop.This is an infinite Loop.This is an infinite Loop.This is an infinite Loop.This is an infinite Loop.This is an infinite Loop.This is an infinite Loop.This is an infinite Loop.This is an infinite Loop.This is an infinite Loop.This is an infinite Loop.This is an infinite Loop.This is an infinite Loop.This is an infinite Loop.This is an infinite Loop.This is an infinite Loop.This is an infinite Loop.This is an infinite Loop.This is an infinite Loop.This is an infinite Loop.This is an infinite Loop.This is an infinite Loop.This is an infinite Loop.This is an infinite Loop.This is an infinite Loop.This is an infinite Loop.This is an infinite Loop.This is an infinite Loop.This is an infinite Loop.This is an infinite Loop.This is an infinite Loop.This is an infinite Loop.This is an infinite Loop.This is an infinite Loop.This is an infinite Loop.This is an infinite Loop.This is an infinite Loop.This is an infinite Loop.This is an infinite Loop.This is an infinite Loop.This is an infinite Loop.This is an infinite Loop.This is an infinite Loop.This is an infinite Loop.This is an infinite Loop.This is an infinite Loop.This is an infinite Loop.This is an infinite Loop.This is an infinite Loop.This is an infinite Loop.This is an infinite Loop.This is an infinite Loop.This is an infinite Loop.This is an infinite Loop.This is an infinite Loop.This is an infinite Loop.This is an infinite Loop.This is an infinite Loop.This is an infinite Loop.This is an infinite Loop.This is an infinite Loop.This is an infinite Loop.This is an infinite Loop.This is an infinite Loop.This is an infinite Loop.This is an infinite Loop.This is an infinite Loop.This is an infinite Loop.This is an infinite Loop.This is an infinite Loop.This is an infinite Loop.This is an infinite Loop.This is an infinite Loop.This is an infinite Loop.This is an infinite Loop.This is an infinite Loop.This is an infinite Loop.This is an infinite Loop.This is an infinite Loop.This is an infinite Loop.This is an infinite Loop.This is an infinite Loop.This is an infinite Loop.This is an infinite Loop.This is an infinite Loop.This is an infinite Loop.This is an infinite Loop.This is an infinite Loop.This is an infinite Loop.This is an infinite Loop.This is an infinite Loop.This is an infinite Loop.This is an infinite Loop.This is an infinite Loop.This is an infinite Loop.This is an infinite Loop.This is an infinite Loop.This is an infinite Loop.This is an infinite Loop.This is an infinite Loop.This is an infinite Loop.This is an infinite Loop.This is an infinite Loop.This is an infinite Loop.This is an infinite Loop.This is an infinite Loop.This is an infinite Loop.This is an infinite Loop.This is an infinite Loop.This is an infinite Loop.This is an infinite Loop.This is an infinite Loop.This is an infinite Loop.This is an infinite Loop.This is an infinite Loop.This is an infinite Loop.This is an infinite Loop.This is an infinite Loop.This is an infinite Loop.This is an infinite Loop.This is an infinite Loop.This is an infinite Loop.This is an infinite Loop.This is an infinite Loop.This is an infinite Loop.This is an infinite Loop.This is an infinite Loop.This is an infinite Loop.This is an infinite Loop.This is an infinite Loop.This is an infinite Loop.This is an infinite Loop.This is an infinite Loop.This is an infinite Loop.This is an infinite Loop.This is an infinite Loop.This is an infinite Loop.This is an infinite Loop.This is an infinite Loop.This is an infinite Loop.This is an infinite Loop.This is an infinite Loop.This is an infinite Loop.This is an infinite Loop.This is an infinite Loop.This is an infinite Loop.This is an infinite Loop.This is an infinite Loop.This is an infinite Loop.This is an infinite Loop.This is an infinite Loop.This is an infinite Loop.This is an infinite Loop.This is an infinite Loop.This is an infinite Loop.This is an infinite Loop.This is an infinite Loop.This is an infinite Loop.This is an infinite Loop.This is an infinite Loop.This is an infinite Loop.This is an infinite Loop.This is an infinite Loop.This is an infinite Loop.This is an infinite Loop.This is an infinite Loop.This is an infinite Loop.This is an infinite Loop.This is an infinite Loop.This is an infinite Loop.This is an infinite Loop.This is an infinite Loop.This is an infinite Loop.This is an infinite Loop.This is an infinite Loop.This is an infinite Loop.This is an infinite Loop.This is an infinite Loop.This is an infinite Loop.This is an infinite Loop.This is an infinite Loop.This is an infinite Loop.This is an infinite Loop.This is an infinite Loop.This is an infinite Loop.This is an infinite Loop.This is an infinite Loop.This is an infinite Loop.This is an infinite Loop.This is an infinite Loop.This is an infinite Loop.This is an infinite Loop.This is an infinite Loop.This is an infinite Loop.This is an infinite Loop.This is an infinite Loop.This is an infinite Loop.This is an infinite Loop.This is an infinite Loop.This is an infinite Loop.This is an infinite Loop.This is an infinite Loop.This is an infinite Loop.This is an infinite Loop.This is an infinite Loop.This is an infinite Loop.This is an infinite Loop.This is an infinite Loop.This is an infinite Loop.This is an infinite Loop.This is an infinite Loop.This is an infinite Loop.This is an infinite Loop.This is an infinite Loop.This is an infinite Loop.This is an infinite Loop.This is an infinite Loop.This is an infinite Loop.This is an infinite Loop.This is an infinite Loop.This is an infinite Loop.This is an infinite Loop.This is an infinite Loop.This is an infinite Loop.This is an infinite Loop.This is an infinite Loop.This is an infinite Loop.This is an infinite Loop.This is an infinite Loop.This is an infinite Loop.This is an infinite Loop.This is an infinite Loop.This is an infinite Loop.This is an infinite Loop.This is an infinite Loop.This is an infinite Loop.This is an infinite Loop.This is an infinite Loop.This is an infinite Loop.This is an infinite Loop.This is an infinite Loop.This is an infinite Loop.This is an infinite Loop.This is an infinite Loop.This is an infinite Loop.This is an infinite Loop.This is an infinite Loop.This is an infinite Loop.This is an infinite Loop.This is an infinite Loop.This is an infinite Loop.This is an infinite Loop.This is an infinite Loop.This is an infinite Loop.This is an infinite Loop.This is an infinite Loop.This is an infinite Loop.This is an infinite Loop.This is an infinite Loop.This is an infinite Loop.This is an infinite Loop.This is an infinite Loop.This is an infinite Loop.This is an infinite Loop.This is an infinite Loop.This is an infinite Loop.This is an infinite Loop.This is an infinite Loop.This is an infinite Loop.This is an infinite Loop.This is an infinite Loop.This is an infinite Loop.This is an infinite Loop.This is an infinite Loop.This is an infinite Loop.This is an infinite Loop.This is an infinite Loop.This is an infinite Loop.This is an infinite Loop.This is an infinite Loop.This is an infinite Loop.This is an infinite Loop.This is an infinite Loop.This is an infinite Loop.This is an infinite Loop.This is an infinite Loop.This is an infinite Loop.This is an infinite Loop.This is an infinite Loop.This is an infinite Loop.This is an infinite Loop.This is an infinite Loop.This is an infinite Loop.This is an infinite Loop.This is an infinite Loop.This is an infinite Loop.This is an infinite Loop.This is an infinite Loop.This is an infinite Loop.This is an infinite Loop.This is an infinite Loop.This is an infinite Loop.This is an infinite Loop.This is an infinite Loop.This is an infinite Loop.This is an infinite Loop.This is an infinite Loop.This is an infinite Loop.This is an infinite Loop.This is an infinite Loop.This is an infinite Loop.This is an infinite Loop.This is an infinite Loop.This is an infinite Loop.This is an infinite Loop.This is an infinite Loop.This is an infinite Loop.This is an infinite Loop.This is an infinite Loop.This is an infinite Loop.This is an infinite Loop.This is an infinite Loop.This is an infinite Loop.This is an infinite Loop.This is an infinite Loop.This is an infinite Loop.This is an infinite Loop.This is an infinite Loop.This is an infinite Loop.This is an infinite Loop.This is an infinite Loop.This is an infinite Loop.This is an infinite Loop.This is an infinite Loop.This is an infinite Loop.This is an infinite Loop.This is an infinite Loop.This is an infinite Loop.This is an infinite Loop.This is an infinite Loop.This is an infinite Loop.This is an infinite Loop.This is an infinite Loop.This is an infinite Loop.This is an infinite Loop.This is an infinite Loop.This is an infinite Loop.This is an infinite Loop.This is an infinite Loop.This is an infinite Loop.This is an infinite Loop.This is an infinite Loop.This is an infinite Loop.This is an infinite Loop.This is an infinite Loop.This is an infinite Loop.This is an infinite Loop.This is an infinite Loop.This is an infinite Loop.This is an infinite Loop.This is an infinite Loop.This is an infinite Loop.This is an infinite Loop.This is an infinite Loop.This is an infinite Loop.This is an infinite Loop.This is an infinite Loop.This is an infinite Loop.This is an infinite Loop.This is an infinite Loop.This is an infinite Loop.This is an infinite Loop.This is an infinite Loop.This is an infinite Loop.This is an infinite Loop.This is an infinite Loop.This is an infinite Loop.This is an infinite Loop.This is an infinite Loop.This is an infinite Loop.This is an infinite Loop.This is an infinite Loop.This is an infinite Loop.This is an infinite Loop.This is an infinite Loop.This is an infinite Loop.This is an infinite Loop.This is an infinite Loop.This is an infinite Loop.This is an infinite Loop.This is an infinite Loop.This is an infinite Loop.This is an infinite Loop.This is an infinite Loop.This is an infinite Loop.This is an infinite Loop.This is an infinite Loop.This is an infinite Loop.This is an infinite Loop.This is an infinite Loop.This is an infinite Loop.This is an infinite Loop.This is an infinite Loop.This is an infinite Loop.This is an infinite Loop.This is an infinite Loop.This is an infinite Loop.This is an infinite Loop.This is an infinite Loop.This is an infinite Loop.This is an infinite Loop.This is an infinite Loop.This is an infinite Loop.This is an infinite Loop.This is an infinite Loop.This is an infinite Loop.This is an infinite Loop.This is an infinite Loop.This is an infinite Loop.This is an infinite Loop.This is an infinite Loop.This is an infinite Loop.This is an infinite Loop.This is an infinite Loop.This is an infinite Loop.This is an infinite Loop.This is an infinite Loop.This is an infinite Loop.This is an infinite Loop.This is an infinite Loop.This is an infinite Loop.This is an infinite Loop.This is an infinite Loop.This is an infinite Loop.This is an infinite Loop.This is an infinite Loop.This is an infinite Loop.This is an infinite Loop.This is an infinite Loop.This is an infinite Loop.This is an infinite Loop.This is an infinite Loop.This is an infinite Loop.This is an infinite Loop.This is an infinite Loop.This is an infinite Loop.This is an infinite Loop.This is an infinite Loop.This is an infinite Loop.This is an infinite Loop.This is an infinite Loop.This is an infinite Loop.This is an infinite Loop.This is an infinite Loop.This is an infinite Loop.This is an infinite Loop.This is an infinite Loop.This is an infinite Loop.This is an infinite Loop.This is an infinite Loop.This is an infinite Loop.This is an infinite Loop.This is an infinite Loop.This is an infinite Loop.This is an infinite Loop.This is an infinite Loop.This is an infinite Loop.This is an infinite Loop.This is an infinite Loop.This is an infinite Loop.This is an infinite Loop.This is an infinite Loop.This is an infinite Loop.This is an infinite Loop.This is an infinite Loop.This is an infinite Loop.This is an infinite Loop.This is an infinite Loop.This is an infinite Loop.This is an infinite Loop.This is an infinite Loop.This is an infinite Loop.This is an infinite Loop.This is an infinite Loop.This is an infinite Loop.This is an infinite Loop.This is an infinite Loop.This is an infinite Loop.This is an infinite Loop.This is an infinite Loop.This is an infinite Loop.This is an infinite Loop.This is an infinite Loop.This is an infinite Loop.This is an infinite Loop.This is an infinite Loop.This is an infinite Loop.This is an infinite Loop.This is an infinite Loop.This is an infinite Loop.This is an infinite Loop.This is an infinite Loop.This is an infinite Loop.This is an infinite Loop.This is an infinite Loop.This is an infinite Loop.This is an infinite Loop.This is an infinite Loop.This is an infinite Loop.This is an infinite Loop.This is an infinite Loop.This is an infinite Loop.This is an infinite Loop.This is an infinite Loop.This is an infinite Loop.This is an infinite Loop.This is an infinite Loop.This is an infinite Loop.This is an infinite Loop.This is an infinite Loop.This is an infinite Loop.This is an infinite Loop.This is an infinite Loop.This is an infinite Loop.This is an infinite Loop.This is an infinite Loop.This is an infinite Loop.This is an infinite Loop.This is an infinite Loop.This is an infinite Loop.This is an infinite Loop.This is an infinite Loop.This is an infinite Loop.This is an infinite Loop.This is an infinite Loop.This is an infinite Loop.This is an infinite Loop.This is an infinite Loop.This is an infinite Loop.This is an infinite Loop.This is an infinite Loop.This is an infinite Loop.This is an infinite Loop.This is an infinite Loop.This is an infinite Loop.This is an infinite Loop.This is an infinite Loop.This is an infinite Loop.This is an infinite Loop.This is an infinite Loop.This is an infinite Loop.This is an infinite Loop.This is an infinite Loop.This is an infinite Loop.This is an infinite Loop.This is an infinite Loop.This is an infinite Loop.This is an infinite Loop.This is an infinite Loop.This is an infinite Loop.This is an infinite Loop.This is an infinite Loop.This is an infinite Loop.This is an infinite Loop.This is an infinite Loop.This is an infinite Loop.This is an infinite Loop.This is an infinite Loop.This is an infinite Loop.This is an infinite Loop.This is an infinite Loop.This is an infinite Loop.This is an infinite Loop.This is an infinite Loop.This is an infinite Loop.This is an infinite Loop.This is an infinite Loop.This is an infinite Loop.This is an infinite Loop.This is an infinite Loop.This is an infinite Loop.This is an infinite Loop.This is an infinite Loop.This is an infinite Loop.This is an infinite Loop.This is an infinite Loop.This is an infinite Loop.This is an infinite Loop.This is an infinite Loop.This is an infinite Loop.This is an infinite Loop.This is an infinite Loop.This is an infinite Loop.This is an infinite Loop.This is an infinite Loop.This is an infinite Loop.This is an infinite Loop.This is an infinite Loop.This is an infinite Loop.This is an infinite Loop.This is an infinite Loop.This is an infinite Loop.This is an infinite Loop.This is an infinite Loop.This is an infinite Loop.This is an infinite Loop.This is an infinite Loop.This is an infinite Loop.This is an infinite Loop.This is an infinite Loop.This is an infinite Loop.This is an infinite Loop.This is an infinite Loop.This is an infinite Loop.This is an infinite Loop.This is an infinite Loop.This is an infinite Loop.This is an infinite Loop.This is an infinite Loop.This is an infinite Loop.This is an infinite Loop.This is an infinite Loop.This is an infinite Loop.This is an infinite Loop.This is an infinite Loop.This is an infinite Loop.This is an infinite Loop.This is an infinite Loop.This is an infinite Loop.This is an infinite Loop.This is an infinite Loop.This is an infinite Loop.This is an infinite Loop.This is an infinite Loop.This is an infinite Loop.This is an infinite Loop.This is an infinite Loop.This is an infinite Loop.This is an infinite Loop.This is an infinite Loop.This is an infinite Loop.This is an infinite Loop.This is an infinite Loop.This is an infinite Loop.This is an infinite Loop.This is an infinite Loop.This is an infinite Loop.This is an infinite Loop.This is an infinite Loop.This is an infinite Loop.This is an infinite Loop.This is an infinite Loop.This is an infinite Loop.This is an infinite Loop.This is an infinite Loop.This is an infinite Loop.This is an infinite Loop.This is an infinite Loop.This is an infinite Loop.This is an infinite Loop.This is an infinite Loop.This is an infinite Loop.This is an infinite Loop.This is an infinite Loop.This is an infinite Loop.This is an infinite Loop.This is an infinite Loop.This is an infinite Loop.This is an infinite Loop.This is an infinite Loop.This is an infinite Loop.This is an infinite Loop.This is an infinite Loop.This is an infinite Loop.This is an infinite Loop.This is an infinite Loop.This is an infinite Loop.This is an infinite Loop.This is an infinite Loop.This is an infinite Loop.This is an infinite Loop.This is an infinite Loop.This is an infinite Loop.This is an infinite Loop.This is an infinite Loop.This is an infinite Loop.This is an infinite Loop.This is an infinite Loop.This is an infinite Loop.This is an infinite Loop.This is an infinite Loop.This is an infinite Loop.This is an infinite Loop.This is an infinite Loop.This is an infinite Loop.This is an infinite Loop.This is an infinite Loop.This is an infinite Loop.This is an infinite Loop.This is an infinite Loop.This is an infinite Loop.This is an infinite Loop.This is an infinite Loop.This is an infinite Loop.This is an infinite Loop.This is an infinite Loop.This is an infinite Loop.This is an infinite Loop.This is an infinite Loop.This is an infinite Loop.This is an infinite Loop.This is an infinite Loop.This is an infinite Loop.This is an infinite Loop.This is an infinite Loop.This is an infinite Loop.This is an infinite Loop.This is an infinite Loop.This is an infinite Loop.This is an infinite Loop.This is an infinite Loop.This is an infinite Loop.This is an infinite Loop.This is an infinite Loop.This is an infinite Loop.This is an infinite Loop.This is an infinite Loop.This is an infinite Loop.This is an infinite Loop.This is an infinite Loop.This is an infinite Loop.This is an infinite Loop.This is an infinite Loop.This is an infinite Loop.This is an infinite Loop.This is an infinite Loop.This is an infinite Loop.This is an infinite Loop.This is an infinite Loop.This is an infinite Loop.This is an infinite Loop.This is an infinite Loop.This is an infinite Loop.This is an infinite Loop.This is an infinite Loop.This is an infinite Loop.This is an infinite Loop.This is an infinite Loop.This is an infinite Loop.This is an infinite Loop.This is an infinite Loop.This is an infinite Loop.This is an infinite Loop.This is an infinite Loop.This is an infinite Loop.This is an infinite Loop.This is an infinite Loop.This is an infinite Loop.This is an infinite Loop.This is an infinite Loop.This is an infinite Loop.This is an infinite Loop.This is an infinite Loop.This is an infinite Loop.This is an infinite Loop.This is an infinite Loop.This is an infinite Loop.This is an infinite Loop.This is an infinite Loop.This is an infinite Loop.This is an infinite Loop.This is an infinite Loop.This is an infinite Loop.This is an infinite Loop.This is an infinite Loop.This is an infinite Loop.This is an infinite Loop.This is an infinite Loop.This is an infinite Loop.This is an infinite Loop.This is an infinite Loop.This is an infinite Loop.This is an infinite Loop.This is an infinite Loop.This is an infinite Loop.This is an infinite Loop.This is an infinite Loop.This is an infinite Loop.This is an infinite Loop.This is an infinite Loop.This is an infinite Loop.This is an infinite Loop.This is an infinite Loop.This is an infinite Loop.This is an infinite Loop.This is an infinite Loop.This is an infinite Loop.This is an infinite Loop.This is an infinite Loop.This is an infinite Loop.This is an infinite Loop.This is an infinite Loop.This is an infinite Loop.This is an infinite Loop.This is an infinite Loop.This is an infinite Loop.This is an infinite Loop.This is an infinite Loop.This is an infinite Loop.This is an infinite Loop.This is an infinite Loop.This is an infinite Loop.This is an infinite Loop.This is an infinite Loop.This is an infinite Loop.This is an infinite Loop.This is an infinite Loop.This is an infinite Loop.This is an infinite Loop.This is an infinite Loop.This is an infinite Loop.This is an infinite Loop.This is an infinite Loop.This is an infinite Loop.This is an infinite Loop.This is an infinite Loop.This is an infinite Loop.This is an infinite Loop.This is an infinite Loop.This is an infinite Loop.This is an infinite Loop.This is an infinite Loop.This is an infinite Loop.This is an infinite Loop.This is an infinite Loop.This is an infinite Loop.This is an infinite Loop.This is an infinite Loop.This is an infinite Loop.This is an infinite Loop.This is an infinite Loop.This is an infinite Loop.This is an infinite Loop.This is an infinite Loop.This is an infinite Loop.This is an infinite Loop.This is an infinite Loop.This is an infinite Loop.This is an infinite Loop.This is an infinite Loop.This is an infinite Loop.This is an infinite Loop.This is an infinite Loop.This is an infinite Loop.This is an infinite Loop.This is an infinite Loop.This is an infinite Loop.This is an infinite Loop.This is an infinite Loop.This is an infinite Loop.This is an infinite Loop.This is an infinite Loop.This is an infinite Loop.This is an infinite Loop.This is an infinite Loop.This is an infinite Loop.This is an infinite Loop.This is an infinite Loop.This is an infinite Loop.This is an infinite Loop.This is an infinite Loop.This is an infinite Loop.This is an infinite Loop.This is an infinite Loop.This is an infinite Loop.This is an infinite Loop.This is an infinite Loop.This is an infinite Loop.This is an infinite Loop.This is an infinite Loop.This is an infinite Loop.This is an infinite Loop.This is an infinite Loop.This is an infinite Loop.This is an infinite Loop.This is an infinite Loop.This is an infinite Loop.This is an infinite Loop.This is an infinite Loop.This is an infinite Loop.This is an infinite Loop.This is an infinite Loop.This is an infinite Loop.This is an infinite Loop.This is an infinite Loop.This is an infinite Loop.This is an infinite Loop.This is an infinite Loop.This is an infinite Loop.This is an infinite Loop.This is an infinite Loop.This is an infinite Loop.This is an infinite Loop.This is an infinite Loop.This is an infinite Loop.This is an infinite Loop.This is an infinite Loop.This is an infinite Loop.This is an infinite Loop.This is an infinite Loop.This is an infinite Loop.This is an infinite Loop.This is an infinite Loop.This is an infinite Loop.This is an infinite Loop.This is an infinite Loop.This is an infinite Loop.This is an infinite Loop.This is an infinite Loop.This is an infinite Loop.This is an infinite Loop.This is an infinite Loop.This is an infinite Loop.This is an infinite Loop.This is an infinite Loop.This is an infinite Loop.This is an infinite Loop.This is an infinite Loop.This is an infinite Loop.This is an infinite Loop.This is an infinite Loop.This is an infinite Loop.This is an infinite Loop.This is an infinite Loop.This is an infinite Loop.This is an infinite Loop.This is an infinite Loop.This is an infinite Loop.This is an infinite Loop.This is an infinite Loop.This is an infinite Loop.This is an infinite Loop.This is an infinite Loop.This is an infinite Loop.This is an infinite Loop.This is an infinite Loop.This is an infinite Loop.This is an infinite Loop.This is an infinite Loop.This is an infinite Loop.This is an infinite Loop.This is an infinite Loop.This is an infinite Loop.This is an infinite Loop.This is an infinite Loop.This is an infinite Loop.This is an infinite Loop.This is an infinite Loop.This is an infinite Loop.This is an infinite Loop.This is an infinite Loop.This is an infinite Loop.This is an infinite Loop.This is an infinite Loop.This is an infinite Loop.This is an infinite Loop.This is an infinite Loop.This is an infinite Loop.This is an infinite Loop.This is an infinite Loop.This is an infinite Loop.This is an infinite Loop.This is an infinite Loop.This is an infinite Loop.This is an infinite Loop.This is an infinite Loop.This is an infinite Loop.This is an infinite Loop.This is an infinite Loop.This is an infinite Loop.This is an infinite Loop.This is an infinite Loop.This is an infinite Loop.This is an infinite Loop.This is an infinite Loop.This is an infinite Loop.This is an infinite Loop.This is an infinite Loop.This is an infinite Loop.This is an infinite Loop.This is an infinite Loop.This is an infinite Loop.This is an infinite Loop.This is an infinite Loop.This is an infinite Loop.This is an infinite Loop.This is an infinite Loop.This is an infinite Loop.This is an infinite Loop.This is an infinite Loop.This is an infinite Loop.This is an infinite Loop.This is an infinite Loop.This is an infinite Loop.This is an infinite Loop.This is an infinite Loop.This is an infinite Loop.This is an infinite Loop.This is an infinite Loop.This is an infinite Loop.This is an infinite Loop.This is an infinite Loop.This is an infinite Loop.This is an infinite Loop.This is an infinite Loop.This is an infinite Loop.This is an infinite Loop.This is an infinite Loop.This is an infinite Loop.This is an infinite Loop.This is an infinite Loop.This is an infinite Loop.This is an infinite Loop.This is an infinite Loop.This is an infinite Loop.This is an infinite Loop.This is an infinite Loop.This is an infinite Loop.This is an infinite Loop.This is an infinite Loop.This is an infinite Loop.This is an infinite Loop.This is an infinite Loop.This is an infinite Loop.This is an infinite Loop.This is an infinite Loop.This is an infinite Loop.This is an infinite Loop.This is an infinite Loop.This is an infinite Loop.This is an infinite Loop.This is an infinite Loop.This is an infinite Loop.This is an infinite Loop.This is an infinite Loop.This is an infinite Loop.This is an infinite Loop.This is an infinite Loop.This is an infinite Loop.This is an infinite Loop.This is an infinite Loop.This is an infinite Loop.This is an infinite Loop.This is an infinite Loop.This is an infinite Loop.This is an infinite Loop.This is an infinite Loop.This is an infinite Loop.This is an infinite Loop.This is an infinite Loop.This is an infinite Loop.This is an infinite Loop.This is an infinite Loop.This is an infinite Loop.This is an infinite Loop.This is an infinite Loop.This is an infinite Loop.This is an infinite Loop.This is an infinite Loop.This is an infinite Loop.This is an infinite Loop.This is an infinite Loop.This is an infinite Loop.This is an infinite Loop.This is an infinite Loop.This is an infinite Loop.This is an infinite Loop.This is an infinite Loop.This is an infinite Loop.This is an infinite Loop.This is an infinite Loop.This is an infinite Loop.This is an infinite Loop.This is an infinite Loop.This is an infinite Loop.This is an infinite Loop.This is an infinite Loop.This is an infinite Loop.This is an infinite Loop.This is an infinite Loop.This is an infinite Loop.This is an infinite Loop.This is an infinite Loop.This is an infinite Loop.This is an infinite Loop.This is an infinite Loop.This is an infinite Loop.This is an infinite Loop.This is an infinite Loop.This is an infinite Loop.This is an infinite Loop.This is an infinite Loop.This is an infinite Loop.This is an infinite Loop.This is an infinite Loop.This is an infinite Loop.This is an infinite Loop.This is an infinite Loop.This is an infinite Loop.This is an infinite Loop.This is an infinite Loop.This is an infinite Loop.This is an infinite Loop.This is an infinite Loop.This is an infinite Loop.This is an infinite Loop.This is an infinite Loop.This is an infinite Loop.This is an infinite Loop.This is an infinite Loop.This is an infinite Loop.This is an infinite Loop.This is an infinite Loop.This is an infinite Loop.This is an infinite Loop.This is an infinite Loop.This is an infinite Loop.This is an infinite Loop.This is an infinite Loop.This is an infinite Loop.This is an infinite Loop.This is an infinite Loop.This is an infinite Loop.This is an infinite Loop.This is an infinite Loop.This is an infinite Loop.This is an infinite Loop.This is an infinite Loop.This is an infinite Loop.This is an infinite Loop.This is an infinite Loop.This is an infinite Loop.This is an infinite Loop.This is an infinite Loop.This is an infinite Loop.This is an infinite Loop.This is an infinite Loop.This is an infinite Loop.This is an infinite Loop.This is an infinite Loop.This is an infinite Loop.This is an infinite Loop.This is an infinite Loop.This is an infinite Loop.This is an infinite Loop.This is an infinite Loop.This is an infinite Loop.This is an infinite Loop.This is an infinite Loop.This is an infinite Loop.This is an infinite Loop.This is an infinite Loop.This is an infinite Loop.This is an infinite Loop.This is an infinite Loop.This is an infinite Loop.This is an infinite Loop.This is an infinite Loop.This is an infinite Loop.This is an infinite Loop.This is an infinite Loop.This is an infinite Loop.This is an infinite Loop.This is an infinite Loop.This is an infinite Loop.This is an infinite Loop.This is an infinite Loop.This is an infinite Loop.This is an infinite Loop.This is an infinite Loop.This is an infinite Loop.This is an infinite Loop.This is an infinite Loop.This is an infinite Loop.This is an infinite Loop.This is an infinite Loop.This is an infinite Loop.This is an infinite Loop.This is an infinite Loop.This is an infinite Loop.This is an infinite Loop.This is an infinite Loop.This is an infinite Loop.This is an infinite Loop.This is an infinite Loop.This is an infinite Loop.This is an infinite Loop.This is an infinite Loop.This is an infinite Loop.This is an infinite Loop.This is an infinite Loop.This is an infinite Loop.This is an infinite Loop.This is an infinite Loop.This is an infinite Loop.This is an infinite Loop.This is an infinite Loop.This is an infinite Loop.This is an infinite Loop.This is an infinite Loop.This is an infinite Loop.This is an infinite Loop.This is an infinite Loop.This is an infinite Loop.This is an infinite Loop.This is an infinite Loop.This is an infinite Loop.This is an infinite Loop.This is an infinite Loop.This is an infinite Loop.This is an infinite Loop.This is an infinite Loop.This is an infinite Loop.This is an infinite Loop.This is an infinite Loop.This is an infinite Loop.This is an infinite Loop.This is an infinite Loop.This is an infinite Loop.This is an infinite Loop.This is an infinite Loop.This is an infinite Loop.This is an infinite Loop.This is an infinite Loop.This is an infinite Loop.This is an infinite Loop.This is an infinite Loop.This is an infinite Loop.This is an infinite Loop.This is an infinite Loop.This is an infinite Loop.This is an infinite Loop.This is an infinite Loop.This is an infinite Loop.This is an infinite Loop.This is an infinite Loop.This is an infinite Loop.This is an infinite Loop.This is an infinite Loop.This is an infinite Loop.This is an infinite Loop.This is an infinite Loop.This is an infinite Loop.This is an infinite Loop.This is an infinite Loop.This is an infinite Loop.This is an infinite Loop.This is an infinite Loop.This is an infinite Loop.This is an infinite Loop.This is an infinite Loop.This is an infinite Loop.This is an infinite Loop.This is an infinite Loop.This is an infinite Loop.This is an infinite Loop.This is an infinite Loop.This is an infinite Loop.This is an infinite Loop.This is an infinite Loop.This is an infinite Loop.This is an infinite Loop.This is an infinite Loop.This is an infinite Loop.This is an infinite Loop.This is an infinite Loop.This is an infinite Loop.This is an infinite Loop.This is an infinite Loop.This is an infinite Loop.This is an infinite Loop.This is an infinite Loop.This is an infinite Loop.This is an infinite Loop.This is an infinite Loop.This is an infinite Loop.This is an infinite Loop.This is an infinite Loop.This is an infinite Loop.This is an infinite Loop.This is an infinite Loop.This is an infinite Loop.This is an infinite Loop.This is an infinite Loop.This is an infinite Loop.This is an infinite Loop.This is an infinite Loop.This is an infinite Loop.This is an infinite Loop.This is an infinite Loop.This is an infinite Loop.This is an infinite Loop.This is an infinite Loop.This is an infinite Loop.This is an infinite Loop.This is an infinite Loop.This is an infinite Loop.This is an infinite Loop.This is an infinite Loop.This is an infinite Loop.This is an infinite Loop.This is an infinite Loop.This is an infinite Loop.This is an infinite Loop.This is an infinite Loop.This is an infinite Loop.This is an infinite Loop.This is an infinite Loop.This is an infinite Loop.This is an infinite Loop.This is an infinite Loop.This is an infinite Loop.This is an infinite Loop.This is an infinite Loop.This is an infinite Loop.This is an infinite Loop.This is an infinite Loop.This is an infinite Loop.This is an infinite Loop.This is an infinite Loop.This is an infinite Loop.This is an infinite Loop.This is an infinite Loop.This is an infinite Loop.This is an infinite Loop.This is an infinite Loop.This is an infinite Loop.This is an infinite Loop.This is an infinite Loop.This is an infinite Loop.This is an infinite Loop.This is an infinite Loop.This is an infinite Loop.This is an infinite Loop.This is an infinite Loop.This is an infinite Loop.This is an infinite Loop.This is an infinite Loop.This is an infinite Loop.This is an infinite Loop.This is an infinite Loop.This is an infinite Loop.This is an infinite Loop.This is an infinite Loop.This is an infinite Loop.This is an infinite Loop.This is an infinite Loop.This is an infinite Loop.This is an infinite Loop.This is an infinite Loop.This is an infinite Loop.This is an infinite Loop.This is an infinite Loop.This is an infinite Loop.This is an infinite Loop.This is an infinite Loop.This is an infinite Loop.This is an infinite Loop.This is an infinite Loop.This is an infinite Loop.This is an infinite Loop.This is an infinite Loop.This is an infinite Loop.This is an infinite Loop.This is an infinite Loop.This is an infinite Loop.This is an infinite Loop.This is an infinite Loop.This is an infinite Loop.This is an infinite Loop.This is an infinite Loop.This is an infinite Loop.This is an infinite Loop.This is an infinite Loop.This is an infinite Loop.This is an infinite Loop.This is an infinite Loop.This is an infinite Loop.This is an infinite Loop.This is an infinite Loop.This is an infinite Loop.This is an infinite Loop.This is an infinite Loop.This is an infinite Loop.This is an infinite Loop.This is an infinite Loop.This is an infinite Loop.This is an infinite Loop.This is an infinite Loop.This is an infinite Loop.This is an infinite Loop.This is an infinite Loop.This is an infinite Loop.This is an infinite Loop.This is an infinite Loop.This is an infinite Loop.This is an infinite Loop.This is an infinite Loop.This is an infinite Loop.This is an infinite Loop.This is an infinite Loop.This is an infinite Loop.This is an infinite Loop.This is an infinite Loop.This is an infinite Loop.This is an infinite Loop.This is an infinite Loop.This is an infinite Loop.This is an infinite Loop.This is an infinite Loop.This is an infinite Loop.This is an infinite Loop.This is an infinite Loop.This is an infinite Loop.This is an infinite Loop.This is an infinite Loop.This is an infinite Loop.This is an infinite Loop.This is an infinite Loop.This is an infinite Loop.This is an infinite Loop.This is an infinite Loop.This is an infinite Loop.This is an infinite Loop.This is an infinite Loop.This is an infinite Loop.This is an infinite Loop.This is an infinite Loop.This is an infinite Loop.This is an infinite Loop.This is an infinite Loop.This is an infinite Loop.This is an infinite Loop.This is an infinite Loop.This is an infinite Loop.This is an infinite Loop.This is an infinite Loop.This is an infinite Loop.This is an infinite Loop.This is an infinite Loop.This is an infinite Loop.This is an infinite Loop.This is an infinite Loop.This is an infinite Loop.This is an infinite Loop.This is an infinite Loop.This is an infinite Loop.This is an infinite Loop.This is an infinite Loop.This is an infinite Loop.This is an infinite Loop.This is an infinite Loop.This is an infinite Loop.This is an infinite Loop.This is an infinite Loop.This is an infinite Loop.This is an infinite Loop.This is an infinite Loop.This is an infinite Loop.This is an infinite Loop.This is an infinite Loop.This is an infinite Loop.This is an infinite Loop.This is an infinite Loop.This is an infinite Loop.This is an infinite Loop.This is an infinite Loop.This is an infinite Loop.This is an infinite Loop.This is an infinite Loop.This is an infinite Loop.This is an infinite Loop.This is an infinite Loop.This is an infinite Loop.This is an infinite Loop.This is an infinite Loop.This is an infinite Loop.This is an infinite Loop.This is an infinite Loop.This is an infinite Loop.This is an infinite Loop.This is an infinite Loop.This is an infinite Loop.This is an infinite Loop.This is an infinite Loop.This is an infinite Loop.This is an infinite Loop.This is an infinite Loop.This is an infinite Loop.This is an infinite Loop.This is an infinite Loop.This is an infinite Loop.This is an infinite Loop.This is an infinite Loop.This is an infinite Loop.This is an infinite Loop.This is an infinite Loop.This is an infinite Loop.This is an infinite Loop.This is an infinite Loop.This is an infinite Loop.This is an infinite Loop.This is an infinite Loop.This is an infinite Loop.This is an infinite Loop.This is an infinite Loop.This is an infinite Loop.This is an infinite Loop.This is an infinite Loop.This is an infinite Loop.This is an infinite Loop.This is an infinite Loop.This is an infinite Loop.This is an infinite Loop.This is an infinite Loop.This is an infinite Loop.This is an infinite Loop.This is an infinite Loop.This is an infinite Loop.This is an infinite Loop.This is an infinite Loop.This is an infinite Loop.This is an infinite Loop.This is an infinite Loop.This is an infinite Loop.This is an infinite Loop.This is an infinite Loop.This is an infinite Loop.This is an infinite Loop.This is an infinite Loop.This is an infinite Loop.This is an infinite Loop.This is an infinite Loop.This is an infinite Loop.This is an infinite Loop.This is an infinite Loop.This is an infinite Loop.This is an infinite Loop.This is an infinite Loop.This is an infinite Loop.This is an infinite Loop.This is an infinite Loop.This is an infinite Loop.This is an infinite Loop.This is an infinite Loop.This is an infinite Loop.This is an infinite Loop.This is an infinite Loop.This is an infinite Loop.This is an infinite Loop.This is an infinite Loop.This is an infinite Loop.This is an infinite Loop.This is an infinite Loop.This is an infinite Loop.This is an infinite Loop.This is an infinite Loop.This is an infinite Loop.This is an infinite Loop.This is an infinite Loop.This is an infinite Loop.This is an infinite Loop.This is an infinite Loop.This is an infinite Loop.This is an infinite Loop.This is an infinite Loop.This is an infinite Loop.This is an infinite Loop.This is an infinite Loop.This is an infinite Loop.This is an infinite Loop.This is an infinite Loop.This is an infinite Loop.This is an infinite Loop.This is an infinite Loop.This is an infinite Loop.This is an infinite Loop.This is an infinite Loop.This is an infinite Loop.This is an infinite Loop.This is an infinite Loop.This is an infinite Loop.This is an infinite Loop.This is an infinite Loop.This is an infinite Loop.This is an infinite Loop.This is an infinite Loop.This is an infinite Loop.This is an infinite Loop.This is an infinite Loop.This is an infinite Loop.This is an infinite Loop.This is an infinite Loop.This is an infinite Loop.This is an infinite Loop.This is an infinite Loop.This is an infinite Loop.This is an infinite Loop.This is an infinite Loop.This is an infinite Loop.This is an infinite Loop.This is an infinite Loop.This is an infinite Loop.This is an infinite Loop.This is an infinite Loop.This is an infinite Loop.This is an infinite Loop.This is an infinite Loop.This is an infinite Loop.This is an infinite Loop.This is an infinite Loop.This is an infinite Loop.This is an infinite Loop.This is an infinite Loop.This is an infinite Loop.This is an infinite Loop.This is an infinite Loop.This is an infinite Loop.This is an infinite Loop.This is an infinite Loop.This is an infinite Loop.This is an infinite Loop.This is an infinite Loop.This is an infinite Loop.This is an infinite Loop.This is an infinite Loop.This is an infinite Loop.This is an infinite Loop.This is an infinite Loop.This is an infinite Loop.This is an infinite Loop.This is an infinite Loop.This is an infinite Loop.This is an infinite Loop.This is an infinite Loop.This is an infinite Loop.This is an infinite Loop.This is an infinite Loop.This is an infinite Loop.This is an infinite Loop.This is an infinite Loop.This is an infinite Loop.This is an infinite Loop.This is an infinite Loop.This is an infinite Loop.This is an infinite Loop.This is an infinite Loop.This is an infinite Loop.This is an infinite Loop.This is an infinite Loop.This is an infinite Loop.This is an infinite Loop.This is an infinite Loop.This is an infinite Loop.This is an infinite Loop.This is an infinite Loop.This is an infinite Loop.This is an infinite Loop.This is an infinite Loop.This is an infinite Loop.This is an infinite Loop.This is an infinite Loop.This is an infinite Loop.This is an infinite Loop.This is an infinite Loop.This is an infinite Loop.This is an infinite Loop.This is an infinite Loop.This is an infinite Loop.This is an infinite Loop.This is an infinite Loop.This is an infinite Loop.This is an infinite Loop.This is an infinite Loop.This is an infinite Loop.This is an infinite Loop.This is an infinite Loop.This is an infinite Loop.This is an infinite Loop.This is an infinite Loop.This is an infinite Loop.This is an infinite Loop.This is an infinite Loop.This is an infinite Loop.This is an infinite Loop.This is an infinite Loop.This is an infinite Loop.This is an infinite Loop.This is an infinite Loop.This is an infinite Loop.This is an infinite Loop.This is an infinite Loop.This is an infinite Loop.This is an infinite Loop.This is an infinite Loop.This is an infinite Loop.This is an infinite Loop.This is an infinite Loop.This is an infinite Loop.This is an infinite Loop.This is an infinite Loop.This is an infinite Loop.This is an infinite Loop.This is an infinite Loop.This is an infinite Loop.This is an infinite Loop.This is an infinite Loop.This is an infinite Loop.This is an infinite Loop.This is an infinite Loop.This is an infinite Loop.This is an infinite Loop.This is an infinite Loop.This is an infinite Loop.This is an infinite Loop.This is an infinite Loop.This is an infinite Loop.This is an infinite Loop.This is an infinite Loop.This is an infinite Loop.This is an infinite Loop.This is an infinite Loop.This is an infinite Loop.This is an infinite Loop.This is an infinite Loop.This is an infinite Loop.This is an infinite Loop.This is an infinite Loop.This is an infinite Loop.This is an infinite Loop.This is an infinite Loop.This is an infinite Loop.This is an infinite Loop.This is an infinite Loop.This is an infinite Loop.This is an infinite Loop.This is an infinite Loop.This is an infinite Loop.This is an infinite Loop.This is an infinite Loop.This is an infinite Loop.This is an infinite Loop.This is an infinite Loop.This is an infinite Loop.This is an infinite Loop.This is an infinite Loop.This is an infinite Loop.This is an infinite Loop.This is an infinite Loop.This is an infinite Loop.This is an infinite Loop.This is an infinite Loop.This is an infinite Loop.This is an infinite Loop.This is an infinite Loop.This is an infinite Loop.This is an infinite Loop.This is an infinite Loop.This is an infinite Loop.This is an infinite Loop.This is an infinite Loop.This is an infinite Loop.This is an infinite Loop.This is an infinite Loop.This is an infinite Loop.This is an infinite Loop.This is an infinite Loop.This is an infinite Loop.This is an infinite Loop.This is an infinite Loop.This is an infinite Loop.This is an infinite Loop.This is an infinite Loop.This is an infinite Loop.This is an infinite Loop.This is an infinite Loop.This is an infinite Loop.This is an infinite Loop.This is an infinite Loop.This is an infinite Loop.This is an infinite Loop.This is an infinite Loop.This is an infinite Loop.This is an infinite Loop.This is an infinite Loop.This is an infinite Loop.This is an infinite Loop.This is an infinite Loop.This is an infinite Loop.This is an infinite Loop.This is an infinite Loop.This is an infinite Loop.This is an infinite Loop.This is an infinite Loop.This is an infinite Loop.This is an infinite Loop.This is an infinite Loop.This is an infinite Loop.This is an infinite Loop.This is an infinite Loop.This is an infinite Loop.This is an infinite Loop.This is an infinite Loop.This is an infinite Loop.This is an infinite Loop.This is an infinite Loop.This is an infinite Loop.This is an infinite Loop.This is an infinite Loop.This is an infinite Loop.This is an infinite Loop.This is an infinite Loop.This is an infinite Loop.This is an infinite Loop.This is an infinite Loop.This is an infinite Loop.This is an infinite Loop.This is an infinite Loop.This is an infinite Loop.This is an infinite Loop.This is an infinite Loop.This is an infinite Loop.This is an infinite Loop.This is an infinite Loop.This is an infinite Loop.This is an infinite Loop.This is an infinite Loop.This is an infinite Loop.This is an infinite Loop.This is an infinite Loop.This is an infinite Loop.This is an infinite Loop.This is an infinite Loop.This is an infinite Loop.This is an infinite Loop.This is an infinite Loop.This is an infinite Loop.This is an infinite Loop.This is an infinite Loop.This is an infinite Loop.This is an infinite Loop.This is an infinite Loop.This is an infinite Loop.This is an infinite Loop.This is an infinite Loop.This is an infinite Loop.This is an infinite Loop.This is an infinite Loop.This is an infinite Loop.This is an infinite Loop.This is an infinite Loop.This is an infinite Loop.This is an infinite Loop.This is an infinite Loop.This is an infinite Loop.This is an infinite Loop.This is an infinite Loop.This is an infinite Loop.This is an infinite Loop.This is an infinite Loop.This is an infinite Loop.This is an infinite Loop.This is an infinite Loop.This is an infinite Loop.This is an infinite Loop.This is an infinite Loop.This is an infinite Loop.This is an infinite Loop.This is an infinite Loop.This is an infinite Loop.This is an infinite Loop.This is an infinite Loop.This is an infinite Loop.This is an infinite Loop.This is an infinite Loop.This is an infinite Loop.This is an infinite Loop.This is an infinite Loop.This is an infinite Loop.This is an infinite Loop.This is an infinite Loop.This is an infinite Loop.This is an infinite Loop.This is an infinite Loop.This is an infinite Loop.This is an infinite Loop.This is an infinite Loop.This is an infinite Loop.This is an infinite Loop.This is an infinite Loop.This is an infinite Loop.This is an infinite Loop.This is an infinite Loop.This is an infinite Loop.This is an infinite Loop.This is an infinite Loop.This is an infinite Loop.This is an infinite Loop.This is an infinite Loop.This is an infinite Loop.This is an infinite Loop.This is an infinite Loop.This is an infinite Loop.This is an infinite Loop.This is an infinite Loop.This is an infinite Loop.This is an infinite Loop.This is an infinite Loop.This is an infinite Loop.This is an infinite Loop.This is an infinite Loop.This is an infinite Loop.This is an infinite Loop.This is an infinite Loop.This is an infinite Loop.This is an infinite Loop.This is an infinite Loop.This is an infinite Loop.This is an infinite Loop.This is an infinite Loop.This is an infinite Loop.This is an infinite Loop.This is an infinite Loop.This is an infinite Loop.This is an infinite Loop.This is an infinite Loop.This is an infinite Loop.This is an infinite Loop.This is an infinite Loop.This is an infinite Loop.This is an infinite Loop.This is an infinite Loop.This is an infinite Loop.This is an infinite Loop.This is an infinite Loop.This is an infinite Loop.This is an infinite Loop.This is an infinite Loop.This is an infinite Loop.This is an infinite Loop.This is an infinite Loop.This is an infinite Loop.This is an infinite Loop.This is an infinite Loop.This is an infinite Loop.This is an infinite Loop.This is an infinite Loop.This is an infinite Loop.This is an infinite Loop.This is an infinite Loop.This is an infinite Loop.This is an infinite Loop.This is an infinite Loop.This is an infinite Loop.This is an infinite Loop.This is an infinite Loop.This is an infinite Loop.This is an infinite Loop.This is an infinite Loop.This is an infinite Loop.This is an infinite Loop.This is an infinite Loop.This is an infinite Loop.This is an infinite Loop.This is an infinite Loop.This is an infinite Loop.This is an infinite Loop.This is an infinite Loop.This is an infinite Loop.This is an infinite Loop.This is an infinite Loop.This is an infinite Loop.This is an infinite Loop.This is an infinite Loop.This is an infinite Loop.This is an infinite Loop.This is an infinite Loop.This is an infinite Loop.This is an infinite Loop.This is an infinite Loop.This is an infinite Loop.This is an infinite Loop.This is an infinite Loop.This is an infinite Loop.This is an infinite Loop.This is an infinite Loop.This is an infinite Loop.This is an infinite Loop.This is an infinite Loop.This is an infinite Loop.This is an infinite Loop.This is an infinite Loop.This is an infinite Loop.This is an infinite Loop.This is an infinite Loop.This is an infinite Loop.This is an infinite Loop.This is an infinite Loop.This is an infinite Loop.This is an infinite Loop.This is an infinite Loop.This is an infinite Loop.This is an infinite Loop.This is an infinite Loop.This is an infinite Loop.This is an infinite Loop.This is an infinite Loop.This is an infinite Loop.This is an infinite Loop.This is an infinite Loop.This is an infinite Loop.This is an infinite Loop.This is an infinite Loop.This is an infinite Loop.This is an infinite Loop.This is an infinite Loop.This is an infinite Loop.This is an infinite Loop.This is an infinite Loop.This is an infinite Loop.This is an infinite Loop.This is an infinite Loop.This is an infinite Loop.This is an infinite Loop.This is an infinite Loop.This is an infinite Loop.This is an infinite Loop.This is an infinite Loop.This is an infinite Loop.This is an infinite Loop.This is an infinite Loop.This is an infinite Loop.This is an infinite Loop.This is an infinite Loop.This is an infinite Loop.This is an infinite Loop.This is an infinite Loop.This is an infinite Loop.This is an infinite Loop.This is an infinite Loop.This is an infinite Loop.This is an infinite Loop.This is an infinite Loop.This is an infinite Loop.This is an infinite Loop.This is an infinite Loop.This is an infinite Loop.This is an infinite Loop.This is an infinite Loop.This is an infinite Loop.This is an infinite Loop.This is an infinite Loop.This is an infinite Loop.This is an infinite Loop.This is an infinite Loop.This is an infinite Loop.This is an infinite Loop.This is an infinite Loop.This is an infinite Loop.This is an infinite Loop.This is an infinite Loop.This is an infinite Loop.This is an infinite Loop.This is an infinite Loop.This is an infinite Loop.This is an infinite Loop.This is an infinite Loop.This is an infinite Loop.This is an infinite Loop.This is an infinite Loop.This is an infinite Loop.This is an infinite Loop.This is an infinite Loop.This is an infinite Loop.This is an infinite Loop.This is an infinite Loop.This is an infinite Loop.This is an infinite Loop.This is an infinite Loop.This is an infinite Loop.This is an infinite Loop.This is an infinite Loop.This is an infinite Loop.This is an infinite Loop.This is an infinite Loop.This is an infinite Loop.This is an infinite Loop.This is an infinite Loop.This is an infinite Loop.This is an infinite Loop.This is an infinite Loop.This is an infinite Loop.This is an infinite Loop.This is an infinite Loop.This is an infinite Loop.This is an infinite Loop.This is an infinite Loop.This is an infinite Loop.This is an infinite Loop.This is an infinite Loop.This is an infinite Loop.This is an infinite Loop.This is an infinite Loop.This is an infinite Loop.This is an infinite Loop.This is an infinite Loop.This is an infinite Loop.This is an infinite Loop.This is an infinite Loop.This is an infinite Loop.This is an infinite Loop.This is an infinite Loop.This is an infinite Loop.This is an infinite Loop.This is an infinite Loop.This is an infinite Loop.This is an infinite Loop.This is an infinite Loop.This is an infinite Loop.This is an infinite Loop.This is an infinite Loop.This is an infinite Loop.This is an infinite Loop.This is an infinite Loop.This is an infinite Loop.This is an infinite Loop.This is an infinite Loop.This is an infinite Loop.This is an infinite Loop.This is an infinite Loop.This is an infinite Loop.This is an infinite Loop.This is an infinite Loop.This is an infinite Loop.This is an infinite Loop.This is an infinite Loop.This is an infinite Loop.This is an infinite Loop.This is an infinite Loop.This is an infinite Loop.This is an infinite Loop.This is an infinite Loop.This is an infinite Loop.This is an infinite Loop.This is an infinite Loop.This is an infinite Loop.This is an infinite Loop.This is an infinite Loop.This is an infinite Loop.This is an infinite Loop.This is an infinite Loop.This is an infinite Loop.This is an infinite Loop.This is an infinite Loop.This is an infinite Loop.This is an infinite Loop.This is an infinite Loop.This is an infinite Loop.This is an infinite Loop.This is an infinite Loop.This is an infinite Loop.This is an infinite Loop.This is an infinite Loop.This is an infinite Loop.This is an infinite Loop.This is an infinite Loop.This is an infinite Loop.This is an infinite Loop.This is an infinite Loop.This is an infinite Loop.This is an infinite Loop.This is an infinite Loop.This is an infinite Loop.This is an infinite Loop.This is an infinite Loop.This is an infinite Loop.This is an infinite Loop.This is an infinite Loop.This is an infinite Loop.This is an infinite Loop.This is an infinite Loop.This is an infinite Loop.This is an infinite Loop.This is an infinite Loop.This is an infinite Loop.This is an infinite Loop.This is an infinite Loop.This is an infinite Loop.This is an infinite Loop.This is an infinite Loop.This is an infinite Loop.This is an infinite Loop.This is an infinite Loop.This is an infinite Loop.This is an infinite Loop.This is an infinite Loop.This is an infinite Loop.This is an infinite Loop.This is an infinite Loop.This is an infinite Loop.This is an infinite Loop.This is an infinite Loop.This is an infinite Loop.This is an infinite Loop.This is an infinite Loop.This is an infinite Loop.This is an infinite Loop.This is an infinite Loop.This is an infinite Loop.This is an infinite Loop.This is an infinite Loop.This is an infinite Loop.This is an infinite Loop.This is an infinite Loop.This is an infinite Loop.This is an infinite Loop.This is an infinite Loop.This is an infinite Loop.This is an infinite Loop.This is an infinite Loop.This is an infinite Loop.This is an infinite Loop.This is an infinite Loop.This is an infinite Loop.This is an infinite Loop.This is an infinite Loop.This is an infinite Loop.This is an infinite Loop.This is an infinite Loop.This is an infinite Loop.This is an infinite Loop.This is an infinite Loop.This is an infinite Loop.This is an infinite Loop.This is an infinite Loop.This is an infinite Loop.This is an infinite Loop.This is an infinite Loop.This is an infinite Loop.This is an infinite Loop.This is an infinite Loop.This is an infinite Loop.This is an infinite Loop.This is an infinite Loop.This is an infinite Loop.This is an infinite Loop.This is an infinite Loop.This is an infinite Loop.This is an infinite Loop.This is an infinite Loop.This is an infinite Loop.This is an infinite Loop.This is an infinite Loop.This is an infinite Loop.This is an infinite Loop.This is an infinite Loop.This is an infinite Loop.This is an infinite Loop.This is an infinite Loop.This is an infinite Loop.This is an infinite Loop.This is an infinite Loop.This is an infinite Loop.This is an infinite Loop.This is an infinite Loop.This is an infinite Loop.This is an infinite Loop.This is an infinite Loop.This is an infinite Loop.This is an infinite Loop.This is an infinite Loop.This is an infinite Loop.This is an infinite Loop.This is an infinite Loop.This is an infinite Loop.This is an infinite Loop.This is an infinite Loop.This is an infinite Loop.This is an infinite Loop.This is an infinite Loop.This is an infinite Loop.This is an infinite Loop.This is an infinite Loop.This is an infinite Loop.This is an infinite Loop.This is an infinite Loop.This is an infinite Loop.This is an infinite Loop.This is an infinite Loop.This is an infinite Loop.This is an infinite Loop.This is an infinite Loop.This is an infinite Loop.This is an infinite Loop.This is an infinite Loop.This is an infinite Loop.This is an infinite Loop.This is an infinite Loop.This is an infinite Loop.This is an infinite Loop.This is an infinite Loop.This is an infinite Loop.This is an infinite Loop.This is an infinite Loop.This is an infinite Loop.This is an infinite Loop.This is an infinite Loop.This is an infinite Loop.This is an infinite Loop.This is an infinite Loop.This is an infinite Loop.This is an infinite Loop.This is an infinite Loop.This is an infinite Loop.This is an infinite Loop.This is an infinite Loop.This is an infinite Loop.This is an infinite Loop.This is an infinite Loop.This is an infinite Loop.This is an infinite Loop.This is an infinite Loop.This is an infinite Loop.This is an infinite Loop.This is an infinite Loop.This is an infinite Loop.This is an infinite Loop.This is an infinite Loop.This is an infinite Loop.This is an infinite Loop.This is an infinite Loop.This is an infinite Loop.This is an infinite Loop.This is an infinite Loop.This is an infinite Loop.This is an infinite Loop.This is an infinite Loop.This is an infinite Loop.This is an infinite Loop.This is an infinite Loop.This is an infinite Loop.This is an infinite Loop.This is an infinite Loop.This is an infinite Loop.This is an infinite Loop.This is an infinite Loop.This is an infinite Loop.This is an infinite Loop.This is an infinite Loop.This is an infinite Loop.This is an infinite Loop.This is an infinite Loop.This is an infinite Loop.This is an infinite Loop.This is an infinite Loop.This is an infinite Loop.This is an infinite Loop.This is an infinite Loop.This is an infinite Loop.This is an infinite Loop.This is an infinite Loop.This is an infinite Loop.This is an infinite Loop.This is an infinite Loop.This is an infinite Loop.This is an infinite Loop.This is an infinite Loop.This is an infinite Loop.This is an infinite Loop.This is an infinite Loop.This is an infinite Loop.This is an infinite Loop.This is an infinite Loop.This is an infinite Loop.This is an infinite Loop.This is an infinite Loop.This is an infinite Loop.This is an infinite Loop.This is an infinite Loop.This is an infinite Loop.This is an infinite Loop.This is an infinite Loop.This is an infinite Loop.This is an infinite Loop.This is an infinite Loop.This is an infinite Loop.This is an infinite Loop.This is an infinite Loop.This is an infinite Loop.This is an infinite Loop.This is an infinite Loop.This is an infinite Loop.This is an infinite Loop.This is an infinite Loop.This is an infinite Loop.This is an infinite Loop.This is an infinite Loop.This is an infinite Loop.This is an infinite Loop.This is an infinite Loop.This is an infinite Loop.This is an infinite Loop.This is an infinite Loop.This is an infinite Loop.This is an infinite Loop.This is an infinite Loop.This is an infinite Loop.This is an infinite Loop.This is an infinite Loop.This is an infinite Loop.This is an infinite Loop.This is an infinite Loop.This is an infinite Loop.This is an infinite Loop.This is an infinite Loop.This is an infinite Loop.This is an infinite Loop.This is an infinite Loop.This is an infinite Loop.This is an infinite Loop.This is an infinite Loop.This is an infinite Loop.This is an infinite Loop.This is an infinite Loop.This is an infinite Loop.This is an infinite Loop.This is an infinite Loop.This is an infinite Loop.This is an infinite Loop.This is an infinite Loop.This is an infinite Loop.This is an infinite Loop.This is an infinite Loop.This is an infinite Loop.This is an infinite Loop.This is an infinite Loop.This is an infinite Loop.This is an infinite Loop.This is an infinite Loop.This is an infinite Loop.This is an infinite Loop.This is an infinite Loop.This is an infinite Loop.This is an infinite Loop.This is an infinite Loop.This is an infinite Loop.This is an infinite Loop.This is an infinite Loop.This is an infinite Loop.This is an infinite Loop.This is an infinite Loop.This is an infinite Loop.This is an infinite Loop.This is an infinite Loop.This is an infinite Loop.This is an infinite Loop.This is an infinite Loop.This is an infinite Loop.This is an infinite Loop.This is an infinite Loop.This is an infinite Loop.This is an infinite Loop.This is an infinite Loop.This is an infinite Loop.This is an infinite Loop.This is an infinite Loop.This is an infinite Loop.This is an infinite Loop.This is an infinite Loop.This is an infinite Loop.This is an infinite Loop.This is an infinite Loop.This is an infinite Loop.This is an infinite Loop.This is an infinite Loop.This is an infinite Loop.This is an infinite Loop.This is an infinite Loop.This is an infinite Loop.This is an infinite Loop.This is an infinite Loop.This is an infinite Loop.This is an infinite Loop.This is an infinite Loop.This is an infinite Loop.This is an infinite Loop.This is an infinite Loop.This is an infinite Loop.This is an infinite Loop.This is an infinite Loop.This is an infinite Loop.This is an infinite Loop.This is an infinite Loop.This is an infinite Loop.This is an infinite Loop.This is an infinite Loop.This is an infinite Loop.This is an infinite Loop.This is an infinite Loop.This is an infinite Loop.This is an infinite Loop.This is an infinite Loop.This is an infinite Loop.This is an infinite Loop.This is an infinite Loop.This is an infinite Loop.This is an infinite Loop.This is an infinite Loop.This is an infinite Loop.This is an infinite Loop.This is an infinite Loop.This is an infinite Loop.This is an infinite Loop.This is an infinite Loop.This is an infinite Loop.This is an infinite Loop.This is an infinite Loop.This is an infinite Loop.This is an infinite Loop.This is an infinite Loop.This is an infinite Loop.This is an infinite Loop.This is an infinite Loop.This is an infinite Loop.This is an infinite Loop.This is an infinite Loop.This is an infinite Loop.This is an infinite Loop.This is an infinite Loop.This is an infinite Loop.This is an infinite Loop.This is an infinite Loop.This is an infinite Loop.This is an infinite Loop.This is an infinite Loop.This is an infinite Loop.This is an infinite Loop.This is an infinite Loop.This is an infinite Loop.This is an infinite Loop.This is an infinite Loop.This is an infinite Loop.This is an infinite Loop.This is an infinite Loop.This is an infinite Loop.This is an infinite Loop.This is an infinite Loop.This is an infinite Loop.This is an infinite Loop.This is an infinite Loop.This is an infinite Loop.This is an infinite Loop.This is an infinite Loop.This is an infinite Loop.This is an infinite Loop.This is an infinite Loop.This is an infinite Loop.This is an infinite Loop.This is an infinite Loop.This is an infinite Loop.This is an infinite Loop.This is an infinite Loop.This is an infinite Loop.This is an infinite Loop.This is an infinite Loop.This is an infinite Loop.This is an infinite Loop.This is an infinite Loop.This is an infinite Loop.This is an infinite Loop.This is an infinite Loop.This is an infinite Loop.This is an infinite Loop.This is an infinite Loop.This is an infinite Loop.This is an infinite Loop.This is an infinite Loop.This is an infinite Loop.This is an infinite Loop.This is an infinite Loop.This is an infinite Loop.This is an infinite Loop.This is an infinite Loop.This is an infinite Loop.This is an infinite Loop.This is an infinite Loop.This is an infinite Loop.This is an infinite Loop.This is an infinite Loop.This is an infinite Loop.This is an infinite Loop.This is an infinite Loop.This is an infinite Loop.This is an infinite Loop.This is an infinite Loop.This is an infinite Loop.This is an infinite Loop.This is an infinite Loop.This is an infinite Loop.This is an infinite Loop.This is an infinite Loop.This is an infinite Loop.This is an infinite Loop.This is an infinite Loop.This is an infinite Loop.This is an infinite Loop.This is an infinite Loop.This is an infinite Loop.This is an infinite Loop.This is an infinite Loop.This is an infinite Loop.This is an infinite Loop.This is an infinite Loop.This is an infinite Loop.This is an infinite Loop.This is an infinite Loop.This is an infinite Loop.This is an infinite Loop.This is an infinite Loop.This is an infinite Loop.This is an infinite Loop.This is an infinite Loop.This is an infinite Loop.This is an infinite Loop.This is an infinite Loop.This is an infinite Loop.This is an infinite Loop.This is an infinite Loop.This is an infinite Loop.This is an infinite Loop.This is an infinite Loop.This is an infinite Loop.This is an infinite Loop.This is an infinite Loop.This is an infinite Loop.This is an infinite Loop.This is an infinite Loop.This is an infinite Loop.This is an infinite Loop.This is an infinite Loop.This is an infinite Loop.This is an infinite Loop.This is an infinite Loop.This is an infinite Loop.This is an infinite Loop.This is an infinite Loop.This is an infinite Loop.This is an infinite Loop.This is an infinite Loop.This is an infinite Loop.This is an infinite Loop.This is an infinite Loop.This is an infinite Loop.This is an infinite Loop.This is an infinite Loop.This is an infinite Loop.This is an infinite Loop.This is an infinite Loop.This is an infinite Loop.This is an infinite Loop.This is an infinite Loop.This is an infinite Loop.This is an infinite Loop.This is an infinite Loop.This is an infinite Loop.This is an infinite Loop.This is an infinite Loop.This is an infinite Loop.This is an infinite Loop.This is an infinite Loop.This is an infinite Loop.This is an infinite Loop.This is an infinite Loop.This is an infinite Loop.This is an infinite Loop.This is an infinite Loop.This is an infinite Loop.This is an infinite Loop.This is an infinite Loop.This is an infinite Loop.This is an infinite Loop.This is an infinite Loop.This is an infinite Loop.This is an infinite Loop.This is an infinite Loop.This is an infinite Loop.This is an infinite Loop.This is an infinite Loop.This is an infinite Loop.This is an infinite Loop.This is an infinite Loop.This is an infinite Loop.This is an infinite Loop.This is an infinite Loop.This is an infinite Loop.This is an infinite Loop.This is an infinite Loop.This is an infinite Loop.This is an infinite Loop.This is an infinite Loop.This is an infinite Loop.This is an infinite Loop.This is an infinite Loop.This is an infinite Loop.This is an infinite Loop.This is an infinite Loop.This is an infinite Loop.This is an infinite Loop.This is an infinite Loop.This is an infinite Loop.This is an infinite Loop.This is an infinite Loop.This is an infinite Loop.This is an infinite Loop.This is an infinite Loop.This is an infinite Loop.This is an infinite Loop.This is an infinite Loop.This is an infinite Loop.This is an infinite Loop.This is an infinite Loop.This is an infinite Loop.This is an infinite Loop.This is an infinite Loop.This is an infinite Loop.This is an infinite Loop.This is an infinite Loop.This is an infinite Loop.This is an infinite Loop.This is an infinite Loop.This is an infinite Loop.This is an infinite Loop.This is an infinite Loop.This is an infinite Loop.This is an infinite Loop.This is an infinite Loop.This is an infinite Loop.This is an infinite Loop.This is an infinite Loop.This is an infinite Loop.This is an infinite Loop.This is an infinite Loop.This is an infinite Loop.This is an infinite Loop.This is an infinite Loop.This is an infinite Loop.This is an infinite Loop.This is an infinite Loop.This is an infinite Loop.This is an infinite Loop.This is an infinite Loop.This is an infinite Loop.This is an infinite Loop.This is an infinite Loop.This is an infinite Loop.This is an infinite Loop.This is an infinite Loop.This is an infinite Loop.This is an infinite Loop.This is an infinite Loop.This is an infinite Loop.This is an infinite Loop.This is an infinite Loop.This is an infinite Loop.This is an infinite Loop.This is an infinite Loop.This is an infinite Loop.This is an infinite Loop.This is an infinite Loop.This is an infinite Loop.This is an infinite Loop.This is an infinite Loop.This is an infinite Loop.This is an infinite Loop.This is an infinite Loop.This is an infinite Loop.This is an infinite Loop.This is an infinite Loop.This is an infinite Loop.This is an infinite Loop.This is an infinite Loop.This is an infinite Loop.This is an infinite Loop.This is an infinite Loop.This is an infinite Loop.This is an infinite Loop.This is an infinite Loop.This is an infinite Loop.This is an infinite Loop.This is an infinite Loop.This is an infinite Loop.This is an infinite Loop.This is an infinite Loop.This is an infinite Loop.This is an infinite Loop.This is an infinite Loop.This is an infinite Loop.This is an infinite Loop.This is an infinite Loop.This is an infinite Loop.This is an infinite Loop.This is an infinite Loop.This is an infinite Loop.This is an infinite Loop.This is an infinite Loop.This is an infinite Loop.This is an infinite Loop.This is an infinite Loop.This is an infinite Loop.This is an infinite Loop.This is an infinite Loop.This is an infinite Loop.This is an infinite Loop.This is an infinite Loop.This is an infinite Loop.This is an infinite Loop.This is an infinite Loop.This is an infinite Loop.This is an infinite Loop.This is an infinite Loop.This is an infinite Loop.This is an infinite Loop.This is an infinite Loop.This is an infinite Loop.This is an infinite Loop.This is an infinite Loop.This is an infinite Loop.This is an infinite Loop.This is an infinite Loop.This is an infinite Loop.This is an infinite Loop.This is an infinite Loop.This is an infinite Loop.This is an infinite Loop.This is an infinite Loop.This is an infinite Loop.This is an infinite Loop.This is an infinite Loop.This is an infinite Loop.This is an infinite Loop.This is an infinite Loop.This is an infinite Loop.This is an infinite Loop.This is an infinite Loop.This is an infinite Loop.This is an infinite Loop.This is an infinite Loop.This is an infinite Loop.This is an infinite Loop.This is an infinite Loop.This is an infinite Loop.This is an infinite Loop.This is an infinite Loop.This is an infinite Loop.This is an infinite Loop.This is an infinite Loop.This is an infinite Loop.This is an infinite Loop.This is an infinite Loop.This is an infinite Loop.This is an infinite Loop.This is an infinite Loop.This is an infinite Loop.This is an infinite Loop.This is an infinite Loop.This is an infinite Loop.This is an infinite Loop.This is an infinite Loop.This is an infinite Loop.This is an infinite Loop.This is an infinite Loop.This is an infinite Loop.This is an infinite Loop.This is an infinite Loop.This is an infinite Loop.This is an infinite Loop.This is an infinite Loop.This is an infinite Loop.This is an infinite Loop.This is an infinite Loop.This is an infinite Loop.This is an infinite Loop.This is an infinite Loop.This is an infinite Loop.This is an infinite Loop.This is an infinite Loop.This is an infinite Loop.This is an infinite Loop.This is an infinite Loop.This is an infinite Loop.This is an infinite Loop.This is an infinite Loop.This is an infinite Loop.This is an infinite Loop.This is an infinite Loop.This is an infinite Loop.This is an infinite Loop.This is an infinite Loop.This is an infinite Loop.This is an infinite Loop.This is an infinite Loop.This is an infinite Loop.This is an infinite Loop.This is an infinite Loop.This is an infinite Loop.This is an infinite Loop.This is an infinite Loop.This is an infinite Loop.This is an infinite Loop.This is an infinite Loop.This is an infinite Loop.This is an infinite Loop.This is an infinite Loop.This is an infinite Loop.This is an infinite Loop.This is an infinite Loop.This is an infinite Loop.This is an infinite Loop.This is an infinite Loop.This is an infinite Loop.This is an infinite Loop.This is an infinite Loop.This is an infinite Loop.This is an infinite Loop.This is an infinite Loop.This is an infinite Loop.This is an infinite Loop.This is an infinite Loop.This is an infinite Loop.This is an infinite Loop.This is an infinite Loop.This is an infinite Loop.This is an infinite Loop.This is an infinite Loop.This is an infinite Loop.This is an infinite Loop.This is an infinite Loop.This is an infinite Loop.This is an infinite Loop.This is an infinite Loop.This is an infinite Loop.This is an infinite Loop.This is an infinite Loop.This is an infinite Loop.This is an infinite Loop.This is an infinite Loop.This is an infinite Loop.This is an infinite Loop.This is an infinite Loop.This is an infinite Loop.This is an infinite Loop.This is an infinite Loop.This is an infinite Loop.This is an infinite Loop.This is an infinite Loop.This is an infinite Loop.This is an infinite Loop.This is an infinite Loop.This is an infinite Loop.This is an infinite Loop.This is an infinite Loop.This is an infinite Loop.This is an infinite Loop.This is an infinite Loop.This is an infinite Loop.This is an infinite Loop.This is an infinite Loop.This is an infinite Loop.This is an infinite Loop.This is an infinite Loop.This is an infinite Loop.This is an infinite Loop.This is an infinite Loop.This is an infinite Loop.This is an infinite Loop.This is an infinite Loop.This is an infinite Loop.This is an infinite Loop.This is an infinite Loop.This is an infinite Loop.This is an infinite Loop.This is an infinite Loop.This is an infinite Loop.This is an infinite Loop.This is an infinite Loop.This is an infinite Loop.This is an infinite Loop.This is an infinite Loop.This is an infinite Loop.This is an infinite Loop.This is an infinite Loop.This is an infinite Loop.This is an infinite Loop.This is an infinite Loop.This is an infinite Loop.This is an infinite Loop.This is an infinite Loop.This is an infinite Loop.This is an infinite Loop.This is an infinite Loop.This is an infinite Loop.This is an infinite Loop.This is an infinite Loop.This is an infinite Loop.This is an infinite Loop.This is an infinite Loop.This is an infinite Loop.This is an infinite Loop.This is an infinite Loop.This is an infinite Loop.This is an infinite Loop.This is an infinite Loop.This is an infinite Loop.This is an infinite Loop.This is an infinite Loop.This is an infinite Loop.This is an infinite Loop.This is an infinite Loop.This is an infinite Loop.This is an infinite Loop.This is an infinite Loop.This is an infinite Loop.This is an infinite Loop.This is an infinite Loop.This is an infinite Loop.This is an infinite Loop.This is an infinite Loop.This is an infinite Loop.This is an infinite Loop.This is an infinite Loop.This is an infinite Loop.This is an infinite Loop.This is an infinite Loop.This is an infinite Loop.This is an infinite Loop.This is an infinite Loop.This is an infinite Loop.This is an infinite Loop.This is an infinite Loop.This is an infinite Loop.This is an infinite Loop.This is an infinite Loop.This is an infinite Loop.This is an infinite Loop.This is an infinite Loop.This is an infinite Loop.This is an infinite Loop.This is an infinite Loop.This is an infinite Loop.This is an infinite Loop.This is an infinite Loop.This is an infinite Loop.This is an infinite Loop.This is an infinite Loop.This is an infinite Loop.This is an infinite Loop.This is an infinite Loop.This is an infinite Loop.This is an infinite Loop.This is an infinite Loop.This is an infinite Loop.This is an infinite Loop.This is an infinite Loop.This is an infinite Loop.This is an infinite Loop.This is an infinite Loop.This is an infinite Loop.This is an infinite Loop.This is an infinite Loop.This is an infinite Loop.This is an infinite Loop.This is an infinite Loop.This is an infinite Loop.This is an infinite Loop.This is an infinite Loop.This is an infinite Loop.This is an infinite Loop.This is an infinite Loop.This is an infinite Loop.This is an infinite Loop.This is an infinite Loop.This is an infinite Loop.This is an infinite Loop.This is an infinite Loop.This is an infinite Loop.This is an infinite Loop.This is an infinite Loop.This is an infinite Loop.This is an infinite Loop.This is an infinite Loop.This is an infinite Loop.This is an infinite Loop.This is an infinite Loop.This is an infinite Loop.This is an infinite Loop.This is an infinite Loop.This is an infinite Loop.This is an infinite Loop.This is an infinite Loop.This is an infinite Loop.This is an infinite Loop.This is an infinite Loop.This is an infinite Loop.This is an infinite Loop.This is an infinite Loop.This is an infinite Loop.This is an infinite Loop.This is an infinite Loop.This is an infinite Loop.This is an infinite Loop.This is an infinite Loop.This is an infinite Loop.This is an infinite Loop.This is an infinite Loop.This is an infinite Loop.This is an infinite Loop.This is an infinite Loop.This is an infinite Loop.This is an infinite Loop.This is an infinite Loop.This is an infinite Loop.This is an infinite Loop.This is an infinite Loop.This is an infinite Loop.This is an infinite Loop.This is an infinite Loop.This is an infinite Loop.This is an infinite Loop.This is an infinite Loop.This is an infinite Loop.This is an infinite Loop.This is an infinite Loop.This is an infinite Loop.This is an infinite Loop.This is an infinite Loop.This is an infinite Loop.This is an infinite Loop.This is an infinite Loop.This is an infinite Loop.This is an infinite Loop.This is an infinite Loop.This is an infinite Loop.This is an infinite Loop.This is an infinite Loop.This is an infinite Loop.This is an infinite Loop.This is an infinite Loop.This is an infinite Loop.This is an infinite Loop.This is an infinite Loop.This is an infinite Loop.This is an infinite Loop.This is an infinite Loop.This is an infinite Loop.This is an infinite Loop.This is an infinite Loop.This is an infinite Loop.This is an infinite Loop.This is an infinite Loop.This is an infinite Loop.This is an infinite Loop.This is an infinite Loop.This is an infinite Loop.This is an infinite Loop.This is an infinite Loop.This is an infinite Loop.This is an infinite Loop.This is an infinite Loop.This is an infinite Loop.This is an infinite Loop.This is an infinite Loop.This is an infinite Loop.This is an infinite Loop.This is an infinite Loop.This is an infinite Loop.This is an infinite Loop.This is an infinite Loop.This is an infinite Loop.This is an infinite Loop.This is an infinite Loop.This is an infinite Loop.This is an infinite Loop.This is an infinite Loop.This is an infinite Loop.This is an infinite Loop.This is an infinite Loop.This is an infinite Loop.This is an infinite Loop.This is an infinite Loop.This is an infinite Loop.This is an infinite Loop.This is an infinite Loop.This is an infinite Loop.This is an infinite Loop.This is an infinite Loop.This is an infinite Loop.This is an infinite Loop.This is an infinite Loop.This is an infinite Loop.This is an infinite Loop.This is an infinite Loop.This is an infinite Loop.This is an infinite Loop.This is an infinite Loop.This is an infinite Loop.This is an infinite Loop.This is an infinite Loop.This is an infinite Loop.This is an infinite Loop.This is an infinite Loop.This is an infinite Loop.This is an infinite Loop.This is an infinite Loop.This is an infinite Loop.This is an infinite Loop.This is an infinite Loop.This is an infinite Loop.This is an infinite Loop.This is an infinite Loop.This is an infinite Loop.This is an infinite Loop.This is an infinite Loop.This is an infinite Loop.This is an infinite Loop.This is an infinite Loop.This is an infinite Loop.This is an infinite Loop.This is an infinite Loop.This is an infinite Loop.This is an infinite Loop.This is an infinite Loop.This is an infinite Loop.This is an infinite Loop.This is an infinite Loop.This is an infinite Loop.This is an infinite Loop.This is an infinite Loop.This is an infinite Loop.This is an infinite Loop.This is an infinite Loop.This is an infinite Loop.This is an infinite Loop.This is an infinite Loop.This is an infinite Loop.This is an infinite Loop.This is an infinite Loop.This is an infinite Loop.This is an infinite Loop.This is an infinite Loop.This is an infinite Loop.This is an infinite Loop.This is an infinite Loop.This is an infinite Loop.This is an infinite Loop.This is an infinite Loop.This is an infinite Loop.This is an infinite Loop.This is an infinite Loop.This is an infinite Loop.This is an infinite Loop.This is an infinite Loop.This is an infinite Loop.This is an infinite Loop.This is an infinite Loop.This is an infinite Loop.This is an infinite Loop.This is an infinite Loop.This is an infinite Loop.This is an infinite Loop.This is an infinite Loop.This is an infinite Loop.This is an infinite Loop.This is an infinite Loop.This is an infinite Loop.This is an infinite Loop.This is an infinite Loop.This is an infinite Loop.This is an infinite Loop.This is an infinite Loop.This is an infinite Loop.This is an infinite Loop.This is an infinite Loop.This is an infinite Loop.This is an infinite Loop.This is an infinite Loop.This is an infinite Loop.This is an infinite Loop.This is an infinite Loop.This is an infinite Loop.This is an infinite Loop.This is an infinite Loop.This is an infinite Loop.This is an infinite Loop.This is an infinite Loop.This is an infinite Loop.This is an infinite Loop.This is an infinite Loop.This is an infinite Loop.This is an infinite Loop.This is an infinite Loop.This is an infinite Loop.This is an infinite Loop.This is an infinite Loop.This is an infinite Loop.This is an infinite Loop.This is an infinite Loop.This is an infinite Loop.This is an infinite Loop.This is an infinite Loop.This is an infinite Loop.This is an infinite Loop.This is an infinite Loop.This is an infinite Loop.This is an infinite Loop.This is an infinite Loop.This is an infinite Loop.This is an infinite Loop.This is an infinite Loop.This is an infinite Loop.This is an infinite Loop.This is an infinite Loop.This is an infinite Loop.This is an infinite Loop.This is an infinite Loop.This is an infinite Loop.This is an infinite Loop.This is an infinite Loop.This is an infinite Loop.This is an infinite Loop.This is an infinite Loop.This is an infinite Loop.This is an infinite Loop.This is an infinite Loop.This is an infinite Loop.This is an infinite Loop.This is an infinite Loop.This is an infinite Loop.This is an infinite Loop.This is an infinite Loop.This is an infinite Loop.This is an infinite Loop.This is an infinite Loop.This is an infinite Loop.This is an infinite Loop.This is an infinite Loop.This is an infinite Loop.This is an infinite Loop.This is an infinite Loop.This is an infinite Loop.This is an infinite Loop.This is an infinite Loop.This is an infinite Loop.This is an infinite Loop.This is an infinite Loop.This is an infinite Loop.This is an infinite Loop.This is an infinite Loop.This is an infinite Loop.This is an infinite Loop.This is an infinite Loop.This is an infinite Loop.This is an infinite Loop.This is an infinite Loop.This is an infinite Loop.This is an infinite Loop.This is an infinite Loop.This is an infinite Loop.This is an infinite Loop.This is an infinite Loop.This is an infinite Loop.This is an infinite Loop.This is an infinite Loop.This is an infinite Loop.This is an infinite Loop.This is an infinite Loop.This is an infinite Loop.This is an infinite Loop.This is an infinite Loop.This is an infinite Loop.This is an infinite Loop.This is an infinite Loop.This is an infinite Loop.This is an infinite Loop.This is an infinite Loop.This is an infinite Loop.This is an infinite Loop.This is an infinite Loop.This is an infinite Loop.This is an infinite Loop.This is an infinite Loop.This is an infinite Loop.This is an infinite Loop.This is an infinite Loop.This is an infinite Loop.This is an infinite Loop.This is an infinite Loop.This is an infinite Loop.This is an infinite Loop.This is an infinite Loop.This is an infinite Loop.This is an infinite Loop.This is an infinite Loop.This is an infinite Loop.This is an infinite Loop.This is an infinite Loop.This is an infinite Loop.This is an infinite Loop.This is an infinite Loop.This is an infinite Loop.This is an infinite Loop.This is an infinite Loop.This is an infinite Loop.This is an infinite Loop.This is an infinite Loop.This is an infinite Loop.This is an infinite Loop.This is an infinite Loop.This is an infinite Loop.This is an infinite Loop.This is an infinite Loop.This is an infinite Loop.This is an infinite Loop.This is an infinite Loop.This is an infinite Loop.This is an infinite Loop.This is an infinite Loop.This is an infinite Loop.This is an infinite Loop.This is an infinite Loop.This is an infinite Loop.This is an infinite Loop.This is an infinite Loop.This is an infinite Loop.This is an infinite Loop.This is an infinite Loop.This is an infinite Loop.This is an infinite Loop.This is an infinite Loop.This is an infinite Loop.This is an infinite Loop.This is an infinite Loop.This is an infinite Loop.This is an infinite Loop.This is an infinite Loop.This is an infinite Loop.This is an infinite Loop.This is an infinite Loop.This is an infinite Loop.This is an infinite Loop.This is an infinite Loop.This is an infinite Loop.This is an infinite Loop.This is an infinite Loop.This is an infinite Loop.This is an infinite Loop.This is an infinite Loop.This is an infinite Loop.This is an infinite Loop.This is an infinite Loop.This is an infinite Loop.This is an infinite Loop.This is an infinite Loop.This is an infinite Loop.This is an infinite Loop.This is an infinite Loop.This is an infinite Loop.This is an infinite Loop.This is an infinite Loop.This is an infinite Loop.This is an infinite Loop.This is an infinite Loop.This is an infinite Loop.This is an infinite Loop.This is an infinite Loop.This is an infinite Loop.This is an infinite Loop.This is an infinite Loop.This is an infinite Loop.This is an infinite Loop.This is an infinite Loop.This is an infinite Loop.This is an infinite Loop.This is an infinite Loop.This is an infinite Loop.This is an infinite Loop.This is an infinite Loop.This is an infinite Loop.This is an infinite Loop.This is an infinite Loop.This is an infinite Loop.This is an infinite Loop.This is an infinite Loop.This is an infinite Loop.This is an infinite Loop.This is an infinite Loop.This is an infinite Loop.This is an infinite Loop.This is an infinite Loop.This is an infinite Loop.This is an infinite Loop.This is an infinite Loop.This is an infinite Loop.This is an infinite Loop.This is an infinite Loop.This is an infinite Loop.This is an infinite Loop.This is an infinite Loop.This is an infinite Loop.This is an infinite Loop.This is an infinite Loop.This is an infinite Loop.This is an infinite Loop.This is an infinite Loop.This is an infinite Loop.This is an infinite Loop.This is an infinite Loop.This is an infinite Loop.This is an infinite Loop.This is an infinite Loop.This is an infinite Loop.This is an infinite Loop.This is an infinite Loop.This is an infinite Loop.This is an infinite Loop.This is an infinite Loop.This is an infinite Loop.This is an infinite Loop.This is an infinite Loop.This is an infinite Loop.This is an infinite Loop.This is an infinite Loop.This is an infinite Loop.This is an infinite Loop.This is an infinite Loop.This is an infinite Loop.This is an infinite Loop.This is an infinite Loop.This is an infinite Loop.This is an infinite Loop.This is an infinite Loop.This is an infinite Loop.This is an infinite Loop.This is an infinite Loop.This is an infinite Loop.This is an infinite Loop.This is an infinite Loop.This is an infinite Loop.This is an infinite Loop.This is an infinite Loop.This is an infinite Loop.This is an infinite Loop.This is an infinite Loop.This is an infinite Loop.This is an infinite Loop.This is an infinite Loop.This is an infinite Loop.This is an infinite Loop.This is an infinite Loop.This is an infinite Loop.This is an infinite Loop.This is an infinite Loop.This is an infinite Loop.This is an infinite Loop.This is an infinite Loop.This is an infinite Loop.This is an infinite Loop.This is an infinite Loop.This is an infinite Loop.This is an infinite Loop.This is an infinite Loop.This is an infinite Loop.This is an infinite Loop.This is an infinite Loop.This is an infinite Loop.This is an infinite Loop.This is an infinite Loop.This is an infinite Loop.This is an infinite Loop.This is an infinite Loop.This is an infinite Loop.This is an infinite Loop.This is an infinite Loop.This is an infinite Loop.This is an infinite Loop.This is an infinite Loop.This is an infinite Loop.This is an infinite Loop.This is an infinite Loop.This is an infinite Loop.This is an infinite Loop.This is an infinite Loop.This is an infinite Loop.This is an infinite Loop.This is an infinite Loop.This is an infinite Loop.This is an infinite Loop.This is an infinite Loop.This is an infinite Loop.This is an infinite Loop.This is an infinite Loop.This is an infinite Loop.This is an infinite Loop.This is an infinite Loop.This is an infinite Loop.This is an infinite Loop.This is an infinite Loop.This is an infinite Loop.This is an infinite Loop.This is an infinite Loop.This is an infinite Loop.This is an infinite Loop.This is an infinite Loop.This is an infinite Loop.This is an infinite Loop.This is an infinite Loop.This is an infinite Loop.This is an infinite Loop.This is an infinite Loop.This is an infinite Loop.This is an infinite Loop.This is an infinite Loop.This is an infinite Loop.This is an infinite Loop.This is an infinite Loop.This is an infinite Loop.This is an infinite Loop.This is an infinite Loop.This is an infinite Loop.This is an infinite Loop.This is an infinite Loop.This is an infinite Loop.This is an infinite Loop.This is an infinite Loop.This is an infinite Loop.This is an infinite Loop.This is an infinite Loop.This is an infinite Loop.This is an infinite Loop.This is an infinite Loop.This is an infinite Loop.This is an infinite Loop.This is an infinite Loop.This is an infinite Loop.This is an infinite Loop.This is an infinite Loop.This is an infinite Loop.This is an infinite Loop.This is an infinite Loop.This is an infinite Loop.This is an infinite Loop.This is an infinite Loop.This is an infinite Loop.This is an infinite Loop.This is an infinite Loop.This is an infinite Loop.This is an infinite Loop.This is an infinite Loop.This is an infinite Loop.This is an infinite Loop.This is an infinite Loop.This is an infinite Loop.This is an infinite Loop.This is an infinite Loop.This is an infinite Loop.This is an infinite Loop.This is an infinite Loop.This is an infinite Loop.This is an infinite Loop.This is an infinite Loop.This is an infinite Loop.This is an infinite Loop.This is an infinite Loop.This is an infinite Loop.This is an infinite Loop.This is an infinite Loop.This is an infinite Loop.This is an infinite Loop.This is an infinite Loop.This is an infinite Loop.This is an infinite Loop.This is an infinite Loop.This is an infinite Loop.This is an infinite Loop.This is an infinite Loop.This is an infinite Loop.This is an infinite Loop.This is an infinite Loop.This is an infinite Loop.This is an infinite Loop.This is an infinite Loop.This is an infinite Loop.This is an infinite Loop.This is an infinite Loop.This is an infinite Loop.This is an infinite Loop.This is an infinite Loop.This is an infinite Loop.This is an infinite Loop.This is an infinite Loop.This is an infinite Loop.This is an infinite Loop.This is an infinite Loop.This is an infinite Loop.This is an infinite Loop.This is an infinite Loop.This is an infinite Loop.This is an infinite Loop.This is an infinite Loop.This is an infinite Loop.This is an infinite Loop.This is an infinite Loop.This is an infinite Loop.This is an infinite Loop.This is an infinite Loop.This is an infinite Loop.This is an infinite Loop.This is an infinite Loop.This is an infinite Loop.This is an infinite Loop.This is an infinite Loop.This is an infinite Loop.This is an infinite Loop.This is an infinite Loop.This is an infinite Loop.This is an infinite Loop.This is an infinite Loop.This is an infinite Loop.This is an infinite Loop.This is an infinite Loop.This is an infinite Loop.This is an infinite Loop.This is an infinite Loop.This is an infinite Loop.This is an infinite Loop.This is an infinite Loop.This is an infinite Loop.This is an infinite Loop.This is an infinite Loop.This is an infinite Loop.This is an infinite Loop.This is an infinite Loop.This is an infinite Loop.This is an infinite Loop.This is an infinite Loop.This is an infinite Loop.This is an infinite Loop.This is an infinite Loop.This is an infinite Loop.This is an infinite Loop.This is an infinite Loop.This is an infinite Loop.This is an infinite Loop.This is an infinite Loop.This is an infinite Loop.This is an infinite Loop.This is an infinite Loop.This is an infinite Loop.This is an infinite Loop.This is an infinite Loop.This is an infinite Loop.This is an infinite Loop.This is an infinite Loop.This is an infinite Loop.This is an infinite Loop.This is an infinite Loop.This is an infinite Loop.This is an infinite Loop.This is an infinite Loop.This is an infinite Loop.This is an infinite Loop.This is an infinite Loop.This is an infinite Loop.This is an infinite Loop.This is an infinite Loop.This is an infinite Loop.This is an infinite Loop.This is an infinite Loop.This is an infinite Loop.This is an infinite Loop.This is an infinite Loop.This is an infinite Loop.This is an infinite Loop.This is an infinite Loop.This is an infinite Loop.This is an infinite Loop.This is an infinite Loop.This is an infinite Loop.This is an infinite Loop.This is an infinite Loop.This is an infinite Loop.This is an infinite Loop.This is an infinite Loop.This is an infinite Loop.This is an infinite Loop.This is an infinite Loop.This is an infinite Loop.This is an infinite Loop.This is an infinite Loop.This is an infinite Loop.This is an infinite Loop.This is an infinite Loop.This is an infinite Loop.This is an infinite Loop.This is an infinite Loop.This is an infinite Loop.This is an infinite Loop.This is an infinite Loop.This is an infinite Loop.This is an infinite Loop.This is an infinite Loop.This is an infinite Loop.This is an infinite Loop.This is an infinite Loop.This is an infinite Loop.This is an infinite Loop.This is an infinite Loop.This is an infinite Loop.This is an infinite Loop.This is an infinite Loop.This is an infinite Loop.This is an infinite Loop.This is an infinite Loop.This is an infinite Loop.This is an infinite Loop.This is an infinite Loop.This is an infinite Loop.This is an infinite Loop.This is an infinite Loop.This is an infinite Loop.This is an infinite Loop.This is an infinite Loop.This is an infinite Loop.This is an infinite Loop.This is an infinite Loop.This is an infinite Loop.This is an infinite Loop.This is an infinite Loop.This is an infinite Loop.This is an infinite Loop.This is an infinite Loop.This is an infinite Loop.This is an infinite Loop.This is an infinite Loop.This is an infinite Loop.This is an infinite Loop.This is an infinite Loop.This is an infinite Loop.This is an infinite Loop.This is an infinite Loop.This is an infinite Loop.This is an infinite Loop.This is an infinite Loop.This is an infinite Loop.This is an infinite Loop.This is an infinite Loop.This is an infinite Loop.This is an infinite Loop.This is an infinite Loop.This is an infinite Loop.This is an infinite Loop.This is an infinite Loop.This is an infinite Loop.This is an infinite Loop.This is an infinite Loop.This is an infinite Loop.This is an infinite Loop.This is an infinite Loop.This is an infinite Loop.This is an infinite Loop.This is an infinite Loop.This is an infinite Loop.This is an infinite Loop.This is an infinite Loop.This is an infinite Loop.This is an infinite Loop.This is an infinite Loop.This is an infinite Loop.This is an infinite Loop.This is an infinite Loop.This is an infinite Loop.This is an infinite Loop.This is an infinite Loop.This is an infinite Loop.This is an infinite Loop.This is an infinite Loop.This is an infinite Loop.This is an infinite Loop.This is an infinite Loop.This is an infinite Loop.This is an infinite Loop.This is an infinite Loop.This is an infinite Loop.This is an infinite Loop.This is an infinite Loop.This is an infinite Loop.This is an infinite Loop.This is an infinite Loop.This is an infinite Loop.This is an infinite Loop.This is an infinite Loop.This is an infinite Loop.This is an infinite Loop.This is an infinite Loop.This is an infinite Loop.This is an infinite Loop.This is an infinite Loop.This is an infinite Loop.This is an infinite Loop.This is an infinite Loop.This is an infinite Loop.This is an infinite Loop.This is an infinite Loop.This is an infinite Loop.This is an infinite Loop.This is an infinite Loop.This is an infinite Loop.This is an infinite Loop.This is an infinite Loop.This is an infinite Loop.This is an infinite Loop.This is an infinite Loop.This is an infinite Loop.This is an infinite Loop.This is an infinite Loop.This is an infinite Loop.This is an infinite Loop.This is an infinite Loop.This is an infinite Loop.This is an infinite Loop.This is an infinite Loop.This is an infinite Loop.This is an infinite Loop.This is an infinite Loop.This is an infinite Loop.This is an infinite Loop.This is an infinite Loop.This is an infinite Loop.This is an infinite Loop.This is an infinite Loop.This is an infinite Loop.This is an infinite Loop.This is an infinite Loop.This is an infinite Loop.This is an infinite Loop.This is an infinite Loop.This is an infinite Loop.This is an infinite Loop.This is an infinite Loop.This is an infinite Loop.This is an infinite Loop.This is an infinite Loop.This is an infinite Loop.This is an infinite Loop.This is an infinite Loop.This is an infinite Loop.This is an infinite Loop.This is an infinite Loop.This is an infinite Loop.This is an infinite Loop.This is an infinite Loop.This is an infinite Loop.This is an infinite Loop.This is an infinite Loop.This is an infinite Loop.This is an infinite Loop.This is an infinite Loop.This is an infinite Loop.This is an infinite Loop.This is an infinite Loop.This is an infinite Loop.This is an infinite Loop.This is an infinite Loop.This is an infinite Loop.This is an infinite Loop.This is an infinite Loop.This is an infinite Loop.This is an infinite Loop.This is an infinite Loop.This is an infinite Loop.This is an infinite Loop.This is an infinite Loop.This is an infinite Loop.This is an infinite Loop.This is an infinite Loop.This is an infinite Loop.This is an infinite Loop.This is an infinite Loop.This is an infinite Loop.This is an infinite Loop.This is an infinite Loop.This is an infinite Loop.This is an infinite Loop.This is an infinite Loop.This is an infinite Loop.This is an infinite Loop.This is an infinite Loop.This is an infinite Loop.This is an infinite Loop.This is an infinite Loop.This is an infinite Loop.This is an infinite Loop.This is an infinite Loop.This is an infinite Loop.This is an infinite Loop.This is an infinite Loop.This is an infinite Loop.This is an infinite Loop.This is an infinite Loop.This is an infinite Loop.This is an infinite Loop.This is an infinite Loop.This is an infinite Loop.This is an infinite Loop.This is an infinite Loop.This is an infinite Loop.This is an infinite Loop.This is an infinite Loop.This is an infinite Loop.This is an infinite Loop.This is an infinite Loop.This is an infinite Loop.This is an infinite Loop.This is an infinite Loop.This is an infinite Loop.This is an infinite Loop.This is an infinite Loop.This is an infinite Loop.This is an infinite Loop.This is an infinite Loop.This is an infinite Loop.This is an infinite Loop.This is an infinite Loop.This is an infinite Loop.This is an infinite Loop.This is an infinite Loop.This is an infinite Loop.This is an infinite Loop.This is an infinite Loop.This is an infinite Loop.This is an infinite Loop.This is an infinite Loop.This is an infinite Loop.This is an infinite Loop.This is an infinite Loop.This is an infinite Loop.This is an infinite Loop.This is an infinite Loop.This is an infinite Loop.This is an infinite Loop.This is an infinite Loop.This is an infinite Loop.This is an infinite Loop.This is an infinite Loop.This is an infinite Loop.This is an infinite Loop.This is an infinite Loop.This is an infinite Loop.This is an infinite Loop.This is an infinite Loop.This is an infinite Loop.This is an infinite Loop.This is an infinite Loop.This is an infinite Loop.This is an infinite Loop.This is an infinite Loop.This is an infinite Loop.This is an infinite Loop.This is an infinite Loop.This is an infinite Loop.This is an infinite Loop.This is an infinite Loop.This is an infinite Loop.This is an infinite Loop.This is an infinite Loop.This is an infinite Loop.This is an infinite Loop.This is an infinite Loop.This is an infinite Loop.This is an infinite Loop.This is an infinite Loop.This is an infinite Loop.This is an infinite Loop.This is an infinite Loop.This is an infinite Loop.This is an infinite Loop.This is an infinite Loop.This is an infinite Loop.This is an infinite Loop.This is an infinite Loop.This is an infinite Loop.This is an infinite Loop.This is an infinite Loop.This is an infinite Loop.This is an infinite Loop.This is an infinite Loop.This is an infinite Loop.This is an infinite Loop.This is an infinite Loop.This is an infinite Loop.This is an infinite Loop.This is an infinite Loop.This is an infinite Loop.This is an infinite Loop.This is an infinite Loop.This is an infinite Loop.This is an infinite Loop.This is an infinite Loop.This is an infinite Loop.This is an infinite Loop.This is an infinite Loop.This is an infinite Loop.This is an infinite Loop.This is an infinite Loop.This is an infinite Loop.This is an infinite Loop.This is an infinite Loop.This is an infinite Loop.This is an infinite Loop.This is an infinite Loop.This is an infinite Loop.This is an infinite Loop.This is an infinite Loop.This is an infinite Loop.This is an infinite Loop.This is an infinite Loop.This is an infinite Loop.This is an infinite Loop.This is an infinite Loop.This is an infinite Loop.This is an infinite Loop.This is an infinite Loop.This is an infinite Loop.This is an infinite Loop.This is an infinite Loop.This is an infinite Loop.This is an infinite Loop.This is an infinite Loop.This is an infinite Loop.This is an infinite Loop.This is an infinite Loop.This is an infinite Loop.This is an infinite Loop.This is an infinite Loop.This is an infinite Loop.This is an infinite Loop.This is an infinite Loop.This is an infinite Loop.This is an infinite Loop.This is an infinite Loop.This is an infinite Loop.This is an infinite Loop.This is an infinite Loop.This is an infinite Loop.This is an infinite Loop.This is an infinite Loop.This is an infinite Loop.This is an infinite Loop.This is an infinite Loop.This is an infinite Loop.This is an infinite Loop.This is an infinite Loop.This is an infinite Loop.This is an infinite Loop.This is an infinite Loop.This is an infinite Loop.This is an infinite Loop.This is an infinite Loop.This is an infinite Loop.This is an infinite Loop.This is an infinite Loop.This is an infinite Loop.This is an infinite Loop.This is an infinite Loop.This is an infinite Loop.This is an infinite Loop.This is an infinite Loop.This is an infinite Loop.This is an infinite Loop.This is an infinite Loop.This is an infinite Loop.This is an infinite Loop.This is an infinite Loop.This is an infinite Loop.This is an infinite Loop.This is an infinite Loop.This is an infinite Loop.This is an infinite Loop.This is an infinite Loop.This is an infinite Loop.This is an infinite Loop.This is an infinite Loop.This is an infinite Loop.This is an infinite Loop.This is an infinite Loop.This is an infinite Loop.This is an infinite Loop.This is an infinite Loop.This is an infinite Loop.This is an infinite Loop.This is an infinite Loop.This is an infinite Loop.This is an infinite Loop.This is an infinite Loop.This is an infinite Loop.This is an infinite Loop.This is an infinite Loop.This is an infinite Loop.This is an infinite Loop.This is an infinite Loop.This is an infinite Loop.This is an infinite Loop.This is an infinite Loop.This is an infinite Loop.This is an infinite Loop.This is an infinite Loop.This is an infinite Loop.This is an infinite Loop.This is an infinite Loop.This is an infinite Loop.This is an infinite Loop.This is an infinite Loop.This is an infinite Loop.This is an infinite Loop.This is an infinite Loop.This is an infinite Loop.This is an infinite Loop.This is an infinite Loop.This is an infinite Loop.This is an infinite Loop.This is an infinite Loop.This is an infinite Loop.This is an infinite Loop.This is an infinite Loop.This is an infinite Loop.This is an infinite Loop.This is an infinite Loop.This is an infinite Loop.This is an infinite Loop.This is an infinite Loop.This is an infinite Loop.This is an infinite Loop.This is an infinite Loop.This is an infinite Loop.This is an infinite Loop.This is an infinite Loop.This is an infinite Loop.This is an infinite Loop.This is an infinite Loop.This is an infinite Loop.This is an infinite Loop.This is an infinite Loop.This is an infinite Loop.This is an infinite Loop.This is an infinite Loop.This is an infinite Loop.This is an infinite Loop.This is an infinite Loop.This is an infinite Loop.This is an infinite Loop.This is an infinite Loop.This is an infinite Loop.This is an infinite Loop.This is an infinite Loop.This is an infinite Loop.This is an infinite Loop.This is an infinite Loop.This is an infinite Loop.This is an infinite Loop.This is an infinite Loop.This is an infinite Loop.This is an infinite Loop.This is an infinite Loop.This is an infinite Loop.This is an infinite Loop.This is an infinite Loop.This is an infinite Loop.This is an infinite Loop.This is an infinite Loop.This is an infinite Loop.This is an infinite Loop.This is an infinite Loop.This is an infinite Loop.This is an infinite Loop.This is an infinite Loop.This is an infinite Loop.This is an infinite Loop.This is an infinite Loop.This is an infinite Loop.This is an infinite Loop.This is an infinite Loop.This is an infinite Loop.This is an infinite Loop.This is an infinite Loop.This is an infinite Loop.This is an infinite Loop.This is an infinite Loop.This is an infinite Loop.This is an infinite Loop.This is an infinite Loop.This is an infinite Loop.This is an infinite Loop.This is an infinite Loop.This is an infinite Loop.This is an infinite Loop.This is an infinite Loop.This is an infinite Loop.This is an infinite Loop.This is an infinite Loop.This is an infinite Loop.This is an infinite Loop.This is an infinite Loop.This is an infinite Loop.This is an infinite Loop.This is an infinite Loop.This is an infinite Loop.This is an infinite Loop.This is an infinite Loop.This is an infinite Loop.This is an infinite Loop.This is an infinite Loop.This is an infinite Loop.This is an infinite Loop.This is an infinite Loop.This is an infinite Loop.This is an infinite Loop.This is an infinite Loop.This is an infinite Loop.This is an infinite Loop.This is an infinite Loop.This is an infinite Loop.This is an infinite Loop.This is an infinite Loop.This is an infinite Loop.This is an infinite Loop.This is an infinite Loop.This is an infinite Loop.This is an infinite Loop.This is an infinite Loop.This is an infinite Loop.This is an infinite Loop.This is an infinite Loop.This is an infinite Loop.This is an infinite Loop.This is an infinite Loop.This is an infinite Loop.This is an infinite Loop.This is an infinite Loop.This is an infinite Loop.This is an infinite Loop.This is an infinite Loop.This is an infinite Loop.This is an infinite Loop.This is an infinite Loop.This is an infinite Loop.This is an infinite Loop.This is an infinite Loop.This is an infinite Loop.This is an infinite Loop.This is an infinite Loop.This is an infinite Loop.This is an infinite Loop.This is an infinite Loop.This is an infinite Loop.This is an infinite Loop.This is an infinite Loop.This is an infinite Loop.This is an infinite Loop.This is an infinite Loop.This is an infinite Loop.This is an infinite Loop.This is an infinite Loop.This is an infinite Loop.This is an infinite Loop.This is an infinite Loop.This is an infinite Loop.This is an infinite Loop.This is an infinite Loop.This is an infinite Loop.This is an infinite Loop.This is an infinite Loop.This is an infinite Loop.This is an infinite Loop.This is an infinite Loop.This is an infinite Loop.This is an infinite Loop.This is an infinite Loop.This is an infinite Loop.This is an infinite Loop.This is an infinite Loop.This is an infinite Loop.This is an infinite Loop.This is an infinite Loop.This is an infinite Loop.This is an infinite Loop.This is an infinite Loop.This is an infinite Loop.This is an infinite Loop.This is an infinite Loop.This is an infinite Loop.This is an infinite Loop.This is an infinite Loop.This is an infinite Loop.This is an infinite Loop.This is an infinite Loop.This is an infinite Loop.This is an infinite Loop.This is an infinite Loop.This is an infinite Loop.This is an infinite Loop.This is an infinite Loop.This is an infinite Loop.This is an infinite Loop.This is an infinite Loop.This is an infinite Loop.This is an infinite Loop.This is an infinite Loop.This is an infinite Loop.This is an infinite Loop.This is an infinite Loop.This is an infinite Loop.This is an infinite Loop.This is an infinite Loop.This is an infinite Loop.This is an infinite Loop.This is an infinite Loop.This is an infinite Loop.This is an infinite Loop.This is an infinite Loop.This is an infinite Loop.This is an infinite Loop.This is an infinite Loop.This is an infinite Loop.This is an infinite Loop.This is an infinite Loop.This is an infinite Loop.This is an infinite Loop.This is an infinite Loop.This is an infinite Loop.This is an infinite Loop.This is an infinite Loop.This is an infinite Loop.This is an infinite Loop.This is an infinite Loop.This is an infinite Loop.This is an infinite Loop.This is an infinite Loop.This is an infinite Loop.This is an infinite Loop.This is an infinite Loop.This is an infinite Loop.This is an infinite Loop.This is an infinite Loop.This is an infinite Loop.This is an infinite Loop.This is an infinite Loop.This is an infinite Loop.This is an infinite Loop.This is an infinite Loop.This is an infinite Loop.This is an infinite Loop.This is an infinite Loop.This is an infinite Loop.This is an infinite Loop.This is an infinite Loop.This is an infinite Loop.This is an infinite Loop.This is an infinite Loop.This is an infinite Loop.This is an infinite Loop.This is an infinite Loop.This is an infinite Loop.This is an infinite Loop.This is an infinite Loop.This is an infinite Loop.This is an infinite Loop.This is an infinite Loop.This is an infinite Loop.This is an infinite Loop.This is an infinite Loop.This is an infinite Loop.This is an infinite Loop.This is an infinite Loop.This is an infinite Loop.This is an infinite Loop.This is an infinite Loop.This is an infinite Loop.This is an infinite Loop.This is an infinite Loop.This is an infinite Loop.This is an infinite Loop.This is an infinite Loop.This is an infinite Loop.This is an infinite Loop.This is an infinite Loop.This is an infinite Loop.This is an infinite Loop.This is an infinite Loop.This is an infinite Loop.This is an infinite Loop.This is an infinite Loop.This is an infinite Loop.This is an infinite Loop.This is an infinite Loop.This is an infinite Loop.This is an infinite Loop.This is an infinite Loop.This is an infinite Loop.This is an infinite Loop.This is an infinite Loop.This is an infinite Loop.This is an infinite Loop.This is an infinite Loop.This is an infinite Loop.This is an infinite Loop.This is an infinite Loop.This is an infinite Loop.This is an infinite Loop.This is an infinite Loop.This is an infinite Loop.This is an infinite Loop.This is an infinite Loop.This is an infinite Loop.This is an infinite Loop.This is an infinite Loop.This is an infinite Loop.This is an infinite Loop.This is an infinite Loop.This is an infinite Loop.This is an infinite Loop.This is an infinite Loop.This is an infinite Loop.This is an infinite Loop.This is an infinite Loop.This is an infinite Loop.This is an infinite Loop.This is an infinite Loop.This is an infinite Loop.This is an infinite Loop.This is an infinite Loop.This is an infinite Loop.This is an infinite Loop.This is an infinite Loop.This is an infinite Loop.This is an infinite Loop.This is an infinite Loop.This is an infinite Loop.This is an infinite Loop.This is an infinite Loop.This is an infinite Loop.This is an infinite Loop.This is an infinite Loop.This is an infinite Loop.This is an infinite Loop.This is an infinite Loop.This is an infinite Loop.This is an infinite Loop.This is an infinite Loop.This is an infinite Loop.This is an infinite Loop.This is an infinite Loop.This is an infinite Loop.This is an infinite Loop.This is an infinite Loop.This is an infinite Loop.This is an infinite Loop.This is an infinite Loop.This is an infinite Loop.This is an infinite Loop.This is an infinite Loop.This is an infinite Loop.This is an infinite Loop.This is an infinite Loop.This is an infinite Loop.This is an infinite Loop.This is an infinite Loop.This is an infinite Loop.This is an infinite Loop.This is an infinite Loop.This is an infinite Loop.This is an infinite Loop.This is an infinite Loop.This is an infinite Loop.This is an infinite Loop.This is an infinite Loop.This is an infinite Loop.This is an infinite Loop.This is an infinite Loop.This is an infinite Loop.This is an infinite Loop.This is an infinite Loop.This is an infinite Loop.This is an infinite Loop.This is an infinite Loop.This is an infinite Loop.This is an infinite Loop.This is an infinite Loop.This is an infinite Loop.This is an infinite Loop.This is an infinite Loop.This is an infinite Loop.This is an infinite Loop.This is an infinite Loop.This is an infinite Loop.This is an infinite Loop.This is an infinite Loop.This is an infinite Loop.This is an infinite Loop.This is an infinite Loop.This is an infinite Loop.This is an infinite Loop.This is an infinite Loop.This is an infinite Loop.This is an infinite Loop.This is an infinite Loop.This is an infinite Loop.This is an infinite Loop.This is an infinite Loop.This is an infinite Loop.This is an infinite Loop.This is an infinite Loop.This is an infinite Loop.This is an infinite Loop.This is an infinite Loop.This is an infinite Loop.This is an infinite Loop.This is an infinite Loop.This is an infinite Loop.This is an infinite Loop.This is an infinite Loop.This is an infinite Loop.This is an infinite Loop.This is an infinite Loop.This is an infinite Loop.This is an infinite Loop.This is an infinite Loop.This is an infinite Loop.This is an infinite Loop.This is an infinite Loop.This is an infinite Loop.This is an infinite Loop.This is an infinite Loop.This is an infinite Loop.This is an infinite Loop.This is an infinite Loop.This is an infinite Loop.This is an infinite Loop.This is an infinite Loop.This is an infinite Loop.This is an infinite Loop.This is an infinite Loop.This is an infinite Loop.This is an infinite Loop.This is an infinite Loop.This is an infinite Loop.This is an infinite Loop.This is an infinite Loop.This is an infinite Loop.This is an infinite Loop.This is an infinite Loop.This is an infinite Loop.This is an infinite Loop.This is an infinite Loop.This is an infinite Loop.This is an infinite Loop.This is an infinite Loop.This is an infinite Loop.This is an infinite Loop.This is an infinite Loop.This is an infinite Loop.This is an infinite Loop.This is an infinite Loop.This is an infinite Loop.This is an infinite Loop.This is an infinite Loop.This is an infinite Loop.This is an infinite Loop.This is an infinite Loop.This is an infinite Loop.This is an infinite Loop.This is an infinite Loop.This is an infinite Loop.This is an infinite Loop.This is an infinite Loop.This is an infinite Loop.This is an infinite Loop.This is an infinite Loop.This is an infinite Loop.This is an infinite Loop.This is an infinite Loop.This is an infinite Loop.This is an infinite Loop.This is an infinite Loop.This is an infinite Loop.This is an infinite Loop.This is an infinite Loop.This is an infinite Loop.This is an infinite Loop.This is an infinite Loop.This is an infinite Loop.This is an infinite Loop.This is an infinite Loop.This is an infinite Loop.This is an infinite Loop.This is an infinite Loop.This is an infinite Loop.This is an infinite Loop.This is an infinite Loop.This is an infinite Loop.This is an infinite Loop.This is an infinite Loop.This is an infinite Loop.This is an infinite Loop.This is an infinite Loop.This is an infinite Loop.This is an infinite Loop.This is an infinite Loop.This is an infinite Loop.This is an infinite Loop.This is an infinite Loop.This is an infinite Loop.This is an infinite Loop.This is an infinite Loop.This is an infinite Loop.This is an infinite Loop.This is an infinite Loop.This is an infinite Loop.This is an infinite Loop.This is an infinite Loop.This is an infinite Loop.This is an infinite Loop.This is an infinite Loop.This is an infinite Loop.This is an infinite Loop.This is an infinite Loop.This is an infinite Loop.This is an infinite Loop.This is an infinite Loop.This is an infinite Loop.This is an infinite Loop.This is an infinite Loop.This is an infinite Loop.This is an infinite Loop.This is an infinite Loop.This is an infinite Loop.This is an infinite Loop.This is an infinite Loop.This is an infinite Loop.This is an infinite Loop.This is an infinite Loop.This is an infinite Loop.This is an infinite Loop.This is an infinite Loop.This is an infinite Loop.This is an infinite Loop.This is an infinite Loop.This is an infinite Loop.This is an infinite Loop.This is an infinite Loop.This is an infinite Loop.This is an infinite Loop.This is an infinite Loop.This is an infinite Loop.This is an infinite Loop.This is an infinite Loop.This is an infinite Loop.This is an infinite Loop.This is an infinite Loop.This is an infinite Loop.This is an infinite Loop.This is an infinite Loop.This is an infinite Loop.This is an infinite Loop.This is an infinite Loop.This is an infinite Loop.This is an infinite Loop.This is an infinite Loop.This is an infinite Loop.This is an infinite Loop.This is an infinite Loop.This is an infinite Loop.This is an infinite Loop.This is an infinite Loop.This is an infinite Loop.This is an infinite Loop.This is an infinite Loop.This is an infinite Loop.This is an infinite Loop.This is an infinite Loop.This is an infinite Loop.This is an infinite Loop.This is an infinite Loop.This is an infinite Loop.This is an infinite Loop.This is an infinite Loop.This is an infinite Loop.This is an infinite Loop.This is an infinite Loop.This is an infinite Loop.This is an infinite Loop.This is an infinite Loop.This is an infinite Loop.This is an infinite Loop.This is an infinite Loop.This is an infinite Loop.This is an infinite Loop.This is an infinite Loop.This is an infinite Loop.This is an infinite Loop.This is an infinite Loop.This is an infinite Loop.This is an infinite Loop.This is an infinite Loop.This is an infinite Loop.This is an infinite Loop.This is an infinite Loop.This is an infinite Loop.This is an infinite Loop.This is an infinite Loop.This is an infinite Loop.This is an infinite Loop.This is an infinite Loop.This is an infinite Loop.This is an infinite Loop.This is an infinite Loop.This is an infinite Loop.This is an infinite Loop.This is an infinite Loop.This is an infinite Loop.This is an infinite Loop.This is an infinite Loop.This is an infinite Loop.This is an infinite Loop.This is an infinite Loop.This is an infinite Loop.This is an infinite Loop.This is an infinite Loop.This is an infinite Loop.This is an infinite Loop.This is an infinite Loop.This is an infinite Loop.This is an infinite Loop.This is an infinite Loop.This is an infinite Loop.This is an infinite Loop.This is an infinite Loop.This is an infinite Loop.This is an infinite Loop.This is an infinite Loop.This is an infinite Loop.This is an infinite Loop.This is an infinite Loop.This is an infinite Loop.This is an infinite Loop.This is an infinite Loop.This is an infinite Loop.This is an infinite Loop.This is an infinite Loop.This is an infinite Loop.This is an infinite Loop.This is an infinite Loop.This is an infinite Loop.This is an infinite Loop.This is an infinite Loop.This is an infinite Loop.This is an infinite Loop.This is an infinite Loop.This is an infinite Loop.This is an infinite Loop.This is an infinite Loop.This is an infinite Loop.This is an infinite Loop.This is an infinite Loop.This is an infinite Loop.This is an infinite Loop.This is an infinite Loop.This is an infinite Loop.This is an infinite Loop.This is an infinite Loop.This is an infinite Loop.This is an infinite Loop.This is an infinite Loop.This is an infinite Loop.This is an infinite Loop.This is an infinite Loop.This is an infinite Loop.This is an infinite Loop.This is an infinite Loop.This is an infinite Loop.This is an infinite Loop.This is an infinite Loop.This is an infinite Loop.This is an infinite Loop.This is an infinite Loop.This is an infinite Loop.This is an infinite Loop.This is an infinite Loop.This is an infinite Loop.This is an infinite Loop.This is an infinite Loop.This is an infinite Loop.This is an infinite Loop.This is an infinite Loop.This is an infinite Loop.This is an infinite Loop.This is an infinite Loop.This is an infinite Loop.This is an infinite Loop.This is an infinite Loop.This is an infinite Loop.This is an infinite Loop.This is an infinite Loop.This is an infinite Loop.This is an infinite Loop.This is an infinite Loop.This is an infinite Loop.This is an infinite Loop.This is an infinite Loop.This is an infinite Loop.This is an infinite Loop.This is an infinite Loop.This is an infinite Loop.This is an infinite Loop.This is an infinite Loop.This is an infinite Loop.This is an infinite Loop.This is an infinite Loop.This is an infinite Loop.This is an infinite Loop.This is an infinite Loop.This is an infinite Loop.This is an infinite Loop.This is an infinite Loop.This is an infinite Loop.This is an infinite Loop.This is an infinite Loop.This is an infinite Loop.This is an infinite Loop.This is an infinite Loop.This is an infinite Loop.This is an infinite Loop.This is an infinite Loop.This is an infinite Loop.This is an infinite Loop.This is an infinite Loop.This is an infinite Loop.This is an infinite Loop.This is an infinite Loop.This is an infinite Loop.This is an infinite Loop.This is an infinite Loop.This is an infinite Loop.This is an infinite Loop.This is an infinite Loop.This is an infinite Loop.This is an infinite Loop.This is an infinite Loop.This is an infinite Loop.This is an infinite Loop.This is an infinite Loop.This is an infinite Loop.This is an infinite Loop.This is an infinite Loop.This is an infinite Loop.This is an infinite Loop.This is an infinite Loop.This is an infinite Loop.This is an infinite Loop.This is an infinite Loop.This is an infinite Loop.This is an infinite Loop.This is an infinite Loop.This is an infinite Loop.This is an infinite Loop.This is an infinite Loop.This is an infinite Loop.This is an infinite Loop.This is an infinite Loop.This is an infinite Loop.This is an infinite Loop.This is an infinite Loop.This is an infinite Loop.This is an infinite Loop.This is an infinite Loop.This is an infinite Loop.This is an infinite Loop.This is an infinite Loop.This is an infinite Loop.This is an infinite Loop.This is an infinite Loop.This is an infinite Loop.This is an infinite Loop.This is an infinite Loop.This is an infinite Loop.This is an infinite Loop.This is an infinite Loop.This is an infinite Loop.This is an infinite Loop.This is an infinite Loop.This is an infinite Loop.This is an infinite Loop.This is an infinite Loop.This is an infinite Loop.This is an infinite Loop.This is an infinite Loop.This is an infinite Loop.This is an infinite Loop.This is an infinite Loop.This is an infinite Loop.This is an infinite Loop.This is an infinite Loop.This is an infinite Loop.This is an infinite Loop.This is an infinite Loop.This is an infinite Loop.This is an infinite Loop.This is an infinite Loop.This is an infinite Loop.This is an infinite Loop.This is an infinite Loop.This is an infinite Loop.This is an infinite Loop.This is an infinite Loop.This is an infinite Loop.This is an infinite Loop.This is an infinite Loop.This is an infinite Loop.This is an infinite Loop.This is an infinite Loop.This is an infinite Loop.This is an infinite Loop.This is an infinite Loop.This is an infinite Loop.This is an infinite Loop.This is an infinite Loop.This is an infinite Loop.This is an infinite Loop.This is an infinite Loop.This is an infinite Loop.This is an infinite Loop.This is an infinite Loop.This is an infinite Loop.This is an infinite Loop.This is an infinite Loop.This is an infinite Loop.This is an infinite Loop.This is an infinite Loop.This is an infinite Loop.This is an infinite Loop.This is an infinite Loop.This is an infinite Loop.This is an infinite Loop.This is an infinite Loop.This is an infinite Loop.This is an infinite Loop.This is an infinite Loop.This is an infinite Loop.This is an infinite Loop.This is an infinite Loop.This is an infinite Loop.This is an infinite Loop.This is an infinite Loop.This is an infinite Loop.This is an infinite Loop.This is an infinite Loop.This is an infinite Loop.This is an infinite Loop.This is an infinite Loop.This is an infinite Loop.This is an infinite Loop.This is an infinite Loop.This is an infinite Loop.This is an infinite Loop.This is an infinite Loop.This is an infinite Loop.This is an infinite Loop.This is an infinite Loop.This is an infinite Loop.This is an infinite Loop.This is an infinite Loop.This is an infinite Loop.This is an infinite Loop.This is an infinite Loop.This is an infinite Loop.This is an infinite Loop.This is an infinite Loop.This is an infinite Loop.This is an infinite Loop.This is an infinite Loop.This is an infinite Loop.This is an infinite Loop.This is an infinite Loop.This is an infinite Loop.This is an infinite Loop.This is an infinite Loop.This is an infinite Loop.This is an infinite Loop.This is an infinite Loop.This is an infinite Loop.This is an infinite Loop.This is an infinite Loop.This is an infinite Loop.This is an infinite Loop.This is an infinite Loop.This is an infinite Loop.This is an infinite Loop.This is an infinite Loop.This is an infinite Loop.This is an infinite Loop.This is an infinite Loop.This is an infinite Loop.This is an infinite Loop.This is an infinite Loop.This is an infinite Loop.This is an infinite Loop.This is an infinite Loop.This is an infinite Loop.This is an infinite Loop.This is an infinite Loop.This is an infinite Loop.This is an infinite Loop.This is an infinite Loop.This is an infinite Loop.This is an infinite Loop.This is an infinite Loop.This is an infinite Loop.This is an infinite Loop.This is an infinite Loop.This is an infinite Loop.This is an infinite Loop.This is an infinite Loop.This is an infinite Loop.This is an infinite Loop.This is an infinite Loop.This is an infinite Loop.This is an infinite Loop.This is an infinite Loop.This is an infinite Loop.This is an infinite Loop.This is an infinite Loop.This is an infinite Loop.This is an infinite Loop.This is an infinite Loop.This is an infinite Loop.This is an infinite Loop.This is an infinite Loop.This is an infinite Loop.This is an infinite Loop.This is an infinite Loop.This is an infinite Loop.This is an infinite Loop.This is an infinite Loop.This is an infinite Loop.This is an infinite Loop.This is an infinite Loop.This is an infinite Loop.This is an infinite Loop.This is an infinite Loop.This is an infinite Loop.This is an infinite Loop.This is an infinite Loop.This is an infinite Loop.This is an infinite Loop.This is an infinite Loop.This is an infinite Loop.This is an infinite Loop.This is an infinite Loop.This is an infinite Loop.This is an infinite Loop.This is an infinite Loop.This is an infinite Loop.This is an infinite Loop.This is an infinite Loop.This is an infinite Loop.This is an infinite Loop.This is an infinite Loop.This is an infinite Loop.This is an infinite Loop.This is an infinite Loop.This is an infinite Loop.This is an infinite Loop.This is an infinite Loop.This is an infinite Loop.This is an infinite Loop.This is an infinite Loop.This is an infinite Loop.This is an infinite Loop.This is an infinite Loop.This is an infinite Loop.This is an infinite Loop.This is an infinite Loop.This is an infinite Loop.This is an infinite Loop.This is an infinite Loop.This is an infinite Loop.This is an infinite Loop.This is an infinite Loop.This is an infinite Loop.This is an infinite Loop.This is an infinite Loop.This is an infinite Loop.This is an infinite Loop.This is an infinite Loop.This is an infinite Loop.This is an infinite Loop.This is an infinite Loop.This is an infinite Loop.This is an infinite Loop.This is an infinite Loop.This is an infinite Loop.This is an infinite Loop.This is an infinite Loop."
     ]
    },
    {
     "ename": "KeyboardInterrupt",
     "evalue": "",
     "output_type": "error",
     "traceback": [
      "\u001b[1;31m---------------------------------------------------------------------------\u001b[0m",
      "\u001b[1;31mKeyboardInterrupt\u001b[0m                         Traceback (most recent call last)",
      "\u001b[1;32m~\\AppData\\Local\\Temp/ipykernel_8716/4064719064.py\u001b[0m in \u001b[0;36m<module>\u001b[1;34m\u001b[0m\n\u001b[0;32m      1\u001b[0m \u001b[1;32mwhile\u001b[0m \u001b[1;32mTrue\u001b[0m\u001b[1;33m:\u001b[0m\u001b[1;33m\u001b[0m\u001b[1;33m\u001b[0m\u001b[0m\n\u001b[1;32m----> 2\u001b[1;33m     \u001b[0mprint\u001b[0m\u001b[1;33m(\u001b[0m\u001b[1;34m\"This is an infinite Loop\"\u001b[0m\u001b[1;33m,\u001b[0m\u001b[0mend\u001b[0m\u001b[1;33m=\u001b[0m\u001b[1;34m\".\"\u001b[0m\u001b[1;33m)\u001b[0m\u001b[1;33m\u001b[0m\u001b[1;33m\u001b[0m\u001b[0m\n\u001b[0m\u001b[0;32m      3\u001b[0m \u001b[1;33m\u001b[0m\u001b[0m\n\u001b[0;32m      4\u001b[0m \u001b[1;31m#If you need to shut down a loop press Ctrl + C or Stop next to Run when using Jupyter Notebook\u001b[0m\u001b[1;33m\u001b[0m\u001b[1;33m\u001b[0m\u001b[0m\n",
      "\u001b[1;32m~\\Anaconda3\\lib\\site-packages\\ipykernel\\iostream.py\u001b[0m in \u001b[0;36mwrite\u001b[1;34m(self, string)\u001b[0m\n\u001b[0;32m    527\u001b[0m             \u001b[0mis_child\u001b[0m \u001b[1;33m=\u001b[0m \u001b[1;33m(\u001b[0m\u001b[1;32mnot\u001b[0m \u001b[0mself\u001b[0m\u001b[1;33m.\u001b[0m\u001b[0m_is_master_process\u001b[0m\u001b[1;33m(\u001b[0m\u001b[1;33m)\u001b[0m\u001b[1;33m)\u001b[0m\u001b[1;33m\u001b[0m\u001b[1;33m\u001b[0m\u001b[0m\n\u001b[0;32m    528\u001b[0m             \u001b[1;31m# only touch the buffer in the IO thread to avoid races\u001b[0m\u001b[1;33m\u001b[0m\u001b[1;33m\u001b[0m\u001b[0m\n\u001b[1;32m--> 529\u001b[1;33m             \u001b[0mself\u001b[0m\u001b[1;33m.\u001b[0m\u001b[0mpub_thread\u001b[0m\u001b[1;33m.\u001b[0m\u001b[0mschedule\u001b[0m\u001b[1;33m(\u001b[0m\u001b[1;32mlambda\u001b[0m\u001b[1;33m:\u001b[0m \u001b[0mself\u001b[0m\u001b[1;33m.\u001b[0m\u001b[0m_buffer\u001b[0m\u001b[1;33m.\u001b[0m\u001b[0mwrite\u001b[0m\u001b[1;33m(\u001b[0m\u001b[0mstring\u001b[0m\u001b[1;33m)\u001b[0m\u001b[1;33m)\u001b[0m\u001b[1;33m\u001b[0m\u001b[1;33m\u001b[0m\u001b[0m\n\u001b[0m\u001b[0;32m    530\u001b[0m             \u001b[1;32mif\u001b[0m \u001b[0mis_child\u001b[0m\u001b[1;33m:\u001b[0m\u001b[1;33m\u001b[0m\u001b[1;33m\u001b[0m\u001b[0m\n\u001b[0;32m    531\u001b[0m                 \u001b[1;31m# mp.Pool cannot be trusted to flush promptly (or ever),\u001b[0m\u001b[1;33m\u001b[0m\u001b[1;33m\u001b[0m\u001b[0m\n",
      "\u001b[1;32m~\\Anaconda3\\lib\\site-packages\\ipykernel\\iostream.py\u001b[0m in \u001b[0;36mschedule\u001b[1;34m(self, f)\u001b[0m\n\u001b[0;32m    212\u001b[0m             \u001b[0mself\u001b[0m\u001b[1;33m.\u001b[0m\u001b[0m_events\u001b[0m\u001b[1;33m.\u001b[0m\u001b[0mappend\u001b[0m\u001b[1;33m(\u001b[0m\u001b[0mf\u001b[0m\u001b[1;33m)\u001b[0m\u001b[1;33m\u001b[0m\u001b[1;33m\u001b[0m\u001b[0m\n\u001b[0;32m    213\u001b[0m             \u001b[1;31m# wake event thread (message content is ignored)\u001b[0m\u001b[1;33m\u001b[0m\u001b[1;33m\u001b[0m\u001b[0m\n\u001b[1;32m--> 214\u001b[1;33m             \u001b[0mself\u001b[0m\u001b[1;33m.\u001b[0m\u001b[0m_event_pipe\u001b[0m\u001b[1;33m.\u001b[0m\u001b[0msend\u001b[0m\u001b[1;33m(\u001b[0m\u001b[1;34mb''\u001b[0m\u001b[1;33m)\u001b[0m\u001b[1;33m\u001b[0m\u001b[1;33m\u001b[0m\u001b[0m\n\u001b[0m\u001b[0;32m    215\u001b[0m         \u001b[1;32melse\u001b[0m\u001b[1;33m:\u001b[0m\u001b[1;33m\u001b[0m\u001b[1;33m\u001b[0m\u001b[0m\n\u001b[0;32m    216\u001b[0m             \u001b[0mf\u001b[0m\u001b[1;33m(\u001b[0m\u001b[1;33m)\u001b[0m\u001b[1;33m\u001b[0m\u001b[1;33m\u001b[0m\u001b[0m\n",
      "\u001b[1;32m~\\Anaconda3\\lib\\site-packages\\zmq\\sugar\\socket.py\u001b[0m in \u001b[0;36msend\u001b[1;34m(self, data, flags, copy, track, routing_id, group)\u001b[0m\n\u001b[0;32m    539\u001b[0m                 )\n\u001b[0;32m    540\u001b[0m             \u001b[0mdata\u001b[0m\u001b[1;33m.\u001b[0m\u001b[0mgroup\u001b[0m \u001b[1;33m=\u001b[0m \u001b[0mgroup\u001b[0m\u001b[1;33m\u001b[0m\u001b[1;33m\u001b[0m\u001b[0m\n\u001b[1;32m--> 541\u001b[1;33m         \u001b[1;32mreturn\u001b[0m \u001b[0msuper\u001b[0m\u001b[1;33m(\u001b[0m\u001b[0mSocket\u001b[0m\u001b[1;33m,\u001b[0m \u001b[0mself\u001b[0m\u001b[1;33m)\u001b[0m\u001b[1;33m.\u001b[0m\u001b[0msend\u001b[0m\u001b[1;33m(\u001b[0m\u001b[0mdata\u001b[0m\u001b[1;33m,\u001b[0m \u001b[0mflags\u001b[0m\u001b[1;33m=\u001b[0m\u001b[0mflags\u001b[0m\u001b[1;33m,\u001b[0m \u001b[0mcopy\u001b[0m\u001b[1;33m=\u001b[0m\u001b[0mcopy\u001b[0m\u001b[1;33m,\u001b[0m \u001b[0mtrack\u001b[0m\u001b[1;33m=\u001b[0m\u001b[0mtrack\u001b[0m\u001b[1;33m)\u001b[0m\u001b[1;33m\u001b[0m\u001b[1;33m\u001b[0m\u001b[0m\n\u001b[0m\u001b[0;32m    542\u001b[0m \u001b[1;33m\u001b[0m\u001b[0m\n\u001b[0;32m    543\u001b[0m     \u001b[1;32mdef\u001b[0m \u001b[0msend_multipart\u001b[0m\u001b[1;33m(\u001b[0m\u001b[0mself\u001b[0m\u001b[1;33m,\u001b[0m \u001b[0mmsg_parts\u001b[0m\u001b[1;33m,\u001b[0m \u001b[0mflags\u001b[0m\u001b[1;33m=\u001b[0m\u001b[1;36m0\u001b[0m\u001b[1;33m,\u001b[0m \u001b[0mcopy\u001b[0m\u001b[1;33m=\u001b[0m\u001b[1;32mTrue\u001b[0m\u001b[1;33m,\u001b[0m \u001b[0mtrack\u001b[0m\u001b[1;33m=\u001b[0m\u001b[1;32mFalse\u001b[0m\u001b[1;33m,\u001b[0m \u001b[1;33m**\u001b[0m\u001b[0mkwargs\u001b[0m\u001b[1;33m)\u001b[0m\u001b[1;33m:\u001b[0m\u001b[1;33m\u001b[0m\u001b[1;33m\u001b[0m\u001b[0m\n",
      "\u001b[1;32mzmq/backend/cython/socket.pyx\u001b[0m in \u001b[0;36mzmq.backend.cython.socket.Socket.send\u001b[1;34m()\u001b[0m\n",
      "\u001b[1;32mzmq/backend/cython/socket.pyx\u001b[0m in \u001b[0;36mzmq.backend.cython.socket.Socket.send\u001b[1;34m()\u001b[0m\n",
      "\u001b[1;32mzmq/backend/cython/socket.pyx\u001b[0m in \u001b[0;36mzmq.backend.cython.socket._send_copy\u001b[1;34m()\u001b[0m\n",
      "\u001b[1;32m~\\Anaconda3\\lib\\site-packages\\zmq\\backend\\cython\\checkrc.pxd\u001b[0m in \u001b[0;36mzmq.backend.cython.checkrc._check_rc\u001b[1;34m()\u001b[0m\n",
      "\u001b[1;31mKeyboardInterrupt\u001b[0m: "
     ]
    }
   ],
   "source": [
    "while True:\n",
    "    print(\"This is an infinite Loop\",end=\".\")\n",
    "\n",
    "#If you need to shut down a loop press Ctrl + C or Stop next to Run when using Jupyter Notebook"
   ]
  },
  {
   "cell_type": "markdown",
   "id": "cd11de7e",
   "metadata": {},
   "source": [
    "### b. For in Loop"
   ]
  },
  {
   "cell_type": "markdown",
   "id": "24c5ce4b",
   "metadata": {},
   "source": [
    "A for loop is used for iterating over a sequence (that is either a list, a tuple, a dictionary, a set, or a string)."
   ]
  },
  {
   "cell_type": "code",
   "execution_count": 49,
   "id": "772840a1",
   "metadata": {},
   "outputs": [
    {
     "name": "stdout",
     "output_type": "stream",
     "text": [
      "apple\n",
      "banana\n",
      "cherry\n"
     ]
    }
   ],
   "source": [
    "fruits = [\"apple\", \"banana\", \"cherry\"]\n",
    "for x in fruits:\n",
    "  print(x)\n"
   ]
  },
  {
   "cell_type": "code",
   "execution_count": 51,
   "id": "2fa1c89b",
   "metadata": {},
   "outputs": [
    {
     "name": "stdout",
     "output_type": "stream",
     "text": [
      "b\n",
      "a\n",
      "n\n",
      "a\n",
      "n\n",
      "a\n"
     ]
    }
   ],
   "source": [
    "#Looping through a String\n",
    "\n",
    "for x in \"banana\":\n",
    "  print(x)\n"
   ]
  },
  {
   "cell_type": "markdown",
   "id": "1cc65469",
   "metadata": {},
   "source": [
    "### c. Break and Continue"
   ]
  },
  {
   "cell_type": "markdown",
   "id": "5be94ad5",
   "metadata": {},
   "source": [
    "In Python, break and continue statements can alter the flow of a normal loop.\n",
    "\n",
    "Loops iterate over a block of code until the test expression is false, but sometimes we wish to terminate the current iteration or even the whole loop without checking test expression.\n",
    "\n",
    "The break and continue statements are used in these cases."
   ]
  },
  {
   "cell_type": "code",
   "execution_count": 54,
   "id": "c5d81811",
   "metadata": {},
   "outputs": [
    {
     "name": "stdout",
     "output_type": "stream",
     "text": [
      "s\n",
      "t\n",
      "r\n"
     ]
    }
   ],
   "source": [
    "# Use of break statement inside the loop\n",
    "\n",
    "for val in \"string\":\n",
    "    if val == \"i\":\n",
    "        break\n",
    "    print(val)\n",
    "\n"
   ]
  },
  {
   "cell_type": "code",
   "execution_count": 53,
   "id": "dac6875f",
   "metadata": {},
   "outputs": [
    {
     "name": "stdout",
     "output_type": "stream",
     "text": [
      "s\n",
      "t\n",
      "r\n",
      "n\n",
      "g\n"
     ]
    }
   ],
   "source": [
    "# Program to show the use of continue statement inside loops\n",
    "\n",
    "for val in \"string\":\n",
    "    if val == \"i\":\n",
    "        continue\n",
    "    print(val)\n",
    "\n"
   ]
  },
  {
   "cell_type": "markdown",
   "id": "ecbb6c69",
   "metadata": {},
   "source": [
    "### d. Range Function"
   ]
  },
  {
   "cell_type": "markdown",
   "id": "02e9b273",
   "metadata": {},
   "source": [
    "Python range() function generates the immutable sequence of numbers starting from the given start integer to the stop integer. It is a built-in function that returns a range object consists of a series of integer numbers, which we can iterate using a for loop.\n",
    "\n",
    "__range(Start _default value is 0_, Stop, Step _default value is 1_)__"
   ]
  },
  {
   "cell_type": "code",
   "execution_count": 56,
   "id": "038de4df",
   "metadata": {},
   "outputs": [
    {
     "name": "stdout",
     "output_type": "stream",
     "text": [
      "0\n",
      "1\n",
      "2\n",
      "3\n",
      "4\n",
      "5\n"
     ]
    }
   ],
   "source": [
    "for x in range(6):\n",
    "  print(x)"
   ]
  },
  {
   "cell_type": "code",
   "execution_count": 57,
   "id": "ebaf3dd7",
   "metadata": {},
   "outputs": [
    {
     "name": "stdout",
     "output_type": "stream",
     "text": [
      "2\n",
      "5\n",
      "8\n",
      "11\n",
      "14\n",
      "17\n",
      "20\n",
      "23\n",
      "26\n",
      "29\n"
     ]
    }
   ],
   "source": [
    "for x in range(2, 30, 3):\n",
    "  print(x)"
   ]
  },
  {
   "cell_type": "code",
   "execution_count": 61,
   "id": "df30776d",
   "metadata": {},
   "outputs": [
    {
     "name": "stdout",
     "output_type": "stream",
     "text": [
      "600\n",
      "500\n",
      "400\n",
      "300\n"
     ]
    }
   ],
   "source": [
    "# you can revense the the flow of the created range\n",
    "\n",
    "for x in range(600, 200, -100):\n",
    "  print(x)"
   ]
  },
  {
   "cell_type": "markdown",
   "id": "2cde22e8",
   "metadata": {},
   "source": [
    "### e. Nested Loops"
   ]
  },
  {
   "cell_type": "markdown",
   "id": "3c3e501b",
   "metadata": {},
   "source": [
    "In Python, a loop inside a loop is known as a nested loop. "
   ]
  },
  {
   "cell_type": "code",
   "execution_count": 2,
   "id": "9e358ff0",
   "metadata": {},
   "outputs": [
    {
     "name": "stdout",
     "output_type": "stream",
     "text": [
      "Kelly Kelly Kelly Kelly Kelly \n",
      "Jessa Jessa Jessa Jessa Jessa \n",
      "Emma Emma Emma Emma Emma \n"
     ]
    }
   ],
   "source": [
    "names = ['Kelly', 'Jessa', 'Emma']\n",
    "\n",
    "# outer loop\n",
    "for name in names:\n",
    "    # inner while loop\n",
    "    count = 0\n",
    "    while count < 5:\n",
    "        print(name, end=' ')\n",
    "        # increment counter\n",
    "        count = count + 1\n",
    "    print()\n"
   ]
  },
  {
   "cell_type": "markdown",
   "id": "0cf04e39",
   "metadata": {},
   "source": [
    "__Please, do Exercise 3 now.__"
   ]
  },
  {
   "cell_type": "markdown",
   "id": "e7af7db6",
   "metadata": {},
   "source": [
    "## 4. Strings"
   ]
  },
  {
   "cell_type": "markdown",
   "id": "c0331cf2",
   "metadata": {},
   "source": [
    "### a. Struture"
   ]
  },
  {
   "cell_type": "markdown",
   "id": "b66eef04",
   "metadata": {},
   "source": [
    "Like many other popular programming languages, strings in Python are arrays of bytes representing unicode characters.\n",
    "\n",
    "A string is a sequence of characters. \n",
    "\n",
    "\n",
    "_x = \"Hello\"_\n",
    "\n",
    "\n",
    "It can be empty.\n",
    "\n",
    "\n",
    "_x =\"\"_\n",
    "\n"
   ]
  },
  {
   "cell_type": "markdown",
   "id": "1aab8eb4",
   "metadata": {},
   "source": [
    "### b. Selecting Characters"
   ]
  },
  {
   "attachments": {
    "image.png": {
     "image/png": "[encoded data removed]"
    }
   },
   "cell_type": "markdown",
   "id": "dead4842",
   "metadata": {},
   "source": [
    "If we want to access specific parts of a String, we need the index that identifies the location of each character.\n",
    "\n",
    "![image.png](attachment:image.png)\n",
    "\n"
   ]
  },
  {
   "cell_type": "code",
   "execution_count": 1,
   "id": "16fd8c4a",
   "metadata": {},
   "outputs": [
    {
     "name": "stdout",
     "output_type": "stream",
     "text": [
      "L \n",
      " a\n"
     ]
    }
   ],
   "source": [
    "# You can select specific characters using the follwoing method\n",
    "\n",
    "String = \"Lisboa\"\n",
    "\n",
    "s1 = String[0]\n",
    "s2 = String[-1]\n",
    "\n",
    "print(s1,\"\\n\",s2)\n"
   ]
  },
  {
   "cell_type": "markdown",
   "id": "dd66a41c",
   "metadata": {},
   "source": [
    "### c. Slicing"
   ]
  },
  {
   "cell_type": "markdown",
   "id": "2aa096bb",
   "metadata": {},
   "source": [
    "You can return a range of characters by using the slice syntax.\n",
    "\n",
    "_String[start : end : indexJump Default 1]\n",
    "\n",
    "Note that the last character included in the slicing will be the one before end.\n"
   ]
  },
  {
   "cell_type": "code",
   "execution_count": 12,
   "id": "61c5b805",
   "metadata": {},
   "outputs": [
    {
     "name": "stdout",
     "output_type": "stream",
     "text": [
      "Wor\n",
      "rd\n"
     ]
    }
   ],
   "source": [
    "s = \"World\"\n",
    "\n",
    "s1 = s[:3]\n",
    "s2 = s[2::2]\n",
    "\n",
    "print(s1)\n",
    "print(s2)"
   ]
  },
  {
   "cell_type": "markdown",
   "id": "ec729f20",
   "metadata": {},
   "source": [
    "You can create a slice in reverse by using a negative number in indexjump parameter"
   ]
  },
  {
   "cell_type": "code",
   "execution_count": 14,
   "id": "521affc0",
   "metadata": {},
   "outputs": [
    {
     "name": "stdout",
     "output_type": "stream",
     "text": [
      "dlr\n"
     ]
    }
   ],
   "source": [
    "s3 = s[4:1:-1]\n",
    "\n",
    "print(s3)"
   ]
  },
  {
   "cell_type": "markdown",
   "id": "3f6ff4c1",
   "metadata": {},
   "source": [
    "Strings can be simply concatonated usin a + sign"
   ]
  },
  {
   "cell_type": "code",
   "execution_count": 79,
   "id": "d953d35a",
   "metadata": {},
   "outputs": [
    {
     "name": "stdout",
     "output_type": "stream",
     "text": [
      "LisboaWorld\n"
     ]
    }
   ],
   "source": [
    "String = \"Lisboa\"\n",
    "s = \"World\"\n",
    "\n",
    "New_String = String + s\n",
    "\n",
    "print(New_String)"
   ]
  },
  {
   "cell_type": "markdown",
   "id": "95c8a6b4",
   "metadata": {},
   "source": [
    "### d. Strings Functions and Methods"
   ]
  },
  {
   "cell_type": "markdown",
   "id": "8bdb0c97",
   "metadata": {},
   "source": [
    "Below are several functions or methods that can be used to manage strings in Python. "
   ]
  },
  {
   "cell_type": "code",
   "execution_count": 1,
   "id": "c5331471",
   "metadata": {},
   "outputs": [],
   "source": [
    "example = \"Portugal\""
   ]
  },
  {
   "cell_type": "code",
   "execution_count": 17,
   "id": "74bffb10",
   "metadata": {},
   "outputs": [
    {
     "name": "stdout",
     "output_type": "stream",
     "text": [
      "117\n"
     ]
    }
   ],
   "source": [
    "# The function ord returns the ASCII code of the character selected\n",
    "print(ord(example[4]))"
   ]
  },
  {
   "cell_type": "code",
   "execution_count": 23,
   "id": "0d40f6f6",
   "metadata": {},
   "outputs": [
    {
     "name": "stdout",
     "output_type": "stream",
     "text": [
      "u\n",
      "A\n"
     ]
    }
   ],
   "source": [
    "# The min and max function return the maximum and mininum ASCII character included on the string\n",
    "\n",
    "print(max(example))\n",
    "\n",
    "print(min(example))\n",
    "\n",
    "# Note that  a upper letter comes first than a lower character on the ASCII chart"
   ]
  },
  {
   "cell_type": "code",
   "execution_count": 32,
   "id": "34927018",
   "metadata": {},
   "outputs": [
    {
     "name": "stdout",
     "output_type": "stream",
     "text": [
      "Portugal world\n",
      "Capital\n"
     ]
    }
   ],
   "source": [
    "# The capital function capitalizes the first letter of the String\n",
    "\n",
    "example1 = \"portugal world\"\n",
    "\n",
    "print (example1.capitalize())\n",
    "\n",
    "print(\"capital\".capitalize())\n",
    "\n"
   ]
  },
  {
   "cell_type": "code",
   "execution_count": 31,
   "id": "459a0ed8",
   "metadata": {},
   "outputs": [
    {
     "name": "stdout",
     "output_type": "stream",
     "text": [
      "*********************Portugal*********************\n"
     ]
    }
   ],
   "source": [
    "# The center function centers the string around a predefinied symbol\n",
    "\n",
    "# string.center(number of characters in the final string , symbol to be used)\n",
    "\n",
    "print( \"Portugal\".center(50,\"*\"))"
   ]
  },
  {
   "cell_type": "code",
   "execution_count": 57,
   "id": "3c14f884",
   "metadata": {},
   "outputs": [
    {
     "name": "stdout",
     "output_type": "stream",
     "text": [
      "14\n"
     ]
    }
   ],
   "source": [
    "# To check the size (number of characcters) of a string the function len() can be used\n",
    "\n",
    "print (len(example1))"
   ]
  },
  {
   "cell_type": "code",
   "execution_count": 35,
   "id": "793a0631",
   "metadata": {},
   "outputs": [
    {
     "name": "stdout",
     "output_type": "stream",
     "text": [
      "2\n"
     ]
    }
   ],
   "source": [
    "# count() function returns the count of specified characters\n",
    "\n",
    "print ( example1.count(\"o\"))"
   ]
  },
  {
   "cell_type": "code",
   "execution_count": 38,
   "id": "647aea41",
   "metadata": {},
   "outputs": [
    {
     "name": "stdout",
     "output_type": "stream",
     "text": [
      "True\n",
      "False\n"
     ]
    }
   ],
   "source": [
    "# endswith() and startswith() confirm if the string starts of ends with the specified substring\n",
    "\n",
    "print (example1.endswith(\"ld\"))\n",
    "\n",
    "print (example1.startswith(\"W\"))"
   ]
  },
  {
   "cell_type": "code",
   "execution_count": 47,
   "id": "0ffd13c1",
   "metadata": {},
   "outputs": [
    {
     "name": "stdout",
     "output_type": "stream",
     "text": [
      "0\n",
      "9\n",
      "-1\n",
      "The first o is at position: 1\n",
      "The second o is at position: 10\n"
     ]
    }
   ],
   "source": [
    "example1 = \"portugal world\"\n",
    "\n",
    "# The function find() searchs for a specific character ofd substring and returns it's location.\n",
    "# find(text to find , start Optional , end Optional)\n",
    "\n",
    "print (example1.find(\"p\"))\n",
    "\n",
    "#if looking for a substring returns the location of the first char of the substring\n",
    "\n",
    "print (example1.find(\"world\"))\n",
    "\n",
    "#if looking for a non existing string returns -1\n",
    "\n",
    "print (example1.find(\"x\"))\n",
    "\n",
    "\n",
    "\n",
    "print (\"The first o is at position:\",example1.find(\"o\"))\n",
    "print (\"The second o is at position:\",example1.find(\"o\",3))"
   ]
  },
  {
   "cell_type": "code",
   "execution_count": 55,
   "id": "9fb90404",
   "metadata": {},
   "outputs": [
    {
     "name": "stdout",
     "output_type": "stream",
     "text": [
      "False\n",
      "True\n"
     ]
    }
   ],
   "source": [
    "# the function isalpha() checks if string only includes alphabetic characters\n",
    "\n",
    "example3 = \"Portugal1\"\n",
    "\n",
    "print(example3.isalpha())\n",
    "\n",
    "# the function isalnum() checks if string only includes alphabetic or numeric characters\n",
    "\n",
    "\n",
    "print(example3.isalnum())\n"
   ]
  },
  {
   "cell_type": "code",
   "execution_count": 59,
   "id": "9be96995",
   "metadata": {},
   "outputs": [
    {
     "name": "stdout",
     "output_type": "stream",
     "text": [
      "pORTUGAL1\n"
     ]
    }
   ],
   "source": [
    "# The function swapcase() replaces all upper character for lower characters and vice versa\n",
    "\n",
    "print (example3.swapcase())"
   ]
  },
  {
   "cell_type": "code",
   "execution_count": 64,
   "id": "5af7c1d8",
   "metadata": {},
   "outputs": [
    {
     "name": "stdout",
     "output_type": "stream",
     "text": [
      "['portugal', 'world']\n",
      "['lisbon', 'portugal,world']\n"
     ]
    }
   ],
   "source": [
    "# the function split splits the spring and adds each part to a list (more information on lists later)\n",
    "\n",
    "# string.split(separator Default \" \" , number of splits Default -1 which is \"all occurrences\")\n",
    "\n",
    "example1 = \"portugal world\"\n",
    "\n",
    "print(example1.split())\n",
    "\n",
    "example6 = \"lisbon,portugal,world\"\n",
    "\n",
    "print(example6.split(\",\",1))"
   ]
  },
  {
   "cell_type": "code",
   "execution_count": 65,
   "id": "3ebb4b71",
   "metadata": {},
   "outputs": [
    {
     "name": "stdout",
     "output_type": "stream",
     "text": [
      "p#rtugal w#rld\n"
     ]
    }
   ],
   "source": [
    "# The function replace() replaces specific characters in the string\n",
    "\n",
    "example1 = \"portugal world\"\n",
    "\n",
    "e = example1.replace('o','#')\n",
    "\n",
    "print(e)"
   ]
  },
  {
   "cell_type": "markdown",
   "id": "8595af94",
   "metadata": {},
   "source": [
    "__Please, do Exercise 4 now.__"
   ]
  },
  {
   "cell_type": "markdown",
   "id": "5f65ec95",
   "metadata": {},
   "source": [
    "## 5. Lists"
   ]
  },
  {
   "cell_type": "markdown",
   "id": "f369f0db",
   "metadata": {},
   "source": [
    "### a. Definition"
   ]
  },
  {
   "cell_type": "markdown",
   "id": "b3f90499",
   "metadata": {},
   "source": [
    "The lists are the monst common Data Structure used in Python. They are  a mutable, or changeable, ordered sequence of elements and can be initiated in the follwoing way:\n",
    "    \n",
    "    list1 = ['figos','maças','banana']\n",
    "    \n",
    "Lists can include strings, numbers or even other data structures.\n",
    "\n",
    "    list2 = [45,'Portugal',list1,['amarelo','verde','azul']]\n",
    "\n",
    "They also allow duplicates."
   ]
  },
  {
   "cell_type": "markdown",
   "id": "938bb55a",
   "metadata": {},
   "source": [
    "### b. Finding itens, slicing and Concatonate"
   ]
  },
  {
   "cell_type": "markdown",
   "id": "2b6718af",
   "metadata": {},
   "source": [
    "Lists work similarly to strings -- use the len() function and square brackets [ ] to access data, with the first element at index 0."
   ]
  },
  {
   "cell_type": "code",
   "execution_count": 20,
   "id": "5cbfb0a1",
   "metadata": {},
   "outputs": [
    {
     "name": "stdout",
     "output_type": "stream",
     "text": [
      "3\n"
     ]
    }
   ],
   "source": [
    "list1 = ['figos','maças','banana']\n",
    "\n",
    "print (len(list1))"
   ]
  },
  {
   "cell_type": "markdown",
   "id": "1a8de068",
   "metadata": {},
   "source": [
    "The for in loop can be used to access all itens belonging to a list very easily:"
   ]
  },
  {
   "cell_type": "code",
   "execution_count": 21,
   "id": "2bed5740",
   "metadata": {},
   "outputs": [
    {
     "name": "stdout",
     "output_type": "stream",
     "text": [
      "figos\n",
      "maças\n",
      "banana\n"
     ]
    }
   ],
   "source": [
    "for item in list1:\n",
    "    print(item)"
   ]
  },
  {
   "cell_type": "code",
   "execution_count": 78,
   "id": "0241c96d",
   "metadata": {},
   "outputs": [
    {
     "data": {
      "text/plain": [
       "'figos'"
      ]
     },
     "execution_count": 78,
     "metadata": {},
     "output_type": "execute_result"
    }
   ],
   "source": [
    "# this returns a string\n",
    "\n",
    "list1[0]\n",
    "\n"
   ]
  },
  {
   "cell_type": "code",
   "execution_count": 76,
   "id": "2f6c5aa9",
   "metadata": {},
   "outputs": [
    {
     "data": {
      "text/plain": [
       "['maças']"
      ]
     },
     "execution_count": 76,
     "metadata": {},
     "output_type": "execute_result"
    }
   ],
   "source": [
    "# this returns a list, depite only having one item\n",
    "\n",
    "list1[1:2]\n",
    "\n",
    "\n",
    "#remember that when selecting the end index parameter the definined end index is not included. The same does not happen with the start index"
   ]
  },
  {
   "cell_type": "markdown",
   "id": "261a0eb6",
   "metadata": {},
   "source": [
    "Lists can be concatonated in the same manner as strings using the + sign"
   ]
  },
  {
   "cell_type": "code",
   "execution_count": 9,
   "id": "e767b85d",
   "metadata": {},
   "outputs": [
    {
     "name": "stdout",
     "output_type": "stream",
     "text": [
      "['figos', 'maças', 'banana', 45, 'Portugal', ['figos', 'maças', 'banana'], ['amarelo', 'verde', 'azul']]\n"
     ]
    }
   ],
   "source": [
    "list1 = ['figos','maças','banana']\n",
    "\n",
    "list2 = [45,'Portugal',list1,['amarelo','verde','azul']]\n",
    "\n",
    "list3 = list1+list2\n",
    "\n",
    "print(list3)"
   ]
  },
  {
   "cell_type": "markdown",
   "id": "237b3a7d",
   "metadata": {},
   "source": [
    "Another way to concatonate two lists it's by using the extend method()"
   ]
  },
  {
   "cell_type": "code",
   "execution_count": 10,
   "id": "646db8b9",
   "metadata": {},
   "outputs": [
    {
     "name": "stdout",
     "output_type": "stream",
     "text": [
      "['figos', 'maças', 'banana', 67, 'gato', 'cão', 'canário']\n"
     ]
    }
   ],
   "source": [
    "list4 = [67,'gato','cão','canário']\n",
    "\n",
    "list1.extend(list4)\n",
    "\n",
    "print(list1)"
   ]
  },
  {
   "cell_type": "markdown",
   "id": "f94a3376",
   "metadata": {},
   "source": [
    "### c. Functions and Methods for Lists"
   ]
  },
  {
   "cell_type": "code",
   "execution_count": 36,
   "id": "2f843a67",
   "metadata": {},
   "outputs": [],
   "source": [
    "#The following list will be used in following examples. Make sure to run this cell before running any example below or you will get an error because the varibale list is not created.\n",
    "\n",
    "ExampleL = ['Cozido','Sopa','Arroz']\n",
    "\n",
    "ExampleL2 = [1,5.6,8]\n"
   ]
  },
  {
   "cell_type": "code",
   "execution_count": 84,
   "id": "d671676d",
   "metadata": {},
   "outputs": [
    {
     "name": "stdout",
     "output_type": "stream",
     "text": [
      "Arroz\n",
      "Sopa\n"
     ]
    }
   ],
   "source": [
    "#The methods min() and max() work in the same way as in Strings returning the item with the lowest of highers Ascii code\n",
    "\n",
    "print (min(ExampleL))\n",
    "\n",
    "print (max(ExampleL))"
   ]
  },
  {
   "cell_type": "code",
   "execution_count": 89,
   "id": "8527c6f2",
   "metadata": {},
   "outputs": [
    {
     "name": "stdout",
     "output_type": "stream",
     "text": [
      "['Arroz', 'Cozido', 'Sopa']\n",
      "['Sopa', 'Cozido', 'Arroz']\n"
     ]
    }
   ],
   "source": [
    "#The sort() function order the items in the list according to their ASCII code\n",
    "\n",
    "ExampleL.sort()\n",
    "\n",
    "print(ExampleL)\n",
    "\n",
    "ExampleL.sort(reverse=True)\n",
    "\n",
    "print(ExampleL)\n"
   ]
  },
  {
   "cell_type": "code",
   "execution_count": 96,
   "id": "2221aa12",
   "metadata": {},
   "outputs": [
    {
     "name": "stdout",
     "output_type": "stream",
     "text": [
      "14.6\n"
     ]
    }
   ],
   "source": [
    "# To sum all elements on a list use sum()\n",
    "\n",
    "print(sum(ExampleL2))\n",
    "\n",
    "# All itens need to be numbers or it will generate an error"
   ]
  },
  {
   "cell_type": "code",
   "execution_count": 30,
   "id": "9073d585",
   "metadata": {},
   "outputs": [
    {
     "name": "stdout",
     "output_type": "stream",
     "text": [
      "0\n",
      "1\n"
     ]
    }
   ],
   "source": [
    "#To get the index of a specific item\n",
    "#take note that this function is different from the one to find characters in Strings \"string.find()\"\n",
    "\n",
    "print( ExampleL.index(\"Cozido\") )\n",
    "\n",
    "# The method count() can be used to discover how many times an item appears on the list\n",
    "\n",
    "print(ExampleL.count(\"Cozido\")) #This method could be used to find duplicated on a list if used with t for in loop."
   ]
  },
  {
   "cell_type": "code",
   "execution_count": 37,
   "id": "16a81bf6",
   "metadata": {},
   "outputs": [
    {
     "name": "stdout",
     "output_type": "stream",
     "text": [
      "['Cozido', 'Sopa', 'Arroz', 'Olá']\n",
      "['Cozido', 'Sopa', 'Adeus', 'Arroz', 'Olá']\n"
     ]
    }
   ],
   "source": [
    "#To add itens to a list you could use append or inser\n",
    "\n",
    "#Append adds the item to the end of of the list\n",
    "ExampleL.append(\"Olá\")\n",
    "\n",
    "print(ExampleL)\n",
    "\n",
    "#Insert adds the item to the the defined index\n",
    "\n",
    "ExampleL.insert(2,\"Adeus\")\n",
    "\n",
    "print(ExampleL)\n",
    "\n"
   ]
  },
  {
   "cell_type": "code",
   "execution_count": 32,
   "id": "861d58d3",
   "metadata": {},
   "outputs": [
    {
     "name": "stdout",
     "output_type": "stream",
     "text": [
      "False\n"
     ]
    }
   ],
   "source": [
    "#it is possible to check if an item is inside a list using in\n",
    "\n",
    "print ( \"Rui\" in ExampleL )"
   ]
  },
  {
   "cell_type": "markdown",
   "id": "7f5ad2dd",
   "metadata": {},
   "source": [
    "There are several ways to remove itens from a list."
   ]
  },
  {
   "cell_type": "code",
   "execution_count": 26,
   "id": "7be24c75",
   "metadata": {},
   "outputs": [
    {
     "name": "stdout",
     "output_type": "stream",
     "text": [
      "['Cozido', 'Arroz']\n",
      "['Arroz']\n",
      "Arroz\n",
      "[]\n"
     ]
    }
   ],
   "source": [
    "ExampleL = ['Cozido','Sopa','Arroz']\n",
    "\n",
    "# There are several ways to remove itens from a list\n",
    "\n",
    "#The del method required the index of the object\n",
    "\n",
    "del ExampleL[1]\n",
    "\n",
    "print(ExampleL)\n",
    "\n",
    "# the method remove() removes the item indicated\n",
    "\n",
    "ExampleL.remove(\"Cozido\")\n",
    "print(ExampleL)\n",
    "\n",
    "#The pop method removes the selected item from the list and returns it\n",
    "\n",
    "print(ExampleL.pop())\n",
    "\n",
    "#Finally the clear() meethod removes everything inside a list\n",
    "\n",
    "ExampleL.clear()\n",
    "\n",
    "print(ExampleL)\n",
    "\n"
   ]
  },
  {
   "cell_type": "markdown",
   "id": "fd9dac0e",
   "metadata": {},
   "source": [
    "__Please, do Exercise 5, 6 and 7 now.__<br>\n",
    "_(for more simple List exercises follow this [link.](https://www.w3schools.com/python/exercise.asp?filename=exercise_lists1))_"
   ]
  },
  {
   "cell_type": "markdown",
   "id": "ca1c83af",
   "metadata": {},
   "source": [
    "## 6. Other Types of Data Structures"
   ]
  },
  {
   "cell_type": "markdown",
   "id": "a3a3a50e",
   "metadata": {},
   "source": [
    "### a. Types of Data Structures"
   ]
  },
  {
   "cell_type": "markdown",
   "id": "acc4cd29",
   "metadata": {},
   "source": [
    "i. Mutables:\n",
    "* Lists\n",
    "* Dictionaries\n",
    "\n",
    "ii. Non Mutables:\n",
    "* Tuples\n",
    "* Strings\n",
    "* Sets"
   ]
  },
  {
   "cell_type": "markdown",
   "id": "19f5ac6f",
   "metadata": {},
   "source": [
    "### b. Tuples"
   ]
  },
  {
   "cell_type": "markdown",
   "id": "6eb51e5f",
   "metadata": {},
   "source": [
    "A tuple is a collection which is ordered and unchangeable.\n",
    "They are created with ( ) instead of [ ]"
   ]
  },
  {
   "cell_type": "code",
   "execution_count": 6,
   "id": "32f5ee5c",
   "metadata": {},
   "outputs": [],
   "source": [
    "one_tuple = ('olá',1,'adeus')"
   ]
  },
  {
   "cell_type": "markdown",
   "id": "7c4a7018",
   "metadata": {},
   "source": [
    "Advantages to tuples over lists:\n",
    "* Tuples use less space\n",
    "* Immutability prevents changing tuple items by mistake\n",
    "* Tuples can be used as dictionary keys\n",
    "* Function arguments are passed as tuples"
   ]
  },
  {
   "cell_type": "markdown",
   "id": "1720680e",
   "metadata": {},
   "source": [
    "After creating a tuple you cannot add, remove or change any elements from a Tuple. \n",
    "\n",
    "Despite of this you can search for itens inside:"
   ]
  },
  {
   "cell_type": "code",
   "execution_count": 7,
   "id": "9bb0c727",
   "metadata": {},
   "outputs": [
    {
     "name": "stdout",
     "output_type": "stream",
     "text": [
      "1\n"
     ]
    }
   ],
   "source": [
    "print (one_tuple[1] )"
   ]
  },
  {
   "cell_type": "markdown",
   "id": "db6c383f",
   "metadata": {},
   "source": [
    "### c. Dictionaries"
   ]
  },
  {
   "cell_type": "markdown",
   "id": "ae025798",
   "metadata": {},
   "source": [
    "A dictionary is a collection which is ordered, changeable and do not allow duplicates.\n",
    "\n",
    "Dictionaries are used to store data values in key:value pairs.\n",
    "    \n",
    "They are created using {}"
   ]
  },
  {
   "cell_type": "code",
   "execution_count": 8,
   "id": "0d4f6c5d",
   "metadata": {},
   "outputs": [],
   "source": [
    "thisdict = {\n",
    "  \"brand\": \"Ford\",\n",
    "  \"model\": \"Mustang\",\n",
    "  \"year\": 1964\n",
    "}"
   ]
  },
  {
   "cell_type": "markdown",
   "id": "0653e92e",
   "metadata": {},
   "source": [
    "Dictionaries values are called by using the key"
   ]
  },
  {
   "cell_type": "code",
   "execution_count": 16,
   "id": "dbf13b97",
   "metadata": {},
   "outputs": [
    {
     "data": {
      "text/plain": [
       "'Ford'"
      ]
     },
     "execution_count": 16,
     "metadata": {},
     "output_type": "execute_result"
    }
   ],
   "source": [
    "thisdict[\"brand\"]\n",
    "\n",
    "# or \n",
    "\n",
    "thisdict.get(\"brand\") "
   ]
  },
  {
   "cell_type": "markdown",
   "id": "ed8757a3",
   "metadata": {},
   "source": [
    "There are two ways to access to the contents of a dictionary using a loop:"
   ]
  },
  {
   "cell_type": "code",
   "execution_count": 20,
   "id": "9d489608",
   "metadata": {},
   "outputs": [
    {
     "name": "stdout",
     "output_type": "stream",
     "text": [
      "brand\n",
      "model\n",
      "year\n",
      "Condition\n",
      "colors\n"
     ]
    }
   ],
   "source": [
    "# 1. By using only a variable it will use the key\n",
    "\n",
    "for x in thisdict:\n",
    "    print(x)"
   ]
  },
  {
   "cell_type": "code",
   "execution_count": 24,
   "id": "98836579",
   "metadata": {},
   "outputs": [
    {
     "name": "stdout",
     "output_type": "stream",
     "text": [
      "brand : Ford\n",
      "model : Mustang\n",
      "year : 1964\n",
      "Condition : Used\n",
      "colors : ['red', 'white', 'blue']\n"
     ]
    }
   ],
   "source": [
    "# 2. The value can also be used by using the following method\n",
    "\n",
    "for x,y in thisdict.items():\n",
    "    print(x,\":\",y)\n"
   ]
  },
  {
   "cell_type": "code",
   "execution_count": 17,
   "id": "88fbe254",
   "metadata": {},
   "outputs": [
    {
     "name": "stdout",
     "output_type": "stream",
     "text": [
      "{'brand': 'Ford', 'model': 'Mustang', 'year': 1964, 'Condition': 'Used'}\n"
     ]
    }
   ],
   "source": [
    "#when itens are added you can also need to add a key\n",
    "\n",
    "thisdict[\"Condition\"] = \"Used\"\n",
    "\n",
    "print (thisdict)"
   ]
  },
  {
   "cell_type": "code",
   "execution_count": 18,
   "id": "bfcd0682",
   "metadata": {},
   "outputs": [
    {
     "name": "stdout",
     "output_type": "stream",
     "text": [
      "{'brand': 'Ford', 'model': 'Mustang', 'year': 1964, 'Condition': 'Used', 'colors': ['red', 'white', 'blue']}\n"
     ]
    }
   ],
   "source": [
    "# A good way to have more than one value associated to a key is by using a list\n",
    "\n",
    "thisdict[\"colors\"] = [\"red\", \"white\", \"blue\"]\n",
    "\n",
    "print(thisdict)"
   ]
  },
  {
   "cell_type": "code",
   "execution_count": 25,
   "id": "33390582",
   "metadata": {},
   "outputs": [
    {
     "name": "stdout",
     "output_type": "stream",
     "text": [
      "{'brand': 'Ford', 'model': 'Mustang', 'year': '1966', 'Condition': 'Used', 'colors': ['red', 'white', 'blue']}\n"
     ]
    }
   ],
   "source": [
    "# Items can be updated by calling out their key the same way they are added\n",
    "\n",
    "thisdict[\"year\"] = \"1966\"\n",
    "\n",
    "print (thisdict)"
   ]
  },
  {
   "cell_type": "markdown",
   "id": "e46e4dd7",
   "metadata": {},
   "source": [
    "__Please, do Exercise 8 now.__<br>\n",
    "_(for more simple Dictionary exercises follow this [link.](https://www.w3schools.com/python/exercise.asp?filename=exercise_dictionaries1))_"
   ]
  },
  {
   "cell_type": "markdown",
   "id": "e429e947",
   "metadata": {},
   "source": [
    "## 7. Other Python Topics"
   ]
  },
  {
   "cell_type": "markdown",
   "id": "89021acc",
   "metadata": {},
   "source": [
    "### a. Functions"
   ]
  },
  {
   "cell_type": "markdown",
   "id": "4b214327",
   "metadata": {},
   "source": [
    "Functions in programming are used to bundle a set of instructions that you want to use repeatedly or that, because of their complexity, are better self-contained in a sub-program and called when needed."
   ]
  },
  {
   "cell_type": "markdown",
   "id": "fad6d2d1",
   "metadata": {},
   "source": [
    "Function in Python ca be:\n",
    "\n",
    "* Built-in functions, such as help() to ask for help, min() to get the minimum value, print() to print an object to the terminal,…\n",
    "\n",
    "* User-Defined Functions (UDFs), which are functions that users create to help them out\n"
   ]
  },
  {
   "cell_type": "markdown",
   "id": "e31cde48",
   "metadata": {},
   "source": [
    "The four steps to defining a UDF in Python are the following:\n",
    "\n",
    "* Use the keyword _def_ to declare the function and follow this up with the function name.\n",
    "* Add parameters to the function: they should be within the parentheses of the function. End your line with a colon.\n",
    "* Add statements that the functions should execute.\n",
    "* End your function with a return statement if the function should output something. Without the return statement, your function will return an object None."
   ]
  },
  {
   "cell_type": "code",
   "execution_count": 33,
   "id": "051f185d",
   "metadata": {},
   "outputs": [],
   "source": [
    "def hello():\n",
    "    name = str(input(\"Enter your name: \"))\n",
    "    if name:\n",
    "        print (\"Hello \" + str(name))\n",
    "    else:\n",
    "        print(\"Hello World\")\n",
    "    return\n",
    "  \n",
    "#The above exampel does not use parameters"
   ]
  },
  {
   "cell_type": "code",
   "execution_count": 34,
   "id": "1941250e",
   "metadata": {},
   "outputs": [
    {
     "name": "stdout",
     "output_type": "stream",
     "text": [
      "Enter your name: Miguel\n",
      "Hello Miguel\n"
     ]
    }
   ],
   "source": [
    "#a function will only be used when it is called\n",
    "\n",
    "hello()"
   ]
  },
  {
   "cell_type": "code",
   "execution_count": 40,
   "id": "7f10680c",
   "metadata": {},
   "outputs": [
    {
     "name": "stdout",
     "output_type": "stream",
     "text": [
      "5\n",
      "3\n"
     ]
    }
   ],
   "source": [
    "# You can add parameters to be used when creating a function\n",
    "\n",
    "def plus(a,b):\n",
    "  return a + b\n",
    "\n",
    "#the above function will only work if when it is called it receives values for a and b\n",
    "#The values of the parameters can be given by giving the values on the expected order or using keyword arguments\n",
    "\n",
    "# Call plus() function with parameters \n",
    "print (plus(2,3))\n",
    "\n",
    "# Call plus() function with keyword arguments\n",
    "print(plus(a=1, b=2))"
   ]
  },
  {
   "cell_type": "code",
   "execution_count": 38,
   "id": "fd4801ef",
   "metadata": {},
   "outputs": [
    {
     "name": "stdout",
     "output_type": "stream",
     "text": [
      "The result is: 3\n",
      "The result is: 4\n"
     ]
    }
   ],
   "source": [
    "#it is also possible to define default values for the paramers of the functions. These values will be used in case parameters are not given\n",
    "\n",
    "def plus(a,b = 2):\n",
    "  return a + b\n",
    "  \n",
    "# Calling plus() with only a parameter\n",
    "print (\"The result is:\",plus(a=1))\n",
    "\n",
    "# Call plus() with a and b parameters\n",
    "print (\"The result is:\", plus(a=1, b=3))"
   ]
  },
  {
   "cell_type": "markdown",
   "id": "875bfb47",
   "metadata": {},
   "source": [
    "### b. Global Variables"
   ]
  },
  {
   "cell_type": "markdown",
   "id": "0b9b04d1",
   "metadata": {},
   "source": [
    "In general, variables that are defined inside a function body have a local scope, and those defined outside have a global scope. That means that local variables are defined within a function block and can only be accessed inside that function, while global variables can be obtained by all functions that might be in your script."
   ]
  },
  {
   "cell_type": "code",
   "execution_count": 41,
   "id": "ba826b43",
   "metadata": {},
   "outputs": [
    {
     "name": "stdout",
     "output_type": "stream",
     "text": [
      "This is the initialized value 45\n"
     ]
    },
    {
     "ename": "NameError",
     "evalue": "name 'total' is not defined",
     "output_type": "error",
     "traceback": [
      "\u001b[1;31m---------------------------------------------------------------------------\u001b[0m",
      "\u001b[1;31mNameError\u001b[0m                                 Traceback (most recent call last)",
      "\u001b[1;32m~\\AppData\\Local\\Temp/ipykernel_18340/3723382646.py\u001b[0m in \u001b[0;36m<module>\u001b[1;34m\u001b[0m\n\u001b[0;32m     17\u001b[0m \u001b[1;33m\u001b[0m\u001b[0m\n\u001b[0;32m     18\u001b[0m \u001b[1;31m#this print (tries) to access the local variable created inside the function\u001b[0m\u001b[1;33m\u001b[0m\u001b[1;33m\u001b[0m\u001b[0m\n\u001b[1;32m---> 19\u001b[1;33m \u001b[0mprint\u001b[0m\u001b[1;33m(\u001b[0m\u001b[1;34m\"This is the sum \"\u001b[0m\u001b[1;33m+\u001b[0m\u001b[0mstr\u001b[0m\u001b[1;33m(\u001b[0m\u001b[0mtotal\u001b[0m\u001b[1;33m)\u001b[0m\u001b[1;33m)\u001b[0m\u001b[1;33m\u001b[0m\u001b[1;33m\u001b[0m\u001b[0m\n\u001b[0m",
      "\u001b[1;31mNameError\u001b[0m: name 'total' is not defined"
     ]
    }
   ],
   "source": [
    "#Global Variable being created\n",
    "init = 45\n",
    "\n",
    "#Function with Local variable\n",
    "\n",
    "def hello(parameter):\n",
    "    #Local Variable\n",
    "    total=0\n",
    "    for i in parameter:\n",
    "        total += i\n",
    "    return total\n",
    "\n",
    "\n",
    "#this print acesses the Global Variable\n",
    "print(\"This is the initialized value \"+str(init))\n",
    "      \n",
    "    \n",
    "#this print (tries) to access the local variable created inside the function\n",
    "print(\"This is the sum \"+str(total))"
   ]
  },
  {
   "cell_type": "markdown",
   "id": "e12fa982",
   "metadata": {},
   "source": [
    "__Please, do Exercise 9, 10 and 11 now.__"
   ]
  },
  {
   "cell_type": "markdown",
   "id": "e209b740",
   "metadata": {},
   "source": [
    "### c. Error management in Python"
   ]
  },
  {
   "cell_type": "markdown",
   "id": "a71abe34",
   "metadata": {},
   "source": [
    "In order to manage expected errors on python the following method can be used:\n",
    "    \n",
    "_try_:<br>\n",
    "&emsp;Code to be tested<br>\n",
    "_except_:<br>\n",
    "&emsp;Code to run in case previous code got an error<br>\n",
    "_else_: (Optional)<br>\n",
    "&emsp;Additional Code to run when no error occurs<br>\n",
    "_finally_: (Optional)<br>\n",
    "&emsp;Code that runs in every instance (error or not)<br>"
   ]
  },
  {
   "cell_type": "code",
   "execution_count": 44,
   "id": "aa35b335",
   "metadata": {},
   "outputs": [
    {
     "name": "stdout",
     "output_type": "stream",
     "text": [
      "Hello\n",
      "Nothing went wrong\n"
     ]
    }
   ],
   "source": [
    "try:\n",
    "  print(\"Hello\")\n",
    "except:\n",
    "  print(\"Something went wrong\")\n",
    "else:\n",
    "  print(\"Nothing went wrong\")"
   ]
  },
  {
   "cell_type": "code",
   "execution_count": 45,
   "id": "ebe5b07a",
   "metadata": {},
   "outputs": [
    {
     "name": "stdout",
     "output_type": "stream",
     "text": [
      "colors\n",
      "The 'try except' is finished\n"
     ]
    }
   ],
   "source": [
    "try:\n",
    "  print(x)\n",
    "except:\n",
    "  print(\"Something went wrong\")\n",
    "finally:\n",
    "  print(\"The 'try except' is finished\")"
   ]
  },
  {
   "cell_type": "markdown",
   "id": "7d013011",
   "metadata": {},
   "source": [
    "### d. Modules/Libraries"
   ]
  },
  {
   "cell_type": "markdown",
   "id": "2b8c9b48",
   "metadata": {},
   "source": [
    "A Python library is simply a collection of codes or modules of codes (with methods/functions) that we can use in a program for specific operations."
   ]
  },
  {
   "cell_type": "code",
   "execution_count": 46,
   "id": "e2896f54",
   "metadata": {},
   "outputs": [
    {
     "name": "stdout",
     "output_type": "stream",
     "text": [
      "4.0\n"
     ]
    }
   ],
   "source": [
    "# To import a complete library\n",
    "\n",
    "import math\n",
    "\n",
    "#later to call a method from the library you have to state it\n",
    "\n",
    "A = 16\n",
    "print(math.sqrt(A))"
   ]
  },
  {
   "cell_type": "code",
   "execution_count": 47,
   "id": "a22cc684",
   "metadata": {},
   "outputs": [
    {
     "name": "stdout",
     "output_type": "stream",
     "text": [
      "4.0\n",
      "0.0015926529164868282\n"
     ]
    }
   ],
   "source": [
    "# To avoid importing a compelte library you can just import specific methods from the library.\n",
    "\n",
    "\n",
    "# Importing specific modules inside a library\n",
    "from math import sqrt, sin\n",
    "\n",
    "#This way when calling the above methods we don't need to call trhe library again\n",
    "\n",
    "A = 16\n",
    "B = 3.14\n",
    "print(sqrt(A))\n",
    "print(sin(B))"
   ]
  },
  {
   "cell_type": "code",
   "execution_count": 48,
   "id": "13d463c2",
   "metadata": {},
   "outputs": [
    {
     "name": "stdout",
     "output_type": "stream",
     "text": [
      "Capitalise This Sentence Again Please.\n"
     ]
    }
   ],
   "source": [
    "#When importing a library you can defined a new name to call it when wrinting the scrip\n",
    "\n",
    "import string as s\n",
    "\n",
    "print(s.capwords('capitalise this sentence again please.'))"
   ]
  },
  {
   "cell_type": "markdown",
   "id": "5ec0b388",
   "metadata": {},
   "source": [
    "Some libraries are already included in the normal installation of python and just need to be called (e.g. random, math). Other libraries need to be installed so they can be called later."
   ]
  },
  {
   "cell_type": "markdown",
   "id": "61cdc86d",
   "metadata": {},
   "source": [
    "Below are some example of some useful libraries in python:\n",
    "    \n",
    "* Time - time\n",
    "* Math - math\n",
    "* Graphical interface - tkinter\n",
    "* Tables/Data - pandas\n",
    "* Graphs - matplotlib\n",
    "* MySQL Database - mysql.connector\n",
    "* Large quantities of information - numpy\n",
    "* System - sys\n",
    "* Random Values - random\n",
    "* Managing CSVs - csv\n",
    "* Managing Excel files - openpyxl"
   ]
  },
  {
   "cell_type": "markdown",
   "id": "2e4a16b2",
   "metadata": {},
   "source": [
    "### e. Files"
   ]
  },
  {
   "cell_type": "markdown",
   "id": "d8b0dcf4",
   "metadata": {},
   "source": [
    "Before performing any operation on the file like read or write, first we have to open that file. For this, we should use Python’s inbuilt function open()"
   ]
  },
  {
   "cell_type": "markdown",
   "id": "5c1c1216",
   "metadata": {},
   "source": [
    "f = open(filename with path, mode)<br>\n",
    "\n",
    "The following modes are supported:\n",
    "\n",
    "_r_: open an existing file for a read operation.<br>\n",
    "_w_: open an existing file for a write operation. If the file already contains some data then it will be overridden.<br>\n",
    "_a_:  open an existing file for append operation. It won’t override existing data.<br>\n",
    "_r+_:  To read and write data into the file. The previous data in the file will not be deleted.<br>\n",
    "_w+_: To write and read data. It will override existing data.<br>\n",
    "_a+_: To append and read data from the file. It won’t override existing data.<br>"
   ]
  },
  {
   "cell_type": "code",
   "execution_count": 52,
   "id": "7a28864e",
   "metadata": {},
   "outputs": [],
   "source": [
    "# Python code to create a file\n",
    "\n",
    "\n",
    "file = open('example text.txt','w')\n",
    "#If we request for the file to be written before being read it and no such file exists it will be created\n",
    "# Remember that after creating the variable containing the open file, the file will stay open during the remaining operations\n",
    "\n",
    "\n",
    "file.write(\"This is the write command\\n\")\n",
    "file.write(\"It allows us to write in a particular file\")\n",
    "#what happens when using the write command will depend on the mode selected when opening the file. It could be appending or replacing what was inside before.\n",
    "\n",
    "#in the end of the code the file shoudl always be closed\n",
    "file.close()"
   ]
  },
  {
   "cell_type": "code",
   "execution_count": 59,
   "id": "294766da",
   "metadata": {},
   "outputs": [
    {
     "name": "stdout",
     "output_type": "stream",
     "text": [
      "['fewfw;gregewg']\n",
      "[['erver;bfdbverbv'], ['erwgerwfg;wfw'], ['werfgwef;wefwf'], ['sdfgewq gew;wfg wqefwe']]\n"
     ]
    }
   ],
   "source": [
    "#Using CSV files - Reading\n",
    "\n",
    "\n",
    "import csv #we need to call the required library to use csv files\n",
    "\n",
    "try:\n",
    "    file = open(\"Salary_Data.csv\",'r+') #This will open the file. Since we are using r+ it will read first and then write so the file needs to exist already\n",
    "    \n",
    "    csvreader = csv.reader(file) #This will \n",
    "    header = next(csvreader) #here we are saying that the next line in the csv will be allocated to this variable (in this case the first one)\n",
    "    print(header)\n",
    "    rows = []\n",
    "    for row in csvreader: #in this for in we are allocating each line of the csv to as an element of a list\n",
    "        rows.append(row) \n",
    "    print(rows)\n",
    "finally:\n",
    "    file.close() #a try method was used to in case there is an error in the middle of the code we are sure that in the end the file is closed"
   ]
  },
  {
   "cell_type": "code",
   "execution_count": 66,
   "id": "6a90fd16",
   "metadata": {},
   "outputs": [],
   "source": [
    "#Using CSV files - Writing\n",
    "\n",
    "\n",
    "header = ['Name', 'M1 Score', 'M2 Score']\n",
    "data = [['Alex', 62, 8], ['Brad', 45, 56], ['Joey', 85, 98]]\n",
    "filename = 'Student_scores.csv'\n",
    "try:\n",
    "    file = open(filename, 'w') # since we are writing the file if it doens't exist it will be created\n",
    "    for header in header:\n",
    "        file.write(str(header)+'; ') # the write method writes the defined data on the document\n",
    "    file.write('\\n')\n",
    "    for row in data:\n",
    "        for x in row:\n",
    "            file.write(str(x)+'; ')\n",
    "        file.write('\\n')\n",
    "finally:\n",
    "    file.close()"
   ]
  },
  {
   "cell_type": "code",
   "execution_count": 26,
   "id": "bcaf4f2d",
   "metadata": {},
   "outputs": [],
   "source": [
    "# Using Excel files - Crreating a file\n",
    "\n",
    "from openpyxl import Workbook # in order to do that you need to import the module Workbook from the library openpyxl\n",
    "\n",
    "wb = Workbook() #With this command you create a workbook with a single sheet\n",
    "\n",
    "\n",
    "\n",
    "sheet1 =  wb.active # This command creates a variable for the initial sheet\n",
    "\n",
    "sheet1.title = \"Changed Sheet\" #this was we change the name of the currenctly active sheet\n",
    "\n",
    "\n",
    "ws[\"A1\"] = \"hello\" # this will write this information on the selected cells\n",
    "ws[\"B1\"] = \"world!\"\n",
    "ws[\"A2\"] =  \"Power\"\n",
    "ws[\"B2\"] = \"BI\"\n",
    "\n",
    "sheet2 = workbook.create_sheet(\"Operations\") # Now we are creating a second sheet called Operations\n",
    "\n",
    "sheet2 = workbook[\"Operations\"] #This line exemplifies how to create a variable for that sheet later. Notice that we are not using .active\n",
    "\n",
    "wb.save(filename = 'sample_book.xlsx')\n",
    "\n",
    "wb.close()"
   ]
  },
  {
   "cell_type": "code",
   "execution_count": 25,
   "id": "a7f06bc9",
   "metadata": {},
   "outputs": [
    {
     "name": "stdout",
     "output_type": "stream",
     "text": [
      "Changed Sheet\n",
      "hello\n",
      "world!\n",
      "('hello', 'world!')\n",
      "('Power', 'BI')\n"
     ]
    }
   ],
   "source": [
    "# Using Excel files - Reading files\n",
    "\n",
    "from openpyxl import load_workbook # in order to read a workbook this module can be used\n",
    "\n",
    "\n",
    "workbook = load_workbook(filename='sample_book.xlsx')\n",
    "\n",
    "sheet = workbook.active\n",
    "\n",
    "print (sheet.title) #this gives the the title currently selected \n",
    "\n",
    "print( sheet[\"A1\"].value) #this gives the value of the selected cells\n",
    "print(sheet.cell(row=1,column=2).value) #alternative way to reach the cell value\n",
    "\n",
    "\n",
    "#there are several ways to read data in an excel table but that will be covered later on the dataframe/pandas lesson\n",
    "\n",
    "#this is an example of a way to see all table values. As you can see it converts every line to a Tuple automatically\n",
    "for row in sheet.iter_rows(values_only=True): \n",
    "    print(row)"
   ]
  },
  {
   "cell_type": "markdown",
   "id": "40b27e0d",
   "metadata": {},
   "source": [
    "__How to convert from XLSX to CSV__"
   ]
  },
  {
   "cell_type": "code",
   "execution_count": null,
   "id": "a4e70aed",
   "metadata": {},
   "outputs": [],
   "source": [
    "filename = 'sample_book.xlsx'\n",
    "\n",
    "    ## opening the xlsx file\n",
    "xlsx = openpyxl.load_workbook(filename)\n",
    "\n",
    "    ## opening the active sheet\n",
    "sheet = xlsx.active\n",
    "\n",
    "    ## getting the data from the sheet\n",
    "data = sheet.rows\n",
    "\n",
    "    ## creating a csv file\n",
    "csv = open(\"vendasCSV.csv\", \"w+\")\n",
    "\n",
    "for row in data:\n",
    "    l = list(row)\n",
    "    for i in range(len(l)):\n",
    "        if i == len(l) - 1:\n",
    "            csv.write(str(l[i].value))\n",
    "        else:\n",
    "            csv.write(str(l[i].value) + ',')\n",
    "        csv.write('\\n')\n",
    "\n",
    "    ## close the csv file\n",
    "    csv.close()"
   ]
  },
  {
   "cell_type": "markdown",
   "id": "e3a418d1",
   "metadata": {},
   "source": [
    "__Please, do Exercise 12 now.__"
   ]
  },
  {
   "cell_type": "markdown",
   "id": "d971acb9",
   "metadata": {},
   "source": [
    "### f. Dataframes"
   ]
  },
  {
   "cell_type": "markdown",
   "id": "e612d216",
   "metadata": {},
   "source": [
    "The Dataframe is a flexible data structure that make data manipulation and analysis easier. It is included in the library pandas."
   ]
  },
  {
   "cell_type": "markdown",
   "id": "d9b5ea5f",
   "metadata": {},
   "source": [
    "DataFrame is a 2-dimensional labeled data structure with columns of potentially different types. You can think of it like a spreadsheet or SQL table, or a dict of Series objects. It is generally the most commonly used pandas object. "
   ]
  },
  {
   "cell_type": "code",
   "execution_count": 66,
   "id": "d94fcb06",
   "metadata": {},
   "outputs": [
    {
     "data": {
      "text/html": [
       "<div>\n",
       "<style scoped>\n",
       "    .dataframe tbody tr th:only-of-type {\n",
       "        vertical-align: middle;\n",
       "    }\n",
       "\n",
       "    .dataframe tbody tr th {\n",
       "        vertical-align: top;\n",
       "    }\n",
       "\n",
       "    .dataframe thead th {\n",
       "        text-align: right;\n",
       "    }\n",
       "</style>\n",
       "<table border=\"1\" class=\"dataframe\">\n",
       "  <thead>\n",
       "    <tr style=\"text-align: right;\">\n",
       "      <th></th>\n",
       "      <th>name</th>\n",
       "      <th>score</th>\n",
       "      <th>attempts</th>\n",
       "      <th>qualify</th>\n",
       "    </tr>\n",
       "  </thead>\n",
       "  <tbody>\n",
       "    <tr>\n",
       "      <th>a</th>\n",
       "      <td>Anastasia</td>\n",
       "      <td>12.5</td>\n",
       "      <td>1</td>\n",
       "      <td>yes</td>\n",
       "    </tr>\n",
       "    <tr>\n",
       "      <th>b</th>\n",
       "      <td>Dima</td>\n",
       "      <td>9.0</td>\n",
       "      <td>3</td>\n",
       "      <td>no</td>\n",
       "    </tr>\n",
       "    <tr>\n",
       "      <th>c</th>\n",
       "      <td>Katherine</td>\n",
       "      <td>16.5</td>\n",
       "      <td>2</td>\n",
       "      <td>yes</td>\n",
       "    </tr>\n",
       "    <tr>\n",
       "      <th>d</th>\n",
       "      <td>James</td>\n",
       "      <td>NaN</td>\n",
       "      <td>3</td>\n",
       "      <td>no</td>\n",
       "    </tr>\n",
       "    <tr>\n",
       "      <th>e</th>\n",
       "      <td>Emily</td>\n",
       "      <td>9.0</td>\n",
       "      <td>2</td>\n",
       "      <td>no</td>\n",
       "    </tr>\n",
       "  </tbody>\n",
       "</table>\n",
       "</div>"
      ],
      "text/plain": [
       "        name  score  attempts qualify\n",
       "a  Anastasia   12.5         1     yes\n",
       "b       Dima    9.0         3      no\n",
       "c  Katherine   16.5         2     yes\n",
       "d      James    NaN         3      no\n",
       "e      Emily    9.0         2      no"
      ]
     },
     "execution_count": 66,
     "metadata": {},
     "output_type": "execute_result"
    }
   ],
   "source": [
    "# example of Dataframe creation\n",
    "\n",
    "import pandas as pd\n",
    "import numpy as np\n",
    "\n",
    "exam_data  = {'name': ['Anastasia', 'Dima', 'Katherine', 'James', 'Emily', 'Michael', 'Matthew', 'Laura', 'Kevin', 'Jonas'],\n",
    "        'score': [12.5, 9, 16.5, np.nan, 9, 20, 14.5, np.nan, 8, 19],\n",
    "        'attempts': [1, 3, 2, 3, 2, 3, 1, 1, 2, 1],\n",
    "        'qualify': ['yes', 'no', 'yes', 'no', 'no', 'yes', 'yes', 'no', 'no', 'yes']}\n",
    "labels = ['a', 'b', 'c', 'd', 'e', 'f', 'g', 'h', 'i', 'j']\n",
    "\n",
    "df = pd.DataFrame(exam_data , index=labels)\n",
    "\n",
    "df.head()\n",
    "\n",
    "\n",
    "#note that to add a null value you need the library numpyand use the function numpy.nan"
   ]
  },
  {
   "cell_type": "code",
   "execution_count": 63,
   "id": "230583d0",
   "metadata": {},
   "outputs": [
    {
     "name": "stdout",
     "output_type": "stream",
     "text": [
      "<class 'pandas.core.frame.DataFrame'>\n",
      "Index: 10 entries, a to j\n",
      "Data columns (total 4 columns):\n",
      " #   Column    Non-Null Count  Dtype  \n",
      "---  ------    --------------  -----  \n",
      " 0   name      10 non-null     object \n",
      " 1   score     8 non-null      float64\n",
      " 2   attempts  10 non-null     int64  \n",
      " 3   qualify   10 non-null     object \n",
      "dtypes: float64(1), int64(1), object(2)\n",
      "memory usage: 400.0+ bytes\n"
     ]
    }
   ],
   "source": [
    "#There are several functions that give a quick summary of the dataframe\n",
    "\n",
    "df.info()"
   ]
  },
  {
   "cell_type": "code",
   "execution_count": 65,
   "id": "0760be16",
   "metadata": {},
   "outputs": [
    {
     "data": {
      "text/html": [
       "<div>\n",
       "<style scoped>\n",
       "    .dataframe tbody tr th:only-of-type {\n",
       "        vertical-align: middle;\n",
       "    }\n",
       "\n",
       "    .dataframe tbody tr th {\n",
       "        vertical-align: top;\n",
       "    }\n",
       "\n",
       "    .dataframe thead th {\n",
       "        text-align: right;\n",
       "    }\n",
       "</style>\n",
       "<table border=\"1\" class=\"dataframe\">\n",
       "  <thead>\n",
       "    <tr style=\"text-align: right;\">\n",
       "      <th></th>\n",
       "      <th>score</th>\n",
       "      <th>attempts</th>\n",
       "    </tr>\n",
       "  </thead>\n",
       "  <tbody>\n",
       "    <tr>\n",
       "      <th>count</th>\n",
       "      <td>8.000000</td>\n",
       "      <td>10.000000</td>\n",
       "    </tr>\n",
       "    <tr>\n",
       "      <th>mean</th>\n",
       "      <td>13.562500</td>\n",
       "      <td>1.900000</td>\n",
       "    </tr>\n",
       "    <tr>\n",
       "      <th>std</th>\n",
       "      <td>4.693746</td>\n",
       "      <td>0.875595</td>\n",
       "    </tr>\n",
       "    <tr>\n",
       "      <th>min</th>\n",
       "      <td>8.000000</td>\n",
       "      <td>1.000000</td>\n",
       "    </tr>\n",
       "    <tr>\n",
       "      <th>25%</th>\n",
       "      <td>9.000000</td>\n",
       "      <td>1.000000</td>\n",
       "    </tr>\n",
       "    <tr>\n",
       "      <th>50%</th>\n",
       "      <td>13.500000</td>\n",
       "      <td>2.000000</td>\n",
       "    </tr>\n",
       "    <tr>\n",
       "      <th>75%</th>\n",
       "      <td>17.125000</td>\n",
       "      <td>2.750000</td>\n",
       "    </tr>\n",
       "    <tr>\n",
       "      <th>max</th>\n",
       "      <td>20.000000</td>\n",
       "      <td>3.000000</td>\n",
       "    </tr>\n",
       "  </tbody>\n",
       "</table>\n",
       "</div>"
      ],
      "text/plain": [
       "           score   attempts\n",
       "count   8.000000  10.000000\n",
       "mean   13.562500   1.900000\n",
       "std     4.693746   0.875595\n",
       "min     8.000000   1.000000\n",
       "25%     9.000000   1.000000\n",
       "50%    13.500000   2.000000\n",
       "75%    17.125000   2.750000\n",
       "max    20.000000   3.000000"
      ]
     },
     "execution_count": 65,
     "metadata": {},
     "output_type": "execute_result"
    }
   ],
   "source": [
    "df.describe()"
   ]
  },
  {
   "cell_type": "code",
   "execution_count": 62,
   "id": "2087c67a",
   "metadata": {},
   "outputs": [
    {
     "data": {
      "text/html": [
       "<div>\n",
       "<style scoped>\n",
       "    .dataframe tbody tr th:only-of-type {\n",
       "        vertical-align: middle;\n",
       "    }\n",
       "\n",
       "    .dataframe tbody tr th {\n",
       "        vertical-align: top;\n",
       "    }\n",
       "\n",
       "    .dataframe thead th {\n",
       "        text-align: right;\n",
       "    }\n",
       "</style>\n",
       "<table border=\"1\" class=\"dataframe\">\n",
       "  <thead>\n",
       "    <tr style=\"text-align: right;\">\n",
       "      <th></th>\n",
       "      <th>I am a column</th>\n",
       "      <th>I am column 2</th>\n",
       "      <th>I am the column 3</th>\n",
       "      <th>I am  4</th>\n",
       "    </tr>\n",
       "  </thead>\n",
       "  <tbody>\n",
       "    <tr>\n",
       "      <th>0</th>\n",
       "      <td>1</td>\n",
       "      <td>2</td>\n",
       "      <td>50</td>\n",
       "      <td>NaN</td>\n",
       "    </tr>\n",
       "    <tr>\n",
       "      <th>1</th>\n",
       "      <td>5</td>\n",
       "      <td>and I am a value</td>\n",
       "      <td>20</td>\n",
       "      <td>83.0</td>\n",
       "    </tr>\n",
       "  </tbody>\n",
       "</table>\n",
       "</div>"
      ],
      "text/plain": [
       "   I am a column     I am column 2  I am the column 3  I am  4\n",
       "0              1                 2                 50      NaN\n",
       "1              5  and I am a value                 20     83.0"
      ]
     },
     "execution_count": 62,
     "metadata": {},
     "output_type": "execute_result"
    }
   ],
   "source": [
    "#another example of a Dataframe\n",
    "import pandas as pd\n",
    "\n",
    "data2 = [{\"I am a column\": 1, \"I am column 2\": 2,\"I am the column 3\": 50}, {\"I am a column\": 5, \"I am column 2\": \"and I am a value\", \"I am the column 3\": 20,\"I am  4\":83}]\n",
    "\n",
    "Dataframe_example = pd.DataFrame(data2)\n",
    "\n",
    "Dataframe_example.head()"
   ]
  },
  {
   "cell_type": "markdown",
   "id": "dfb036ba",
   "metadata": {},
   "source": [
    "A Dataframe can be created in many different way. From an excel, csv, dictionaries, from arrays, lists."
   ]
  },
  {
   "cell_type": "markdown",
   "id": "afc5191e",
   "metadata": {},
   "source": [
    "tugas = pd.read_excel( _path to excel file_ )\n",
    "\n",
    "tugas2  =pd.read_csv( _path to csv file_ , encoding = \"latin-1\" , sep : \";\" )"
   ]
  },
  {
   "cell_type": "markdown",
   "id": "00e81903",
   "metadata": {},
   "source": [
    "After it is created it allows for a very easy manipula the table converted to a dataframe"
   ]
  },
  {
   "cell_type": "code",
   "execution_count": 48,
   "id": "3a15abf6",
   "metadata": {},
   "outputs": [
    {
     "data": {
      "text/html": [
       "<div>\n",
       "<style scoped>\n",
       "    .dataframe tbody tr th:only-of-type {\n",
       "        vertical-align: middle;\n",
       "    }\n",
       "\n",
       "    .dataframe tbody tr th {\n",
       "        vertical-align: top;\n",
       "    }\n",
       "\n",
       "    .dataframe thead th {\n",
       "        text-align: right;\n",
       "    }\n",
       "</style>\n",
       "<table border=\"1\" class=\"dataframe\">\n",
       "  <thead>\n",
       "    <tr style=\"text-align: right;\">\n",
       "      <th></th>\n",
       "      <th>I am a column</th>\n",
       "      <th>I am the column 3</th>\n",
       "      <th>I am  4</th>\n",
       "    </tr>\n",
       "  </thead>\n",
       "  <tbody>\n",
       "    <tr>\n",
       "      <th>0</th>\n",
       "      <td>1</td>\n",
       "      <td>50</td>\n",
       "      <td>NaN</td>\n",
       "    </tr>\n",
       "    <tr>\n",
       "      <th>1</th>\n",
       "      <td>5</td>\n",
       "      <td>20</td>\n",
       "      <td>83.0</td>\n",
       "    </tr>\n",
       "  </tbody>\n",
       "</table>\n",
       "</div>"
      ],
      "text/plain": [
       "   I am a column  I am the column 3  I am  4\n",
       "0              1                 50      NaN\n",
       "1              5                 20     83.0"
      ]
     },
     "execution_count": 48,
     "metadata": {},
     "output_type": "execute_result"
    }
   ],
   "source": [
    "#Drop columns\n",
    "Dataframe_example.drop(labels = ['I am column 2'], axis = 1, inplace = True)\n",
    "Dataframe_example.head()"
   ]
  },
  {
   "cell_type": "code",
   "execution_count": 49,
   "id": "0be39aec",
   "metadata": {},
   "outputs": [
    {
     "data": {
      "text/html": [
       "<div>\n",
       "<style scoped>\n",
       "    .dataframe tbody tr th:only-of-type {\n",
       "        vertical-align: middle;\n",
       "    }\n",
       "\n",
       "    .dataframe tbody tr th {\n",
       "        vertical-align: top;\n",
       "    }\n",
       "\n",
       "    .dataframe thead th {\n",
       "        text-align: right;\n",
       "    }\n",
       "</style>\n",
       "<table border=\"1\" class=\"dataframe\">\n",
       "  <thead>\n",
       "    <tr style=\"text-align: right;\">\n",
       "      <th></th>\n",
       "      <th>I am a column</th>\n",
       "      <th>I am number 3</th>\n",
       "      <th>I am  4</th>\n",
       "    </tr>\n",
       "  </thead>\n",
       "  <tbody>\n",
       "    <tr>\n",
       "      <th>0</th>\n",
       "      <td>1</td>\n",
       "      <td>50</td>\n",
       "      <td>NaN</td>\n",
       "    </tr>\n",
       "    <tr>\n",
       "      <th>1</th>\n",
       "      <td>5</td>\n",
       "      <td>20</td>\n",
       "      <td>83.0</td>\n",
       "    </tr>\n",
       "  </tbody>\n",
       "</table>\n",
       "</div>"
      ],
      "text/plain": [
       "   I am a column  I am number 3  I am  4\n",
       "0              1             50      NaN\n",
       "1              5             20     83.0"
      ]
     },
     "execution_count": 49,
     "metadata": {},
     "output_type": "execute_result"
    }
   ],
   "source": [
    "#Change column names\n",
    "Dataframe_example.rename(columns={'I am the column 3':'I am number 3'}, inplace = True)\n",
    "Dataframe_example.head()"
   ]
  },
  {
   "cell_type": "code",
   "execution_count": 50,
   "id": "e9e7b265",
   "metadata": {},
   "outputs": [
    {
     "data": {
      "text/html": [
       "<div>\n",
       "<style scoped>\n",
       "    .dataframe tbody tr th:only-of-type {\n",
       "        vertical-align: middle;\n",
       "    }\n",
       "\n",
       "    .dataframe tbody tr th {\n",
       "        vertical-align: top;\n",
       "    }\n",
       "\n",
       "    .dataframe thead th {\n",
       "        text-align: right;\n",
       "    }\n",
       "</style>\n",
       "<table border=\"1\" class=\"dataframe\">\n",
       "  <thead>\n",
       "    <tr style=\"text-align: right;\">\n",
       "      <th></th>\n",
       "      <th>I am number 3</th>\n",
       "      <th>I am  4</th>\n",
       "    </tr>\n",
       "    <tr>\n",
       "      <th>I am a column</th>\n",
       "      <th></th>\n",
       "      <th></th>\n",
       "    </tr>\n",
       "  </thead>\n",
       "  <tbody>\n",
       "    <tr>\n",
       "      <th>1</th>\n",
       "      <td>50</td>\n",
       "      <td>NaN</td>\n",
       "    </tr>\n",
       "    <tr>\n",
       "      <th>5</th>\n",
       "      <td>20</td>\n",
       "      <td>83.0</td>\n",
       "    </tr>\n",
       "  </tbody>\n",
       "</table>\n",
       "</div>"
      ],
      "text/plain": [
       "               I am number 3  I am  4\n",
       "I am a column                        \n",
       "1                         50      NaN\n",
       "5                         20     83.0"
      ]
     },
     "execution_count": 50,
     "metadata": {},
     "output_type": "execute_result"
    }
   ],
   "source": [
    "#Set an index\n",
    "Dataframe_example.set_index('I am a column', inplace = True)\n",
    "Dataframe_example.head()"
   ]
  },
  {
   "cell_type": "code",
   "execution_count": 51,
   "id": "0230defc",
   "metadata": {},
   "outputs": [
    {
     "data": {
      "text/plain": [
       "dtype('int64')"
      ]
     },
     "execution_count": 51,
     "metadata": {},
     "output_type": "execute_result"
    }
   ],
   "source": [
    "#Check and Convert Data type\n",
    "\n",
    "Dataframe_example['I am number 3'].dtype"
   ]
  },
  {
   "cell_type": "code",
   "execution_count": 52,
   "id": "53220030",
   "metadata": {},
   "outputs": [
    {
     "data": {
      "text/plain": [
       "dtype('int32')"
      ]
     },
     "execution_count": 52,
     "metadata": {},
     "output_type": "execute_result"
    }
   ],
   "source": [
    "Dataframe_example['I am number 3'] = Dataframe_example['I am number 3'].astype('int32')\n",
    "Dataframe_example['I am number 3'].dtype"
   ]
  },
  {
   "cell_type": "code",
   "execution_count": 53,
   "id": "a72c8c3c",
   "metadata": {},
   "outputs": [
    {
     "data": {
      "text/html": [
       "<div>\n",
       "<style scoped>\n",
       "    .dataframe tbody tr th:only-of-type {\n",
       "        vertical-align: middle;\n",
       "    }\n",
       "\n",
       "    .dataframe tbody tr th {\n",
       "        vertical-align: top;\n",
       "    }\n",
       "\n",
       "    .dataframe thead th {\n",
       "        text-align: right;\n",
       "    }\n",
       "</style>\n",
       "<table border=\"1\" class=\"dataframe\">\n",
       "  <thead>\n",
       "    <tr style=\"text-align: right;\">\n",
       "      <th></th>\n",
       "      <th>I am number 3</th>\n",
       "      <th>I am  4</th>\n",
       "    </tr>\n",
       "    <tr>\n",
       "      <th>I am a column</th>\n",
       "      <th></th>\n",
       "      <th></th>\n",
       "    </tr>\n",
       "  </thead>\n",
       "  <tbody>\n",
       "    <tr>\n",
       "      <th>1</th>\n",
       "      <td>99999</td>\n",
       "      <td>NaN</td>\n",
       "    </tr>\n",
       "    <tr>\n",
       "      <th>5</th>\n",
       "      <td>20</td>\n",
       "      <td>83.0</td>\n",
       "    </tr>\n",
       "  </tbody>\n",
       "</table>\n",
       "</div>"
      ],
      "text/plain": [
       "               I am number 3  I am  4\n",
       "I am a column                        \n",
       "1                      99999      NaN\n",
       "5                         20     83.0"
      ]
     },
     "execution_count": 53,
     "metadata": {},
     "output_type": "execute_result"
    }
   ],
   "source": [
    "#Replace values\n",
    "Dataframe_example['I am number 3'].replace(to_replace = 50,value = 99999, inplace = True)\n",
    "Dataframe_example.head()"
   ]
  },
  {
   "cell_type": "code",
   "execution_count": 54,
   "id": "a4cec785",
   "metadata": {},
   "outputs": [
    {
     "data": {
      "text/plain": [
       "I am number 3    0\n",
       "I am  4          1\n",
       "dtype: int64"
      ]
     },
     "execution_count": 54,
     "metadata": {},
     "output_type": "execute_result"
    }
   ],
   "source": [
    "#Ceck mising values\n",
    "\n",
    "Dataframe_example.isna().sum()"
   ]
  },
  {
   "cell_type": "code",
   "execution_count": 55,
   "id": "2ddde835",
   "metadata": {},
   "outputs": [
    {
     "data": {
      "text/html": [
       "<div>\n",
       "<style scoped>\n",
       "    .dataframe tbody tr th:only-of-type {\n",
       "        vertical-align: middle;\n",
       "    }\n",
       "\n",
       "    .dataframe tbody tr th {\n",
       "        vertical-align: top;\n",
       "    }\n",
       "\n",
       "    .dataframe thead th {\n",
       "        text-align: right;\n",
       "    }\n",
       "</style>\n",
       "<table border=\"1\" class=\"dataframe\">\n",
       "  <thead>\n",
       "    <tr style=\"text-align: right;\">\n",
       "      <th></th>\n",
       "      <th>I am number 3</th>\n",
       "      <th>I am  4</th>\n",
       "    </tr>\n",
       "    <tr>\n",
       "      <th>I am a column</th>\n",
       "      <th></th>\n",
       "      <th></th>\n",
       "    </tr>\n",
       "  </thead>\n",
       "  <tbody>\n",
       "    <tr>\n",
       "      <th>5</th>\n",
       "      <td>20</td>\n",
       "      <td>83.0</td>\n",
       "    </tr>\n",
       "  </tbody>\n",
       "</table>\n",
       "</div>"
      ],
      "text/plain": [
       "               I am number 3  I am  4\n",
       "I am a column                        \n",
       "5                         20     83.0"
      ]
     },
     "execution_count": 55,
     "metadata": {},
     "output_type": "execute_result"
    }
   ],
   "source": [
    "# Filter out missing values\n",
    "\n",
    "Dataframe_example2 = Dataframe_example.dropna()  # this drops rows containing missing values\n",
    "Dataframe_example2.head()\n"
   ]
  },
  {
   "cell_type": "code",
   "execution_count": 56,
   "id": "c9a3fda0",
   "metadata": {},
   "outputs": [
    {
     "data": {
      "text/html": [
       "<div>\n",
       "<style scoped>\n",
       "    .dataframe tbody tr th:only-of-type {\n",
       "        vertical-align: middle;\n",
       "    }\n",
       "\n",
       "    .dataframe tbody tr th {\n",
       "        vertical-align: top;\n",
       "    }\n",
       "\n",
       "    .dataframe thead th {\n",
       "        text-align: right;\n",
       "    }\n",
       "</style>\n",
       "<table border=\"1\" class=\"dataframe\">\n",
       "  <thead>\n",
       "    <tr style=\"text-align: right;\">\n",
       "      <th></th>\n",
       "      <th>I am number 3</th>\n",
       "      <th>I am  4</th>\n",
       "    </tr>\n",
       "    <tr>\n",
       "      <th>I am a column</th>\n",
       "      <th></th>\n",
       "      <th></th>\n",
       "    </tr>\n",
       "  </thead>\n",
       "  <tbody>\n",
       "    <tr>\n",
       "      <th>1</th>\n",
       "      <td>99999</td>\n",
       "      <td>0.0</td>\n",
       "    </tr>\n",
       "    <tr>\n",
       "      <th>5</th>\n",
       "      <td>20</td>\n",
       "      <td>83.0</td>\n",
       "    </tr>\n",
       "  </tbody>\n",
       "</table>\n",
       "</div>"
      ],
      "text/plain": [
       "               I am number 3  I am  4\n",
       "I am a column                        \n",
       "1                      99999      0.0\n",
       "5                         20     83.0"
      ]
     },
     "execution_count": 56,
     "metadata": {},
     "output_type": "execute_result"
    }
   ],
   "source": [
    "Dataframe_example = Dataframe_example.fillna(0) - #This fill the dataframe with the desired value (could be dynamic, eg. avg/mean)\n",
    "Dataframe_example.head()"
   ]
  },
  {
   "cell_type": "code",
   "execution_count": 57,
   "id": "a27908e3",
   "metadata": {},
   "outputs": [
    {
     "data": {
      "text/html": [
       "<div>\n",
       "<style scoped>\n",
       "    .dataframe tbody tr th:only-of-type {\n",
       "        vertical-align: middle;\n",
       "    }\n",
       "\n",
       "    .dataframe tbody tr th {\n",
       "        vertical-align: top;\n",
       "    }\n",
       "\n",
       "    .dataframe thead th {\n",
       "        text-align: right;\n",
       "    }\n",
       "</style>\n",
       "<table border=\"1\" class=\"dataframe\">\n",
       "  <thead>\n",
       "    <tr style=\"text-align: right;\">\n",
       "      <th></th>\n",
       "      <th>I am number 3</th>\n",
       "      <th>I am  4</th>\n",
       "      <th>Current Date</th>\n",
       "    </tr>\n",
       "    <tr>\n",
       "      <th>I am a column</th>\n",
       "      <th></th>\n",
       "      <th></th>\n",
       "      <th></th>\n",
       "    </tr>\n",
       "  </thead>\n",
       "  <tbody>\n",
       "    <tr>\n",
       "      <th>1</th>\n",
       "      <td>99999</td>\n",
       "      <td>0.0</td>\n",
       "      <td>2022-04-22</td>\n",
       "    </tr>\n",
       "    <tr>\n",
       "      <th>5</th>\n",
       "      <td>20</td>\n",
       "      <td>83.0</td>\n",
       "      <td>2022-04-22</td>\n",
       "    </tr>\n",
       "  </tbody>\n",
       "</table>\n",
       "</div>"
      ],
      "text/plain": [
       "               I am number 3  I am  4 Current Date\n",
       "I am a column                                     \n",
       "1                      99999      0.0   2022-04-22\n",
       "5                         20     83.0   2022-04-22"
      ]
     },
     "execution_count": 57,
     "metadata": {},
     "output_type": "execute_result"
    }
   ],
   "source": [
    "#Creation of new columns\n",
    "\n",
    "from datetime import date\n",
    "Dataframe_example['Current Date'] = date.today() # This adds a new column with the fixed value of today\n",
    "Dataframe_example.head()"
   ]
  },
  {
   "cell_type": "markdown",
   "id": "595d2d5c",
   "metadata": {},
   "source": [
    "Finally, the dataframe can be stored somewhere. A csv or excel can be created from that. It can be used to update a SQL table, etc."
   ]
  },
  {
   "cell_type": "markdown",
   "id": "fae42b1b",
   "metadata": {},
   "source": [
    "The above code is saving the dataframe to a new csv file inside the desired local path.\n",
    "\n",
    "_Dataframe_example.to_csv(\"path/example_file.csv\")_"
   ]
  },
  {
   "cell_type": "markdown",
   "id": "5ecdd520",
   "metadata": {},
   "source": [
    "__Please, do Exercise 13 now.__"
   ]
  },
  {
   "cell_type": "markdown",
   "id": "e1ca6046",
   "metadata": {},
   "source": [
    "### g. Classes"
   ]
  },
  {
   "cell_type": "markdown",
   "id": "b9f15909",
   "metadata": {},
   "source": [
    "Python is an objected oriented language. Strings, lists, tuples (etc.) are specific objects each one with specific rules and functions that can be applied to them.\n",
    "\n",
    "The class is the model/prototype of those objects we all the rules to initiate a new elememnt of that object are defined.\n",
    "\n",
    "You can create a new type of Python Object by creating a new class. You can also create methods and functions to be used with that class.\n",
    "\n",
    "Classes are a great way to store scripts that you intend to call "
   ]
  },
  {
   "cell_type": "markdown",
   "id": "b4b46f9c",
   "metadata": {},
   "source": [
    "Let's create an example. Imagine that we want to create a Class to store dog information in a system. This class will define all the rules that the object dog will have each time a new one is created\n",
    "\n",
    "Each object dog will need:\n",
    "* __Identity__ - something that will distinguish one object dog from another when they are called(e.g. name)\n",
    "* __State__ - Atrrbiutes that the object dog can be created with (eg. color of the fur, age, breed)\n",
    "* __Behaviors__ - These are functions/actions that the object dog can have (eg. bark, sleep, eat)\n",
    "\n"
   ]
  },
  {
   "cell_type": "code",
   "execution_count": 33,
   "id": "34b9a46a",
   "metadata": {},
   "outputs": [
    {
     "name": "stdout",
     "output_type": "stream",
     "text": [
      "mammal\n",
      "I'm a mammal\n",
      "I'm a dog\n"
     ]
    }
   ],
   "source": [
    "class Dog: #class names usualize are capitalized\n",
    "    \n",
    "    attr1 = \"mammal\" #these are Class variables\n",
    "    attr2 = \"dog\"\n",
    "    \n",
    "    def fun(self): #when creating a method inside a class you always need to include a self parameter. This parameter is never specified when calling the method\n",
    "        print(\"I'm a\", self.attr1)\n",
    "        print(\"I'm a\", self.attr2)\n",
    "    \n",
    "\n",
    "rodolfo = Dog() #this created the object Dog, defined on the class Dog above\n",
    "print(rodolfo.attr1) #this calls one the defined attributes\n",
    "\n",
    "rodolfo.fun() #this will use the method fun on the object rodolfo"
   ]
  },
  {
   "cell_type": "code",
   "execution_count": null,
   "id": "e1c051b7",
   "metadata": {},
   "outputs": [],
   "source": [
    "# a more advanced example\n",
    "\n",
    "class Dog:\n",
    "   \n",
    "    # Class Variable\n",
    "    animal = 'dog'\n",
    "    \n",
    "    # __init__ method or constructor, this is a special method that will run automatically by Python everytime the oject is created. Usually it is a good place to specify instructions that need to be followed always\n",
    "    def __init__(self,name):\n",
    "        self.attr1 = \"mammal\"\n",
    "        self.attr2 = \"dog\"\n",
    "        self.name = name\n",
    "   \n",
    "    # Sample Method \n",
    "    def bark(self):\n",
    "        print(self.name,\"is a\",self.attr1,self.animal,\"that barked. Good for him.\")\n",
    "        \n",
    "        \n",
    "        \n",
    "dog1 = Dog('Rodolfo')\n",
    "dog1.bark()"
   ]
  },
  {
   "cell_type": "markdown",
   "id": "4e0abc08",
   "metadata": {},
   "source": [
    "Attributes and methods from a classe can be used by other classes. This is called inheritance."
   ]
  },
  {
   "cell_type": "code",
   "execution_count": 52,
   "id": "b0afcffc",
   "metadata": {},
   "outputs": [
    {
     "name": "stdout",
     "output_type": "stream",
     "text": [
      "Afonso bites.\n"
     ]
    }
   ],
   "source": [
    "#Here we hav a parent class\n",
    "class Animal:\n",
    "    def __init__(self,name):\n",
    "        self.name=name\n",
    "        \n",
    "    def show(self):\n",
    "        print(\"Nome\",self.name)\n",
    "        \n",
    "        \n",
    "#And here we will create a class that will use the above class\n",
    "\n",
    "class Dog (Animal):\n",
    "    def bite(self):\n",
    "        print(self.name,\"bites.\")\n",
    "        \n",
    "        \n",
    "dog1 = Dog(\"Afonso\")\n",
    "\n",
    "dog1.bite()\n"
   ]
  },
  {
   "cell_type": "markdown",
   "id": "b965b789",
   "metadata": {},
   "source": [
    "__Please, do Exercise 14 now.__"
   ]
  },
  {
   "cell_type": "markdown",
   "id": "84d98938",
   "metadata": {},
   "source": [
    "### h. Graphical Interface"
   ]
  },
  {
   "cell_type": "markdown",
   "id": "2e002f11",
   "metadata": {},
   "source": [
    "The graphical user interface (GUI) is a form of user interface that allows users to interact with electronic devices through graphical icons and audio indicator such as primary notation, instead of text-based user interfaces, typed command labels or text navigation.\n",
    "\n",
    "Although Python is not usually the best language (e.g. Javascript) to develop GUI programs there are some libraries that can be used to achieve that in a easy way."
   ]
  },
  {
   "cell_type": "markdown",
   "id": "8e96ca13",
   "metadata": {},
   "source": [
    "Below are some examples of available librareis in Python for GUI:\n",
    "* tkinter - i will focus on this one for now\n",
    "* PySimpleGUI\n",
    "* PYQt\n",
    "* PuSide\n",
    "* kivy\n"
   ]
  },
  {
   "cell_type": "markdown",
   "id": "d063e7f9",
   "metadata": {},
   "source": [
    "When creating a GUI application there are some steps that need to be followed:\n",
    "* Import module to be used\n",
    "* Create GUI application window\n",
    "* Add one or more of the above-mentioned widgets to the GUI application.\n",
    "* Enter the main event loop to take action against each event triggered by the user.\n",
    "    "
   ]
  },
  {
   "cell_type": "code",
   "execution_count": 1,
   "id": "c74e6a6a",
   "metadata": {},
   "outputs": [],
   "source": [
    "import tkinter\n",
    "\n",
    "window = tkinter.Tk() # this creates the window of the app\n",
    "\n",
    "window.title(\"My Program\") # This command defines the name of the window\n",
    "\n",
    "window.geometry(\"300x100\") # this way you can define the \n",
    "\n",
    "window.mainloop() # this will execute the window until it will be requested to be closed. The window will only appears after running this line"
   ]
  },
  {
   "cell_type": "markdown",
   "id": "3f68c7b8",
   "metadata": {},
   "source": [
    "To manage content inside the window there are some packs that can be used, with different strategies in mind:\n",
    "\n",
    "* pack() - This geometry manager organizes widgets in blocks before placing them in the parent widget.\n",
    "* grid() - This geometry manager organizes widgets in a table-like structure in the parent widget.\n",
    "* pack() - This geometry manager organizes widgets by placing them in a specific position in the parent widget.\n",
    "\n",
    "So the objective now will be to create widgets (buttons, menus, etc.) and then placing them in the window using one of the strategies above."
   ]
  },
  {
   "cell_type": "code",
   "execution_count": 3,
   "id": "4d413c73",
   "metadata": {},
   "outputs": [],
   "source": [
    "import tkinter\n",
    "\n",
    "window = tkinter.Tk() # this creates the window of the app\n",
    "\n",
    "#Including a Label\n",
    "\n",
    "label = tkinter.Label( window, text = \"Hey!? How are you doing?\", font = ('Calibri Light',21),bg=\"black\",fg=\"white\") #This will place a label with the stated text on the windw\n",
    "\n",
    "label.pack() #This will place the Label on the window# Including a Button\n",
    "\n",
    "#Including a Button\n",
    "\n",
    "def action():#Here I will define what will happen when pressing the button\n",
    "    window2 = tkinter.Tk()\n",
    "    label2 = tkinter.Label( window2, text = \"You pressed the butoon!!!!\", font = ('Calibri Light',21),bg=\"yellow\",fg=\"red\")\n",
    "    label2.pack()\n",
    "    window2.mainloop()\n",
    "    \n",
    "button = tkinter.Button(window,text=\"This is a button\",command=action)\n",
    "\n",
    "button.pack() #We always need to place the widget on the window\n",
    "\n",
    "\n",
    "#Including a Text Box\n",
    "\n",
    "txt = tkinter.Entry(window,bd=5,width=19)\n",
    "txt.pack()\n",
    "\n",
    "#Adding a Menu\n",
    "\n",
    "def donothing():\n",
    "   filewin = Toplevel(window)\n",
    "   button = Button(filewin, text=\"This buton does nothing\")\n",
    "   button.pack()\n",
    "\n",
    "\n",
    "menubar = tkinter.Menu(window) # this is used to initiate the menu bar\n",
    "filemenu = tkinter.Menu(menubar, tearoff=0) #This will create the object for the first menu\n",
    "\n",
    "menubar.add_cascade(label=\"File\", menu=filemenu) #This will create the first carcade menu\n",
    "filemenu.add_command(label=\"New\", command=donothing) #This will add an item to that menu slide\n",
    "filemenu.add_command(label=\"Exit\", command=window.quit)\n",
    "\n",
    "editmenu = tkinter.Menu(menubar, tearoff=0)\n",
    "menubar.add_cascade(label=\"Edit\", menu=editmenu)\n",
    "editmenu.add_command(label=\"Copy\", command=donothing)\n",
    "\n",
    "window.config(menu=menubar) # the menu definition needs to end with this\n",
    "\n",
    "window.mainloop() # this will execute the window until it will be requested to be closed\n"
   ]
  },
  {
   "cell_type": "markdown",
   "id": "212468ad",
   "metadata": {},
   "source": [
    "__Próximos Passos:__\n",
    "* Aceder a uma base de dados SQL (realizar criar, criar tabelas/atualizar registos)\n",
    "* Transformações a tabelas com pandas\n",
    "* Aceder a Sharepoint Folders e Lists\n",
    "* Primeiros passos em machine learning\n",
    "* Criação de executáveis"
   ]
  }
 ],
 "metadata": {
  "kernelspec": {
   "display_name": "Python 3 (ipykernel)",
   "language": "python",
   "name": "python3"
  },
  "language_info": {
   "codemirror_mode": {
    "name": "ipython",
    "version": 3
   },
   "file_extension": ".py",
   "mimetype": "text/x-python",
   "name": "python",
   "nbconvert_exporter": "python",
   "pygments_lexer": "ipython3",
   "version": "3.9.12"
  }
 },
 "nbformat": 4,
 "nbformat_minor": 5
}
