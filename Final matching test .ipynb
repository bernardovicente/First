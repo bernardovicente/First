{
 "cells": [
  {
   "cell_type": "code",
   "execution_count": 12,
   "id": "4cf20226",
   "metadata": {},
   "outputs": [
    {
     "name": "stdout",
     "output_type": "stream",
     "text": [
      "INDEX | float64 | 6\n",
      "JAL | object | 3\n",
      "NUM | float64 | 5\n",
      "NATURE | object | 2\n",
      "DATE | datetime64[ns] | 10\n",
      "CODE_DEVISE | object | 3\n",
      "DATE_CREAT | datetime64[ns] | 10\n",
      "DATE_MODIF | datetime64[ns] | 10\n",
      "DATE_MAX_LETTR | object | 19\n",
      "DERN_UTILISATEUR | object | 2\n",
      "REF_INTERNE | object | 35\n",
      "LIBELLE | object | 35\n",
      "GENERAL | float64 | 10\n",
      "AUXILIAIRE | float64 | 10\n",
      "DEBIT | float64 | 10\n",
      "CREDIT | float64 | 9\n",
      "CODE_LETTR | object | 4\n",
      "ECHEANCE | datetime64[ns] | 10\n",
      "SIREN_SIRET | object | 16\n",
      "GENERAL_CONTR | float64 | 10\n",
      "AUXILIAIRE_CONTR | float64 | 10\n"
     ]
    },
    {
     "name": "stderr",
     "output_type": "stream",
     "text": [
      "C:\\Users\\AROLMCAC\\Anaconda3\\lib\\site-packages\\openpyxl\\worksheet\\_reader.py:312: UserWarning: Unknown extension is not supported and will be removed\n",
      "  warn(msg)\n",
      "C:\\Temp\\ipykernel_14108\\2616929271.py:41: FutureWarning: Indexing with multiple keys (implicitly converted to a tuple of keys) will be deprecated, use a list instead.\n",
      "  dflast = DF_MT.groupby( ['TECHNICAL_NAME'])['TECHNICAL_NAME','Column Datatype','TYPE', 'File length Column', 'LENGTH', 'Status' ].max()\n"
     ]
    }
   ],
   "source": [
    "import pandas as pd\n",
    "import glob\n",
    "import numpy as np\n",
    "from decimal import *\n",
    "\n",
    "path = r'C:\\Users\\AROLMCAC\\Desktop\\Test python\\Accounting_data\\COMPTA.xlsx' #-----------> Required to change file path \n",
    "test = pd.read_excel(path) #Add file path\n",
    "test.columns = test.columns.str.upper()\n",
    "\n",
    "for column in test.columns:\n",
    "    print(column,\"|\", test[column].dtype.name,\"|\",test[column].astype(str).str.len().max()) #just to test\n",
    "\n",
    "    \n",
    "TEST1 = []\n",
    "for column in test.columns:\n",
    "    TEST1.append(\n",
    "        {\n",
    "            'TECHNICAL_NAME': column,\n",
    "            'Column Datatype': test[column].dtype.name,\n",
    "            'File length Column': test[column].astype(str).str.len().max()}                \n",
    "    )                                                                  #Loop to join the column file information\n",
    "\n",
    "    \n",
    "#df = df.replace({';':','},regex=True) Replace delimiter\n",
    "\n",
    "MT= pd.DataFrame(TEST1) #create dataframe \n",
    "\n",
    "\n",
    "System = r'C:\\Users\\AROLMCAC\\Desktop\\Test python\\Systems\\C11_CEGID_Table_SQL.xlsx' #-------------> required to change table structure\n",
    "\n",
    "test1 = pd.read_excel(System)\n",
    "\n",
    "df4 =test1.query(\"TABLE == 'COMPTA'\")    #-----------> required to change TABLE \n",
    "\n",
    "DF_MT=pd.merge(MT,df4, on='TECHNICAL_NAME')\n",
    "\n",
    "DF_MT['LENGTH'] = DF_MT['LENGTH'].astype(int)\n",
    "\n",
    "DF_MT['Status'] = np.where(DF_MT['File length Column'] > DF_MT['LENGTH'], \"NOT OK\",\"OK\" )\n",
    "\n",
    "dflast = DF_MT.groupby( ['TECHNICAL_NAME'])['TECHNICAL_NAME','Column Datatype','TYPE', 'File length Column', 'LENGTH', 'Status' ].max()\n",
    "\n",
    "\n",
    "\n",
    "\n",
    "with pd.ExcelWriter(r'C:\\\\Users\\\\AROLMCAC\\\\Desktop\\\\MATCHTEST.xlsx') as writer:   #Save to excel file \n",
    "    MT.to_excel(writer, sheet_name='Test', index = False)\n",
    "    test1.to_excel(writer, sheet_name='system', index = False)\n",
    "    dflast.to_excel(writer, sheet_name='Join', index = False)\n",
    "\n",
    "\n"
   ]
  },
  {
   "cell_type": "code",
   "execution_count": null,
   "id": "98e0717b",
   "metadata": {},
   "outputs": [],
   "source": []
  }
 ],
 "metadata": {
  "kernelspec": {
   "display_name": "Python 3 (ipykernel)",
   "language": "python",
   "name": "python3"
  },
  "language_info": {
   "codemirror_mode": {
    "name": "ipython",
    "version": 3
   },
   "file_extension": ".py",
   "mimetype": "text/x-python",
   "name": "python",
   "nbconvert_exporter": "python",
   "pygments_lexer": "ipython3",
   "version": "3.9.12"
  }
 },
 "nbformat": 4,
 "nbformat_minor": 5
}
